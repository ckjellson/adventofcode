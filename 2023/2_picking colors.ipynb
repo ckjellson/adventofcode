{
 "cells": [
  {
   "cell_type": "markdown",
   "metadata": {},
   "source": [
    "# Parsing"
   ]
  },
  {
   "cell_type": "code",
   "execution_count": 1,
   "metadata": {},
   "outputs": [],
   "source": [
    "with open(\"data/input2.txt\") as f:\n",
    "    ls = f.readlines()\n",
    "    ls = [l.rstrip(\"\\n\") for l in ls]"
   ]
  },
  {
   "cell_type": "markdown",
   "metadata": {},
   "source": [
    "# Part 1"
   ]
  },
  {
   "cell_type": "code",
   "execution_count": 2,
   "metadata": {},
   "outputs": [
    {
     "data": {
      "text/plain": [
       "2679"
      ]
     },
     "execution_count": 2,
     "metadata": {},
     "output_type": "execute_result"
    }
   ],
   "source": [
    "def check_game(l):\n",
    "    id = int(l.split(\":\")[0].split(\" \")[1])\n",
    "    gm = l.split(\":\")[1][1:]\n",
    "    possible = True\n",
    "    counts = {\"red\": 12, \"blue\": 14, \"green\": 13}\n",
    "    for rnd in gm.split(\";\"):\n",
    "        for cnt in rnd.lstrip(\" \").split(\", \"):\n",
    "            nbr = int(cnt.split(\" \")[0])\n",
    "            col = cnt.split(\" \")[1]\n",
    "            if counts[col]<nbr:\n",
    "                possible = False\n",
    "    if possible:\n",
    "        return id\n",
    "    return 0\n",
    "\n",
    "accum = 0\n",
    "for l in ls:\n",
    "    accum += check_game(l)\n",
    "accum"
   ]
  },
  {
   "cell_type": "markdown",
   "metadata": {},
   "source": [
    "# Part 2"
   ]
  },
  {
   "cell_type": "code",
   "execution_count": 3,
   "metadata": {},
   "outputs": [
    {
     "data": {
      "text/plain": [
       "77607"
      ]
     },
     "execution_count": 3,
     "metadata": {},
     "output_type": "execute_result"
    }
   ],
   "source": [
    "def check_game(l):\n",
    "    gm = l.split(\":\")[1][1:]\n",
    "    counts = {\"red\": 0, \"blue\": 0, \"green\": 0}\n",
    "    for rnd in gm.split(\";\"):\n",
    "        for cnt in rnd.lstrip(\" \").split(\", \"):\n",
    "            nbr = int(cnt.split(\" \")[0])\n",
    "            col = cnt.split(\" \")[1]\n",
    "            if counts[col]<nbr:\n",
    "                counts[col] = nbr\n",
    "    return counts[\"red\"]*counts[\"blue\"]*counts[\"green\"]\n",
    "\n",
    "accum = 0\n",
    "for l in ls:\n",
    "    accum += check_game(l)\n",
    "accum"
   ]
  },
  {
   "cell_type": "code",
   "execution_count": null,
   "metadata": {},
   "outputs": [],
   "source": []
  }
 ],
 "metadata": {
  "kernelspec": {
   "display_name": "dl",
   "language": "python",
   "name": "python3"
  },
  "language_info": {
   "codemirror_mode": {
    "name": "ipython",
    "version": 3
   },
   "file_extension": ".py",
   "mimetype": "text/x-python",
   "name": "python",
   "nbconvert_exporter": "python",
   "pygments_lexer": "ipython3",
   "version": "3.8.18"
  }
 },
 "nbformat": 4,
 "nbformat_minor": 2
}
