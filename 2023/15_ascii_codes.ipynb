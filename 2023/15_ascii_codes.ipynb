{
 "cells": [
  {
   "cell_type": "code",
   "execution_count": 1,
   "metadata": {},
   "outputs": [],
   "source": [
    "from collections import OrderedDict"
   ]
  },
  {
   "cell_type": "markdown",
   "metadata": {},
   "source": [
    "# Parsing"
   ]
  },
  {
   "cell_type": "code",
   "execution_count": 2,
   "metadata": {},
   "outputs": [],
   "source": [
    "with open(\"data/input15.txt\") as f:\n",
    "    data = f.read().rstrip(\"\\n\")\n",
    "ls = [[q for q in w.split(\",\")] for w in data.split(\"\\n\")]"
   ]
  },
  {
   "cell_type": "markdown",
   "metadata": {},
   "source": [
    "# Part 1"
   ]
  },
  {
   "cell_type": "code",
   "execution_count": 3,
   "metadata": {},
   "outputs": [
    {
     "data": {
      "text/plain": [
       "514394"
      ]
     },
     "execution_count": 3,
     "metadata": {},
     "output_type": "execute_result"
    }
   ],
   "source": [
    "def hashval(lets):\n",
    "    curval = 0\n",
    "    for let in lets:\n",
    "        curval += ord(let)\n",
    "        curval *= 17\n",
    "        curval = curval%256\n",
    "    return curval\n",
    "\n",
    "accum = 0\n",
    "for l in ls:\n",
    "    for w in l:\n",
    "        accum += hashval(w)\n",
    "accum"
   ]
  },
  {
   "cell_type": "markdown",
   "metadata": {},
   "source": [
    "# Part 2"
   ]
  },
  {
   "cell_type": "code",
   "execution_count": 4,
   "metadata": {},
   "outputs": [
    {
     "data": {
      "text/plain": [
       "236358"
      ]
     },
     "execution_count": 4,
     "metadata": {},
     "output_type": "execute_result"
    }
   ],
   "source": [
    "accum = 0\n",
    "for l in ls:\n",
    "    boxes = [OrderedDict() for _ in range(256)]\n",
    "    for w in l:\n",
    "        k,v = None, None\n",
    "        if \"=\" in w:\n",
    "            k = w.split(\"=\")[0]\n",
    "            v = int(w.split(\"=\")[1])\n",
    "            boxidx = hashval(k)\n",
    "            if k in boxes[boxidx]:\n",
    "                boxes[boxidx][k] = v\n",
    "            else:\n",
    "                boxes[boxidx][k] = v\n",
    "        else:\n",
    "            k = w.split(\"-\")[0]\n",
    "            boxidx = hashval(k)\n",
    "            if k in boxes[boxidx]:\n",
    "                del boxes[boxidx][k]\n",
    "    for boxidx, box in enumerate(boxes):\n",
    "        for i,(k,v)  in enumerate(box.items()):\n",
    "            accum += (boxidx+1)*(i+1)*v\n",
    "accum"
   ]
  },
  {
   "cell_type": "code",
   "execution_count": null,
   "metadata": {},
   "outputs": [],
   "source": []
  }
 ],
 "metadata": {
  "kernelspec": {
   "display_name": "dl",
   "language": "python",
   "name": "python3"
  },
  "language_info": {
   "codemirror_mode": {
    "name": "ipython",
    "version": 3
   },
   "file_extension": ".py",
   "mimetype": "text/x-python",
   "name": "python",
   "nbconvert_exporter": "python",
   "pygments_lexer": "ipython3",
   "version": "3.8.18"
  }
 },
 "nbformat": 4,
 "nbformat_minor": 2
}
