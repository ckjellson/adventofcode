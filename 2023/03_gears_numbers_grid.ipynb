{
 "cells": [
  {
   "cell_type": "markdown",
   "metadata": {},
   "source": [
    "# Parsing"
   ]
  },
  {
   "cell_type": "code",
   "execution_count": 5,
   "metadata": {},
   "outputs": [],
   "source": [
    "with open(\"data/input3.txt\") as f:\n",
    "    ls = f.readlines()\n",
    "    ls = [l.rstrip(\"\\n\") for l in ls]\n",
    "\n",
    "syms = [[[] for _ in range(len(ls))] for _ in range(len(ls[0]))]\n",
    "accum = 0\n",
    "for i in range(len(ls)):\n",
    "    for j in range(len(ls[0])):\n",
    "        if ls[i][j]!=\".\" and not ls[i][j].isnumeric():\n",
    "            syms[i][j] = 1"
   ]
  },
  {
   "cell_type": "markdown",
   "metadata": {},
   "source": [
    "# Part 1"
   ]
  },
  {
   "cell_type": "code",
   "execution_count": 6,
   "metadata": {},
   "outputs": [
    {
     "data": {
      "text/plain": [
       "509115"
      ]
     },
     "execution_count": 6,
     "metadata": {},
     "output_type": "execute_result"
    }
   ],
   "source": [
    "nums = []\n",
    "for i in range(len(ls)):\n",
    "    curnum = 0\n",
    "    nnum = 0\n",
    "    numfound = False\n",
    "    toadd = {}\n",
    "    for j in range(len(ls[0])):\n",
    "        if ls[i][j].isnumeric():\n",
    "            curnum = curnum*10 + int(ls[i][j])\n",
    "            numfound = True\n",
    "            nnum += 1\n",
    "        else:\n",
    "            if numfound:\n",
    "                poss = []\n",
    "                for k in range(j-nnum, j):\n",
    "                    poss.append((i,k))\n",
    "                nums.append((curnum, poss))\n",
    "            curnum = 0\n",
    "            nnum = 0\n",
    "            numfound = False\n",
    "    if numfound:\n",
    "        poss = []\n",
    "        for k in range(len(ls[0])-nnum, len(ls[0])):\n",
    "            poss.append((i,k))\n",
    "        nums.append((curnum, poss))\n",
    "accum = 0\n",
    "for numb, poss in nums:\n",
    "    used = False\n",
    "    for pos in poss:\n",
    "        for i in range(-1,2):\n",
    "            for j in range(-1,2):\n",
    "                if pos[0]+i>=0 and pos[0]+i<len(ls) and pos[1]+j>=0 and pos[1]+j<len(ls[0]) and syms[pos[0]+i][pos[1]+j]==1 and not used:\n",
    "                    accum += numb\n",
    "                    used = True\n",
    "accum"
   ]
  },
  {
   "cell_type": "markdown",
   "metadata": {},
   "source": [
    "# Part 2"
   ]
  },
  {
   "cell_type": "code",
   "execution_count": 7,
   "metadata": {},
   "outputs": [
    {
     "data": {
      "text/plain": [
       "75220503"
      ]
     },
     "execution_count": 7,
     "metadata": {},
     "output_type": "execute_result"
    }
   ],
   "source": [
    "nums = []\n",
    "for i in range(len(ls)):\n",
    "    curnum = 0\n",
    "    nnum = 0\n",
    "    numfound = False\n",
    "    toadd = {}\n",
    "    for j in range(len(ls[0])):\n",
    "        if ls[i][j].isnumeric():\n",
    "            curnum = curnum*10 + int(ls[i][j])\n",
    "            numfound = True\n",
    "            nnum += 1\n",
    "        else:\n",
    "            if numfound:\n",
    "                poss = []\n",
    "                for k in range(j-nnum, j):\n",
    "                    poss.append((i,k))\n",
    "                nums.append((curnum, poss))\n",
    "            curnum = 0\n",
    "            nnum = 0\n",
    "            numfound = False\n",
    "    if numfound:\n",
    "        poss = []\n",
    "        for k in range(len(ls[0])-nnum, len(ls[0])):\n",
    "            poss.append((i,k))\n",
    "        nums.append((curnum, poss))\n",
    "accum = 0\n",
    "gearcounts = {}\n",
    "for numb, poss in nums:\n",
    "    used = False\n",
    "    for pos in poss:\n",
    "        for i in range(-1,2):\n",
    "            for j in range(-1,2):\n",
    "                if pos[0]+i>=0 and pos[0]+i<len(ls) and pos[1]+j>=0 and pos[1]+j<len(ls[0]) and syms[pos[0]+i][pos[1]+j]==1 and not used:\n",
    "                    if (pos[0]+i,pos[1]+j) not in gearcounts:\n",
    "                        gearcounts[(pos[0]+i,pos[1]+j)] = [numb]\n",
    "                    else:\n",
    "                        gearcounts[(pos[0]+i,pos[1]+j)].append(numb)\n",
    "                    used = True\n",
    "for k,v in gearcounts.items():\n",
    "    if len(v)==2:\n",
    "        accum += v[0]*v[1]\n",
    "accum"
   ]
  },
  {
   "cell_type": "code",
   "execution_count": null,
   "metadata": {},
   "outputs": [],
   "source": []
  }
 ],
 "metadata": {
  "kernelspec": {
   "display_name": "dl",
   "language": "python",
   "name": "python3"
  },
  "language_info": {
   "codemirror_mode": {
    "name": "ipython",
    "version": 3
   },
   "file_extension": ".py",
   "mimetype": "text/x-python",
   "name": "python",
   "nbconvert_exporter": "python",
   "pygments_lexer": "ipython3",
   "version": "3.8.18"
  }
 },
 "nbformat": 4,
 "nbformat_minor": 2
}
