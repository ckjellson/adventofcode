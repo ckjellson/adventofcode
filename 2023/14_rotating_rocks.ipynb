{
 "cells": [
  {
   "cell_type": "code",
   "execution_count": 1,
   "metadata": {},
   "outputs": [],
   "source": [
    "import numpy as np"
   ]
  },
  {
   "cell_type": "markdown",
   "metadata": {},
   "source": [
    "# Parsing"
   ]
  },
  {
   "cell_type": "code",
   "execution_count": 2,
   "metadata": {},
   "outputs": [],
   "source": [
    "with open(\"data/input14.txt\") as f:\n",
    "    data = f.read().rstrip(\"\\n\")\n",
    "ls = [[c for c in w] for w in data.split(\"\\n\")]\n",
    "mat = np.zeros((len(ls), len(ls[0])))\n",
    "for i in range(len(ls)):\n",
    "    for j in range(len(ls[0])):\n",
    "        if ls[i][j]==\"O\":\n",
    "            mat[i,j] = 2\n",
    "        elif ls[i][j]==\"#\":\n",
    "            mat[i,j] = 1"
   ]
  },
  {
   "cell_type": "markdown",
   "metadata": {},
   "source": [
    "# Part 1"
   ]
  },
  {
   "cell_type": "code",
   "execution_count": 3,
   "metadata": {},
   "outputs": [
    {
     "name": "stdout",
     "output_type": "stream",
     "text": [
      "113525\n"
     ]
    }
   ],
   "source": [
    "accum = 0\n",
    "for col in range(mat.shape[1]):\n",
    "    rockpos = 0\n",
    "    nrows = mat.shape[0]\n",
    "    for row in range(mat.shape[0]):\n",
    "        if mat[row,col] == 2:\n",
    "            rockpos += 1\n",
    "            accum += nrows - rockpos + 1\n",
    "        elif mat[row,col] == 1:\n",
    "            rockpos = row + 1\n",
    "print(accum)"
   ]
  },
  {
   "cell_type": "markdown",
   "metadata": {},
   "source": [
    "# Part 2"
   ]
  },
  {
   "cell_type": "code",
   "execution_count": 4,
   "metadata": {},
   "outputs": [
    {
     "name": "stdout",
     "output_type": "stream",
     "text": [
      "101292\n"
     ]
    }
   ],
   "source": [
    "def cycle(mat):\n",
    "    north = mat.copy()\n",
    "    north[north==2] = 0\n",
    "\n",
    "    # North\n",
    "    for col in range(mat.shape[1]):\n",
    "        rockpos = 0\n",
    "        for row in range(mat.shape[0]):\n",
    "            if mat[row,col] == 2:\n",
    "                north[rockpos, col] = 2\n",
    "                rockpos += 1\n",
    "            elif mat[row,col] == 1:\n",
    "                rockpos = row + 1\n",
    "    north = np.rot90(north,k=3)\n",
    "    west = north.copy()\n",
    "    west[west==2] = 0\n",
    "\n",
    "    # West\n",
    "    for col in range(north.shape[1]):\n",
    "        rockpos = 0\n",
    "        for row in range(north.shape[0]):\n",
    "            if north[row,col] == 2:\n",
    "                west[rockpos, col] = 2\n",
    "                rockpos += 1\n",
    "            elif north[row,col] == 1:\n",
    "                rockpos = row + 1\n",
    "    west = np.rot90(west,k=3)\n",
    "    south = west.copy()\n",
    "    south[south==2] = 0\n",
    "\n",
    "    # South\n",
    "    for col in range(west.shape[1]):\n",
    "        rockpos = 0\n",
    "        for row in range(west.shape[0]):\n",
    "            if west[row,col] == 2:\n",
    "                south[rockpos, col] = 2\n",
    "                rockpos += 1\n",
    "            elif west[row,col] == 1:\n",
    "                rockpos = row + 1\n",
    "    south = np.rot90(south,k=3)\n",
    "    east = south.copy()\n",
    "    east[east==2] = 0\n",
    "\n",
    "    # South\n",
    "    for col in range(south.shape[1]):\n",
    "        rockpos = 0\n",
    "        for row in range(south.shape[0]):\n",
    "            if south[row,col] == 2:\n",
    "                east[rockpos, col] = 2\n",
    "                rockpos += 1\n",
    "            elif south[row,col] == 1:\n",
    "                rockpos = row + 1\n",
    "\n",
    "    east = np.rot90(east,k=3)\n",
    "    return east\n",
    "\n",
    "temp = mat.copy()\n",
    "latest = []\n",
    "cyclelen = 0\n",
    "cyclestart = 0\n",
    "for i in range(200):\n",
    "    temp = cycle(temp)\n",
    "    for j,old in enumerate(latest):\n",
    "        if np.all(temp==old):\n",
    "            if cyclestart==0:\n",
    "                cyclestart = i+1\n",
    "            cyclelen = j+1\n",
    "    latest = [temp] + latest\n",
    "    if len(latest)>100:\n",
    "        latest = latest[:100]\n",
    "\n",
    "# Perform iteration\n",
    "temp = mat.copy()\n",
    "for i in range(cyclestart + (1000000000-cyclestart)%cyclelen):\n",
    "    temp = cycle(temp)\n",
    "\n",
    "# Count\n",
    "accum = 0\n",
    "for col in range(temp.shape[1]):\n",
    "    rockpos = 0\n",
    "    nrows = temp.shape[0]\n",
    "    for row in range(temp.shape[0]):\n",
    "        if temp[row,col] == 2:\n",
    "            accum += nrows - row\n",
    "        elif temp[row,col] == 1:\n",
    "            rockpos = row + 1\n",
    "print(accum)"
   ]
  },
  {
   "cell_type": "code",
   "execution_count": null,
   "metadata": {},
   "outputs": [],
   "source": []
  }
 ],
 "metadata": {
  "kernelspec": {
   "display_name": "dl",
   "language": "python",
   "name": "python3"
  },
  "language_info": {
   "codemirror_mode": {
    "name": "ipython",
    "version": 3
   },
   "file_extension": ".py",
   "mimetype": "text/x-python",
   "name": "python",
   "nbconvert_exporter": "python",
   "pygments_lexer": "ipython3",
   "version": "3.8.18"
  }
 },
 "nbformat": 4,
 "nbformat_minor": 2
}
