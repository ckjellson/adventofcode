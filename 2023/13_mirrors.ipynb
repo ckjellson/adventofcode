{
 "cells": [
  {
   "cell_type": "code",
   "execution_count": 1,
   "metadata": {},
   "outputs": [],
   "source": [
    "import numpy as np"
   ]
  },
  {
   "cell_type": "markdown",
   "metadata": {},
   "source": [
    "# Parsing"
   ]
  },
  {
   "cell_type": "code",
   "execution_count": 2,
   "metadata": {},
   "outputs": [],
   "source": [
    "with open(\"data/input13.txt\") as f:\n",
    "    data = f.read().rstrip(\"\\n\")\n",
    "\n",
    "ls = [[[c for c in w] for w in l.split(\"\\n\")] for l in data.split(\"\\n\\n\")]\n",
    "\n",
    "mats = []\n",
    "for im in ls:\n",
    "    mat = np.zeros((len(im), len(im[0])))\n",
    "    for i in range(len(im)):\n",
    "        for j in range(len(im[0])):\n",
    "            if im[i][j]==\"#\":\n",
    "                mat[i,j] = 1\n",
    "    mats.append(mat)\n"
   ]
  },
  {
   "cell_type": "markdown",
   "metadata": {},
   "source": [
    "# Part 1"
   ]
  },
  {
   "cell_type": "code",
   "execution_count": 3,
   "metadata": {},
   "outputs": [
    {
     "data": {
      "text/plain": [
       "43614"
      ]
     },
     "execution_count": 3,
     "metadata": {},
     "output_type": "execute_result"
    }
   ],
   "source": [
    "accum = 0\n",
    "for mat in mats:\n",
    "    # Horizontal\n",
    "    cols = mat.shape[1]\n",
    "    for i in range(cols-1):\n",
    "        minwidth = min(i+1,cols-i-1)\n",
    "        before = mat[:,i-minwidth+1:i+1]\n",
    "        after = mat[:,i+1:i+1+minwidth]\n",
    "        if np.all(before==np.flip(after, axis=1)):\n",
    "            accum += i+1\n",
    "    # Vertical\n",
    "    rows = mat.shape[0]\n",
    "    for i in range(rows-1):\n",
    "        minheight = min(i+1,rows-i-1)\n",
    "        before = mat[i-minheight+1:i+1,:]\n",
    "        after = mat[i+1:i+1+minheight,:]\n",
    "        if np.all(before==np.flip(after, axis=0)):\n",
    "            accum += (i+1)*100\n",
    "accum"
   ]
  },
  {
   "cell_type": "markdown",
   "metadata": {},
   "source": [
    "# Part 2"
   ]
  },
  {
   "cell_type": "code",
   "execution_count": 4,
   "metadata": {},
   "outputs": [
    {
     "data": {
      "text/plain": [
       "36771"
      ]
     },
     "execution_count": 4,
     "metadata": {},
     "output_type": "execute_result"
    }
   ],
   "source": [
    "accum = 0\n",
    "for mat in mats:\n",
    "    # Horizontal\n",
    "    cols = mat.shape[1]\n",
    "    for i in range(cols-1):\n",
    "        minwidth = min(i+1,cols-i-1)\n",
    "        before = mat[:,i-minwidth+1:i+1]\n",
    "        after = mat[:,i+1:i+1+minwidth]\n",
    "        if (before!=np.flip(after, axis=1)).sum()==1:\n",
    "            accum += i+1\n",
    "    # Vertical\n",
    "    rows = mat.shape[0]\n",
    "    for i in range(rows-1):\n",
    "        minheight = min(i+1,rows-i-1)\n",
    "        before = mat[i-minheight+1:i+1,:]\n",
    "        after = mat[i+1:i+1+minheight,:]\n",
    "        if (before!=np.flip(after, axis=0)).sum()==1:\n",
    "            accum += (i+1)*100\n",
    "accum"
   ]
  },
  {
   "cell_type": "code",
   "execution_count": null,
   "metadata": {},
   "outputs": [],
   "source": []
  }
 ],
 "metadata": {
  "kernelspec": {
   "display_name": "dl",
   "language": "python",
   "name": "python3"
  },
  "language_info": {
   "codemirror_mode": {
    "name": "ipython",
    "version": 3
   },
   "file_extension": ".py",
   "mimetype": "text/x-python",
   "name": "python",
   "nbconvert_exporter": "python",
   "pygments_lexer": "ipython3",
   "version": "3.8.18"
  }
 },
 "nbformat": 4,
 "nbformat_minor": 2
}
