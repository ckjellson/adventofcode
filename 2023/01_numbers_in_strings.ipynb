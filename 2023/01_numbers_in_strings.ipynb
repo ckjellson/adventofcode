{
 "cells": [
  {
   "cell_type": "code",
   "execution_count": 1,
   "metadata": {},
   "outputs": [],
   "source": [
    "import re"
   ]
  },
  {
   "cell_type": "markdown",
   "metadata": {},
   "source": [
    "# Parsing"
   ]
  },
  {
   "cell_type": "code",
   "execution_count": 2,
   "metadata": {},
   "outputs": [],
   "source": [
    "with open(\"data/input1.txt\") as f:\n",
    "    ls = f.readlines()\n",
    "    ls = [l.rstrip(\"\\n\") for l in ls]"
   ]
  },
  {
   "cell_type": "markdown",
   "metadata": {},
   "source": [
    "# Part 1"
   ]
  },
  {
   "cell_type": "code",
   "execution_count": 3,
   "metadata": {},
   "outputs": [
    {
     "data": {
      "text/plain": [
       "53334"
      ]
     },
     "execution_count": 3,
     "metadata": {},
     "output_type": "execute_result"
    }
   ],
   "source": [
    "accum = 0\n",
    "nums = {\"one\": 1, \"two\": 2, \"three\": 3, \"four\": 4, \"five\": 5, \"six\": 6, \"seven\": 7, \"eight\": 8, \"nine\": 9}\n",
    "for s in ls:\n",
    "    first = -1\n",
    "    last = 0\n",
    "    for c in s:\n",
    "        if c.isnumeric():\n",
    "            if first==-1:\n",
    "                first = int(c)\n",
    "            last = int(c)\n",
    "    accum += first*10+last\n",
    "accum"
   ]
  },
  {
   "cell_type": "markdown",
   "metadata": {},
   "source": [
    "# Part 2"
   ]
  },
  {
   "cell_type": "code",
   "execution_count": 4,
   "metadata": {},
   "outputs": [
    {
     "data": {
      "text/plain": [
       "52834"
      ]
     },
     "execution_count": 4,
     "metadata": {},
     "output_type": "execute_result"
    }
   ],
   "source": [
    "accum = 0\n",
    "for s in ls:\n",
    "    first = -1\n",
    "    last = 0\n",
    "    firsti = -1\n",
    "    lasti = -1\n",
    "    i = 0\n",
    "    for c in s:\n",
    "        if c.isnumeric():\n",
    "            if first==-1:\n",
    "                firsti = i\n",
    "                first = int(c)\n",
    "            last = int(c)\n",
    "            lasti = i\n",
    "        i += 1\n",
    "    for k,v in nums.items():\n",
    "        for k in re.finditer(k, s):\n",
    "            strind = k.span()[0]\n",
    "            if strind>=0:\n",
    "                if strind<firsti:\n",
    "                    firsti = strind\n",
    "                    first = v\n",
    "                if strind>lasti:\n",
    "                    lasti = strind\n",
    "                    last = v\n",
    "    accum += first*10+last\n",
    "accum"
   ]
  },
  {
   "cell_type": "code",
   "execution_count": null,
   "metadata": {},
   "outputs": [],
   "source": []
  }
 ],
 "metadata": {
  "kernelspec": {
   "display_name": "dl",
   "language": "python",
   "name": "python3"
  },
  "language_info": {
   "codemirror_mode": {
    "name": "ipython",
    "version": 3
   },
   "file_extension": ".py",
   "mimetype": "text/x-python",
   "name": "python",
   "nbconvert_exporter": "python",
   "pygments_lexer": "ipython3",
   "version": "3.8.18"
  }
 },
 "nbformat": 4,
 "nbformat_minor": 2
}
