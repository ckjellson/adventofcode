{
 "cells": [
  {
   "cell_type": "code",
   "execution_count": 1,
   "metadata": {},
   "outputs": [],
   "source": [
    "from utils import *"
   ]
  },
  {
   "cell_type": "markdown",
   "metadata": {},
   "source": [
    "# Parsing"
   ]
  },
  {
   "cell_type": "code",
   "execution_count": 2,
   "metadata": {},
   "outputs": [],
   "source": [
    "with open(\"data/input4.txt\") as f:\n",
    "    ls = f.readlines()\n",
    "    ls = [l.rstrip(\"\\n\") for l in ls]"
   ]
  },
  {
   "cell_type": "markdown",
   "metadata": {},
   "source": [
    "# Part 1"
   ]
  },
  {
   "cell_type": "code",
   "execution_count": 3,
   "metadata": {},
   "outputs": [
    {
     "data": {
      "text/plain": [
       "20667"
      ]
     },
     "execution_count": 3,
     "metadata": {},
     "output_type": "execute_result"
    }
   ],
   "source": [
    "accum = 0\n",
    "for l in ls:\n",
    "    wins = ints(l.split(\" | \")[0].split(\": \")[1])\n",
    "    mine = ints(l.split(\" | \")[1])\n",
    "    cardacc = 0\n",
    "    for w in wins:\n",
    "        if w in mine:\n",
    "            if cardacc==0:\n",
    "                cardacc = 1\n",
    "            else:\n",
    "                cardacc = cardacc*2\n",
    "    accum += cardacc\n",
    "accum"
   ]
  },
  {
   "cell_type": "markdown",
   "metadata": {},
   "source": [
    "# Part 2"
   ]
  },
  {
   "cell_type": "code",
   "execution_count": 4,
   "metadata": {},
   "outputs": [
    {
     "data": {
      "text/plain": [
       "5833065"
      ]
     },
     "execution_count": 4,
     "metadata": {},
     "output_type": "execute_result"
    }
   ],
   "source": [
    "ncopies = []\n",
    "ncards = 0\n",
    "for l in ls:\n",
    "    wins = ints(l.split(\" | \")[0].split(\": \")[1])\n",
    "    mine = ints(l.split(\" | \")[1])\n",
    "    nforw = 0\n",
    "    for w in wins:\n",
    "        if w in mine:\n",
    "            nforw += 1\n",
    "    ncards += 1\n",
    "    toadd = 1\n",
    "    if len(ncopies)>0:\n",
    "        ncards += ncopies[0]\n",
    "        toadd += ncopies[0]\n",
    "    for i in range(1,nforw+1):\n",
    "        if len(ncopies)<=i:\n",
    "            ncopies.append(toadd)\n",
    "        else:\n",
    "            ncopies[i] += toadd\n",
    "    if len(ncopies)>nforw:\n",
    "        ncopies = ncopies[1:]\n",
    "ncards"
   ]
  },
  {
   "cell_type": "code",
   "execution_count": null,
   "metadata": {},
   "outputs": [],
   "source": []
  }
 ],
 "metadata": {
  "kernelspec": {
   "display_name": "dl",
   "language": "python",
   "name": "python3"
  },
  "language_info": {
   "codemirror_mode": {
    "name": "ipython",
    "version": 3
   },
   "file_extension": ".py",
   "mimetype": "text/x-python",
   "name": "python",
   "nbconvert_exporter": "python",
   "pygments_lexer": "ipython3",
   "version": "3.8.18"
  }
 },
 "nbformat": 4,
 "nbformat_minor": 2
}
