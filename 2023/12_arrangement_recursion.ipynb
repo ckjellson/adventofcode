{
 "cells": [
  {
   "cell_type": "code",
   "execution_count": 4,
   "metadata": {},
   "outputs": [],
   "source": [
    "import itertools\n",
    "from utils import *\n",
    "import copy"
   ]
  },
  {
   "cell_type": "markdown",
   "metadata": {},
   "source": [
    "# Parsing"
   ]
  },
  {
   "cell_type": "code",
   "execution_count": 5,
   "metadata": {},
   "outputs": [],
   "source": [
    "with open(\"data/input12.txt\") as f:\n",
    "    data = f.read().rstrip(\"\\n\")\n",
    "\n",
    "ls = [l for l in data.split(\"\\n\")]\n",
    "inps = [[c for c in l.split(\" \")[0]] for l in ls]\n",
    "nbrs = [ints(l.split(\" \")[1]) for l in ls]"
   ]
  },
  {
   "cell_type": "markdown",
   "metadata": {},
   "source": [
    "# Part 1"
   ]
  },
  {
   "cell_type": "code",
   "execution_count": 6,
   "metadata": {},
   "outputs": [
    {
     "name": "stdout",
     "output_type": "stream",
     "text": [
      "7916\n"
     ]
    }
   ],
   "source": [
    "def conforms(arr, nbr):\n",
    "    prev = \".\"\n",
    "    seglen = 0\n",
    "    seglens = []\n",
    "    for ins in arr:\n",
    "        if ins==\"#\":\n",
    "            if prev==\".\":\n",
    "                seglen = 1\n",
    "            else:\n",
    "                seglen += 1\n",
    "        elif prev==\"#\":\n",
    "            seglens.append(seglen)\n",
    "        prev = ins\n",
    "    if prev==\"#\":\n",
    "        seglens.append(seglen)\n",
    "    if len(seglens)!=len(nbr):\n",
    "        return False\n",
    "    for truelen, testlen in zip(nbr, seglens):\n",
    "        if truelen!=testlen:\n",
    "            return False\n",
    "    return True\n",
    "\n",
    "accum = 0\n",
    "for inp, nbr in zip(inps, nbrs):\n",
    "    nn = len(inp)\n",
    "    qi = [i for i in range(len(inp)) if inp[i]==\"?\"]\n",
    "    arr = []\n",
    "    for i in range(nn):\n",
    "        if inp[i]==\"#\":\n",
    "            arr.append(\"#\")\n",
    "        else:\n",
    "            arr.append(\".\")\n",
    "    ncombs = 0\n",
    "    for comb in itertools.product([True, False], repeat=len(qi)):\n",
    "        test = copy.copy(arr)\n",
    "        for i, j in enumerate(qi):\n",
    "            if comb[i]:\n",
    "                test[j] = \"#\"\n",
    "        if conforms(test, nbr):\n",
    "            ncombs += 1\n",
    "    accum += ncombs\n",
    "print(accum)"
   ]
  },
  {
   "cell_type": "markdown",
   "metadata": {},
   "source": [
    "# Part 2"
   ]
  },
  {
   "cell_type": "code",
   "execution_count": 7,
   "metadata": {},
   "outputs": [
    {
     "data": {
      "text/plain": [
       "37366887898686"
      ]
     },
     "execution_count": 7,
     "metadata": {},
     "output_type": "execute_result"
    }
   ],
   "source": [
    "inps = [l.split(\" \")[0] for l in ls]\n",
    "nbrs = [ints(l.split(\" \")[1]) for l in ls]\n",
    "for i in range(len(inps)):\n",
    "    tempinp = copy.copy(inps[i])\n",
    "    tempnbr = copy.copy(nbrs[i])\n",
    "    for _ in range(4):\n",
    "        inps[i] += \"?\" + tempinp\n",
    "        nbrs[i] += tempnbr\n",
    "\n",
    "def recurse_line(inp, nbr, curnbr):\n",
    "    newpos = inp.find(\"?\")\n",
    "    if newpos<0:\n",
    "        if conforms(inp, nbr):\n",
    "            return 1\n",
    "        else:\n",
    "            return 0\n",
    "\n",
    "    newnbr, accum = count_up(inp[:newpos],nbr)\n",
    "    if curnbr>=len(nbr) and accum>0:\n",
    "        return 0\n",
    "\n",
    "    comb_computed = (newpos, newnbr, accum)\n",
    "    if comb_computed in lookup_table:\n",
    "        return lookup_table[comb_computed]\n",
    "\n",
    "    result = 0\n",
    "    for c in \"#.\":\n",
    "        inp1 = inp[:newpos] + c + inp[newpos+1:]\n",
    "        newcurnbr,_ = count_up(inp1[:newpos+1],nbr)\n",
    "        if newcurnbr>=0:\n",
    "            result += recurse_line(inp1, nbr, newcurnbr)\n",
    "\n",
    "    lookup_table[comb_computed] = result\n",
    "    return result\n",
    "\n",
    "def count_up(line, nbr):\n",
    "    prev = \".\"\n",
    "    curnbrout = 0\n",
    "    accum = 0\n",
    "    for c in line:\n",
    "        if c==\".\" and prev==\"#\":\n",
    "            if curnbrout>=len(nbr) or accum!=nbr[curnbrout]:\n",
    "                return -1, -1\n",
    "            curnbrout += 1\n",
    "            accum = 0\n",
    "        elif c==\"#\":\n",
    "            if curnbrout>=len(nbr) or (prev==\"#\" and accum+1>nbr[curnbrout]):\n",
    "                return -1, -1\n",
    "            accum += 1\n",
    "        prev=c\n",
    "    if curnbrout<len(nbr) and accum>nbr[curnbrout]:\n",
    "        return -1,-1\n",
    "    return curnbrout,accum\n",
    "\n",
    "lookup_table = {} # Use a lookup table to remember results from previous checks of the same combinations\n",
    "totcomb = 0\n",
    "for inp, nbr in zip(inps, nbrs):\n",
    "    lookup_table.clear()\n",
    "    combs = recurse_line(\".\" + inp + \".\", nbr, 0)\n",
    "    totcomb += combs\n",
    "totcomb"
   ]
  },
  {
   "cell_type": "code",
   "execution_count": null,
   "metadata": {},
   "outputs": [],
   "source": []
  }
 ],
 "metadata": {
  "kernelspec": {
   "display_name": "dl",
   "language": "python",
   "name": "python3"
  },
  "language_info": {
   "codemirror_mode": {
    "name": "ipython",
    "version": 3
   },
   "file_extension": ".py",
   "mimetype": "text/x-python",
   "name": "python",
   "nbconvert_exporter": "python",
   "pygments_lexer": "ipython3",
   "version": "3.8.18"
  }
 },
 "nbformat": 4,
 "nbformat_minor": 2
}
