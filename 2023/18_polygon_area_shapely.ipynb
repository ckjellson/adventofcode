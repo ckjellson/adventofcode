{
 "cells": [
  {
   "cell_type": "code",
   "execution_count": 1,
   "metadata": {},
   "outputs": [],
   "source": [
    "import shapely"
   ]
  },
  {
   "cell_type": "markdown",
   "metadata": {},
   "source": [
    "# Parsing"
   ]
  },
  {
   "cell_type": "code",
   "execution_count": 2,
   "metadata": {},
   "outputs": [],
   "source": [
    "with open(\"data/input18.txt\") as f:\n",
    "    data = f.read().rstrip(\"\\n\")\n",
    "\n",
    "def parse(inlines):\n",
    "    return [l for l in inlines.split(\"\\n\")]\n",
    "\n",
    "ls = parse(data)\n",
    "dirs = [l.split(\" \")[0] for l in ls]\n",
    "lens = [int(l.split(\" \")[1]) for l in ls]\n",
    "codes = [l.split(\" \")[2][1:-1] for l in ls]"
   ]
  },
  {
   "cell_type": "markdown",
   "metadata": {},
   "source": [
    "# Part 1"
   ]
  },
  {
   "cell_type": "code",
   "execution_count": 3,
   "metadata": {},
   "outputs": [
    {
     "data": {
      "text/plain": [
       "36679"
      ]
     },
     "execution_count": 3,
     "metadata": {},
     "output_type": "execute_result"
    }
   ],
   "source": [
    "curpos = (0,0)\n",
    "corners = []\n",
    "for d,l in zip(dirs, lens):\n",
    "    corners.append(curpos)\n",
    "    for _ in range(l):\n",
    "        if d==\"U\":\n",
    "            curpos = (curpos[0]-1,curpos[1])\n",
    "        if d==\"D\":\n",
    "            curpos = (curpos[0]+1,curpos[1])\n",
    "        if d==\"L\":\n",
    "            curpos = (curpos[0],curpos[1]-1)\n",
    "        if d==\"R\":\n",
    "            curpos = (curpos[0],curpos[1]+1)\n",
    "int(shapely.Polygon(corners).buffer(0.5, join_style=\"mitre\").area)"
   ]
  },
  {
   "cell_type": "markdown",
   "metadata": {},
   "source": [
    "# Part 2"
   ]
  },
  {
   "cell_type": "code",
   "execution_count": 4,
   "metadata": {},
   "outputs": [
    {
     "data": {
      "text/plain": [
       "88007104020978"
      ]
     },
     "execution_count": 4,
     "metadata": {},
     "output_type": "execute_result"
    }
   ],
   "source": [
    "dig2dir = {0: \"R\", 1: \"D\", 2: \"L\", 3: \"U\"}\n",
    "\n",
    "curpos = (0,0)\n",
    "corners = []\n",
    "for _,_,c in zip(dirs, lens, codes):\n",
    "    corners.append(curpos)\n",
    "    l = int(\"0x\" + c[1:6], 16)\n",
    "    d = dig2dir[int(c[6])]\n",
    "    if d==\"U\":\n",
    "        curpos = (curpos[0]-l,curpos[1])\n",
    "    if d==\"D\":\n",
    "        curpos = (curpos[0]+l,curpos[1])\n",
    "    if d==\"L\":\n",
    "        curpos = (curpos[0],curpos[1]-l)\n",
    "    if d==\"R\":\n",
    "        curpos = (curpos[0],curpos[1]+l)\n",
    "int(shapely.Polygon(corners).buffer(0.5, join_style=\"mitre\").area)"
   ]
  },
  {
   "cell_type": "code",
   "execution_count": null,
   "metadata": {},
   "outputs": [],
   "source": []
  }
 ],
 "metadata": {
  "kernelspec": {
   "display_name": "venv_torch",
   "language": "python",
   "name": "python3"
  },
  "language_info": {
   "codemirror_mode": {
    "name": "ipython",
    "version": 3
   },
   "file_extension": ".py",
   "mimetype": "text/x-python",
   "name": "python",
   "nbconvert_exporter": "python",
   "pygments_lexer": "ipython3",
   "version": "3.8.18"
  }
 },
 "nbformat": 4,
 "nbformat_minor": 2
}
