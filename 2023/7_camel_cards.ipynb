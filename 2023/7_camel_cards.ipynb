{
 "cells": [
  {
   "cell_type": "code",
   "execution_count": 1,
   "metadata": {},
   "outputs": [],
   "source": [
    "from functools import cmp_to_key"
   ]
  },
  {
   "cell_type": "markdown",
   "metadata": {},
   "source": [
    "# Parsing"
   ]
  },
  {
   "cell_type": "code",
   "execution_count": 2,
   "metadata": {},
   "outputs": [],
   "source": [
    "with open(\"data/input7.txt\") as f:\n",
    "    ls = f.readlines()\n",
    "    ls = [l.rstrip(\"\\n\") for l in ls]"
   ]
  },
  {
   "cell_type": "markdown",
   "metadata": {},
   "source": [
    "# Part 1"
   ]
  },
  {
   "cell_type": "code",
   "execution_count": 3,
   "metadata": {},
   "outputs": [
    {
     "data": {
      "text/plain": [
       "251927063"
      ]
     },
     "execution_count": 3,
     "metadata": {},
     "output_type": "execute_result"
    }
   ],
   "source": [
    "order = [\"A\", \"K\", \"Q\", \"J\", \"T\", \"9\", \"8\", \"7\", \"6\", \"5\", \"4\", \"3\", \"2\"]\n",
    "\n",
    "def eval_card(c):\n",
    "    counts = [c.count(subc) for subc in c]\n",
    "\n",
    "    if 5 in counts:\n",
    "        return 5\n",
    "    if 4 in counts:\n",
    "        return 4\n",
    "    if 3 in counts and 2 in counts:\n",
    "        return 3\n",
    "    if 3 in counts:\n",
    "        return 2\n",
    "    if counts.count(2)==4:\n",
    "        return 1\n",
    "    if 2 in counts:\n",
    "        return 0\n",
    "    return -1\n",
    "hb = [(l.split(\" \")[0],int(l.split(\" \")[1])) for l in ls]\n",
    "hb = [(h, b, eval_card(h)) for h,b in hb]\n",
    "\n",
    "def compordered(c1,c2):\n",
    "    for subc1, subc2 in zip([c for c in c1], [c for c in c2]):\n",
    "        v1 = order.index(subc1)\n",
    "        v2 = order.index(subc2)\n",
    "        if v1<v2:\n",
    "            return 1\n",
    "        if v1>v2:\n",
    "            return -1\n",
    "    return 0\n",
    "\n",
    "def compare_cards(c1, c2):\n",
    "    c1_eval = eval_card(c1[0])\n",
    "    c2_eval = eval_card(c2[0])\n",
    "    if c1_eval>c2_eval:\n",
    "        return 1\n",
    "    if c1_eval<c2_eval:\n",
    "        return -1\n",
    "    return compordered(c1[0],c2[0])\n",
    "\n",
    "hb_sorted = sorted(hb, key=cmp_to_key(compare_cards))\n",
    "accum = 0\n",
    "for i, tup in enumerate(hb_sorted):\n",
    "    accum += (i+1) * tup[1]\n",
    "accum"
   ]
  },
  {
   "cell_type": "markdown",
   "metadata": {},
   "source": [
    "# Part 2"
   ]
  },
  {
   "cell_type": "code",
   "execution_count": 4,
   "metadata": {},
   "outputs": [
    {
     "data": {
      "text/plain": [
       "255632664"
      ]
     },
     "execution_count": 4,
     "metadata": {},
     "output_type": "execute_result"
    }
   ],
   "source": [
    "order2 = [\"A\", \"K\", \"Q\", \"T\", \"9\", \"8\", \"7\", \"6\", \"5\", \"4\", \"3\", \"2\", \"J\"]\n",
    "\n",
    "def eval_card2(c):\n",
    "    counts = [c.count(subc) for subc in c]\n",
    "    jcount = c.count(\"J\")\n",
    "    temp = []\n",
    "    for c,subc in zip(counts,[l for l in c]):\n",
    "        if subc!=\"J\":\n",
    "            temp.append(c+jcount)\n",
    "        else:\n",
    "            temp.append(c)\n",
    "    counts = temp\n",
    "    if 5 in counts:\n",
    "        return 5\n",
    "    if 4 in counts:\n",
    "        return 4\n",
    "    if counts.count(3)==4 or (counts.count(3)==3 and jcount==0 and counts.count(2)==2):\n",
    "        return 3\n",
    "    if 3 in counts:\n",
    "        return 2\n",
    "    if counts.count(2)==4 and jcount==0:\n",
    "        return 1\n",
    "    if 2 in counts:\n",
    "        return 0\n",
    "    return -1\n",
    "\n",
    "def compordered2(c1,c2):\n",
    "    for subc1, subc2 in zip([c for c in c1], [c for c in c2]):\n",
    "        v1 = order2.index(subc1)\n",
    "        v2 = order2.index(subc2)\n",
    "        if v1<v2:\n",
    "            return 1\n",
    "        if v1>v2:\n",
    "            return -1\n",
    "    return 0\n",
    "def compare_cards2(c1, c2):\n",
    "    c1_eval = eval_card2(c1[0])\n",
    "    c2_eval = eval_card2(c2[0])\n",
    "    if c1_eval>c2_eval:\n",
    "        return 1\n",
    "    if c1_eval<c2_eval:\n",
    "        return -1\n",
    "    return compordered2(c1[0],c2[0])\n",
    "\n",
    "hb = [(l.split(\" \")[0],int(l.split(\" \")[1])) for l in ls]\n",
    "hb = [(h, b, eval_card2(h)) for h,b in hb]\n",
    "hb_sorted = sorted(hb, key=cmp_to_key(compare_cards2))\n",
    "\n",
    "accum = 0\n",
    "for i, tup in enumerate(hb_sorted):\n",
    "    accum += (i+1) * tup[1]\n",
    "accum"
   ]
  },
  {
   "cell_type": "code",
   "execution_count": null,
   "metadata": {},
   "outputs": [],
   "source": []
  }
 ],
 "metadata": {
  "kernelspec": {
   "display_name": "dl",
   "language": "python",
   "name": "python3"
  },
  "language_info": {
   "codemirror_mode": {
    "name": "ipython",
    "version": 3
   },
   "file_extension": ".py",
   "mimetype": "text/x-python",
   "name": "python",
   "nbconvert_exporter": "python",
   "pygments_lexer": "ipython3",
   "version": "3.8.18"
  }
 },
 "nbformat": 4,
 "nbformat_minor": 2
}
