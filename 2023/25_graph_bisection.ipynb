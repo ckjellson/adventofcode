{
 "cells": [
  {
   "cell_type": "code",
   "execution_count": 1,
   "metadata": {},
   "outputs": [],
   "source": [
    "import numpy as np\n",
    "from sklearn.cluster import SpectralClustering"
   ]
  },
  {
   "cell_type": "markdown",
   "metadata": {},
   "source": [
    "# Parsing"
   ]
  },
  {
   "cell_type": "code",
   "execution_count": 2,
   "metadata": {},
   "outputs": [],
   "source": [
    "with open(\"data/input25.txt\") as f:\n",
    "    data = f.read().rstrip(\"\\n\")\n",
    "\n",
    "def parse(inlines):\n",
    "    return {l.split(\":\")[0]: [w for w in l.split(\": \")[1].split(\" \")] for l in inlines.split(\"\\n\")}\n",
    "\n",
    "ls = parse(data)"
   ]
  },
  {
   "cell_type": "markdown",
   "metadata": {},
   "source": [
    "# Part 1"
   ]
  },
  {
   "cell_type": "code",
   "execution_count": 3,
   "metadata": {},
   "outputs": [
    {
     "name": "stdout",
     "output_type": "stream",
     "text": [
      "bqq / rxt\n",
      "qxr / btp\n",
      "vfx / bgl\n",
      "525264\n"
     ]
    }
   ],
   "source": [
    "comp2ind = {}\n",
    "i = 0\n",
    "for k,v in ls.items():\n",
    "    if k not in comp2ind:\n",
    "        comp2ind[k] = i\n",
    "        i += 1\n",
    "    for c in v:\n",
    "        if c not in comp2ind:\n",
    "            comp2ind[c] = i\n",
    "            i += 1\n",
    "ind2comp = {v:k for k,v in comp2ind.items()}\n",
    "distmat = np.eye(i)\n",
    "for k,v in ls.items():\n",
    "    for c in v:\n",
    "        distmat[comp2ind[k], comp2ind[c]] = 1\n",
    "        distmat[comp2ind[c], comp2ind[k]] = 1\n",
    "\n",
    "sc = SpectralClustering(2, affinity='precomputed', n_init=100,\n",
    "                        assign_labels='discretize')\n",
    "res = sc.fit_predict(distmat)\n",
    "to_remove = []\n",
    "for i in range(len(comp2ind)):\n",
    "    for j in range(i+1, len(comp2ind)):\n",
    "        if res[i]!=res[j]:\n",
    "            if distmat[i,j]==1:\n",
    "                to_remove.append((i,j))\n",
    "to_rem = set()\n",
    "for i,j in to_remove:\n",
    "    print(ind2comp[i], \"/\", ind2comp[j])\n",
    "    to_rem.add(ind2comp[i])\n",
    "    to_rem.add(ind2comp[j])\n",
    "to_rem\n",
    "print((res==0).sum()*(res==1).sum())"
   ]
  },
  {
   "cell_type": "markdown",
   "metadata": {},
   "source": [
    "# No part 2... :("
   ]
  },
  {
   "cell_type": "code",
   "execution_count": null,
   "metadata": {},
   "outputs": [],
   "source": []
  }
 ],
 "metadata": {
  "kernelspec": {
   "display_name": "dl",
   "language": "python",
   "name": "python3"
  },
  "language_info": {
   "codemirror_mode": {
    "name": "ipython",
    "version": 3
   },
   "file_extension": ".py",
   "mimetype": "text/x-python",
   "name": "python",
   "nbconvert_exporter": "python",
   "pygments_lexer": "ipython3",
   "version": "3.8.18"
  }
 },
 "nbformat": 4,
 "nbformat_minor": 2
}
