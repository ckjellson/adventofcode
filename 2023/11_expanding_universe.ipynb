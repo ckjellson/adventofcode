{
 "cells": [
  {
   "cell_type": "code",
   "execution_count": 1,
   "metadata": {},
   "outputs": [],
   "source": [
    "import numpy as np"
   ]
  },
  {
   "cell_type": "markdown",
   "metadata": {},
   "source": [
    "# Parsing"
   ]
  },
  {
   "cell_type": "code",
   "execution_count": 2,
   "metadata": {},
   "outputs": [],
   "source": [
    "with open(\"data/input11.txt\") as f:\n",
    "    data = f.read().rstrip(\"\\n\")\n",
    "\n",
    "ls = [[c for c in l] for l in data.split(\"\\n\")]"
   ]
  },
  {
   "cell_type": "markdown",
   "metadata": {},
   "source": [
    "# Part 1"
   ]
  },
  {
   "cell_type": "code",
   "execution_count": 3,
   "metadata": {},
   "outputs": [
    {
     "data": {
      "text/plain": [
       "9734203"
      ]
     },
     "execution_count": 3,
     "metadata": {},
     "output_type": "execute_result"
    }
   ],
   "source": [
    "space = np.zeros((len(ls), len(ls[0])))\n",
    "for i in range(len(ls)):\n",
    "    for j in range(len(ls[0])):\n",
    "        if ls[i][j]==\"#\":\n",
    "            space[i,j] = 1\n",
    "empty_rows = np.where(space.sum(axis=1)==0)[0]\n",
    "empty_cols = np.where(space.sum(axis=0)==0)[0]\n",
    "space2 = np.zeros((0,space.shape[1]))\n",
    "# Expand vertical\n",
    "for i in range(space.shape[0]):\n",
    "    if i in list(empty_rows):\n",
    "        space2 = np.vstack([space2, space[i:i+1,:], space[i:i+1,:]])\n",
    "    else:\n",
    "        space2 = np.vstack([space2, space[i:i+1,:]])\n",
    "# Expand horizontal\n",
    "space3 = np.zeros((space2.shape[0],0))\n",
    "for i in range(space2.shape[0]):\n",
    "    if i in list(empty_cols):\n",
    "        space3 = np.hstack([space3, space2[:, i:i+1], space2[:, i:i+1]])\n",
    "    else:\n",
    "        space3 = np.hstack([space3, space2[:, i:i+1]])\n",
    "\n",
    "gals = np.where(space3==1)\n",
    "accum = 0\n",
    "for i, (x1,y1) in enumerate(zip(gals[0], gals[1])):\n",
    "    for j, (x2,y2) in enumerate(zip(gals[0], gals[1])):\n",
    "        if i>j:\n",
    "            dist = np.abs(x1-x2) + np.abs(y1-y2)\n",
    "            accum += dist\n",
    "accum"
   ]
  },
  {
   "cell_type": "markdown",
   "metadata": {},
   "source": [
    "# Part 2"
   ]
  },
  {
   "cell_type": "code",
   "execution_count": 4,
   "metadata": {},
   "outputs": [
    {
     "data": {
      "text/plain": [
       "568914596391"
      ]
     },
     "execution_count": 4,
     "metadata": {},
     "output_type": "execute_result"
    }
   ],
   "source": [
    "space = np.zeros((len(ls), len(ls[0])))\n",
    "for i in range(len(ls)):\n",
    "    for j in range(len(ls[0])):\n",
    "        if ls[i][j]==\"#\":\n",
    "            space[i,j] = 1\n",
    "empty_rows = np.where(space.sum(axis=1)==0)[0]\n",
    "empty_cols = np.where(space.sum(axis=0)==0)[0]\n",
    "\n",
    "multiple = 1000000\n",
    "\n",
    "gals = np.where(space==1)\n",
    "accum = 0\n",
    "for i, (x1,y1) in enumerate(zip(gals[0], gals[1])):\n",
    "    for j, (x2,y2) in enumerate(zip(gals[0], gals[1])):\n",
    "        if i>j:\n",
    "            dist = np.abs(x1-x2) + np.abs(y1-y2)\n",
    "            for xi in empty_rows:\n",
    "                if min(x1,x2)<xi<max(x1,x2):\n",
    "                    dist += (multiple-1)\n",
    "            for yi in empty_cols:\n",
    "                if min(y1,y2)<yi<max(y1,y2):\n",
    "                    dist += (multiple-1)\n",
    "            accum += dist\n",
    "accum"
   ]
  },
  {
   "cell_type": "code",
   "execution_count": null,
   "metadata": {},
   "outputs": [],
   "source": []
  }
 ],
 "metadata": {
  "kernelspec": {
   "display_name": "dl",
   "language": "python",
   "name": "python3"
  },
  "language_info": {
   "codemirror_mode": {
    "name": "ipython",
    "version": 3
   },
   "file_extension": ".py",
   "mimetype": "text/x-python",
   "name": "python",
   "nbconvert_exporter": "python",
   "pygments_lexer": "ipython3",
   "version": "3.8.18"
  }
 },
 "nbformat": 4,
 "nbformat_minor": 2
}
