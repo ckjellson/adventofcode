{
 "cells": [
  {
   "cell_type": "code",
   "execution_count": 1,
   "metadata": {},
   "outputs": [],
   "source": [
    "from utils import *"
   ]
  },
  {
   "cell_type": "markdown",
   "metadata": {},
   "source": [
    "# Parsing"
   ]
  },
  {
   "cell_type": "code",
   "execution_count": 2,
   "metadata": {},
   "outputs": [],
   "source": [
    "with open(\"data/input6.txt\") as f:\n",
    "    ls = f.readlines()\n",
    "    ls = [l.rstrip(\"\\n\") for l in ls]\n",
    "\n",
    "times = ints(ls[0])\n",
    "dists = ints(ls[1])"
   ]
  },
  {
   "cell_type": "markdown",
   "metadata": {},
   "source": [
    "# Part 1"
   ]
  },
  {
   "cell_type": "code",
   "execution_count": 3,
   "metadata": {},
   "outputs": [
    {
     "data": {
      "text/plain": [
       "440000"
      ]
     },
     "execution_count": 3,
     "metadata": {},
     "output_type": "execute_result"
    }
   ],
   "source": [
    "accum = 1\n",
    "for t,d in zip(times,dists):\n",
    "    nways = 0\n",
    "    for i in range(t):\n",
    "        speed = i\n",
    "        dtrav = speed * (t-i)\n",
    "        if dtrav>d:\n",
    "            nways += 1\n",
    "    accum *= nways\n",
    "accum"
   ]
  },
  {
   "cell_type": "markdown",
   "metadata": {},
   "source": [
    "# Part 2"
   ]
  },
  {
   "cell_type": "code",
   "execution_count": 4,
   "metadata": {},
   "outputs": [
    {
     "data": {
      "text/plain": [
       "26187338"
      ]
     },
     "execution_count": 4,
     "metadata": {},
     "output_type": "execute_result"
    }
   ],
   "source": [
    "time = ints(ls[0].replace(\" \", \"\"))[0]\n",
    "dist = ints(ls[1].replace(\" \", \"\"))[0]\n",
    "\n",
    "nways = 0\n",
    "for i in range(time):\n",
    "    speed = i\n",
    "    dtrav = speed * (time-i)\n",
    "    if dtrav>dist:\n",
    "        nways += 1\n",
    "nways"
   ]
  },
  {
   "cell_type": "code",
   "execution_count": null,
   "metadata": {},
   "outputs": [],
   "source": []
  }
 ],
 "metadata": {
  "kernelspec": {
   "display_name": "dl",
   "language": "python",
   "name": "python3"
  },
  "language_info": {
   "codemirror_mode": {
    "name": "ipython",
    "version": 3
   },
   "file_extension": ".py",
   "mimetype": "text/x-python",
   "name": "python",
   "nbconvert_exporter": "python",
   "pygments_lexer": "ipython3",
   "version": "3.8.18"
  }
 },
 "nbformat": 4,
 "nbformat_minor": 2
}
