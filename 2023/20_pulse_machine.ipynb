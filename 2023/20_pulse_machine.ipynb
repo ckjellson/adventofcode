{
 "cells": [
  {
   "cell_type": "code",
   "execution_count": 1,
   "metadata": {},
   "outputs": [],
   "source": [
    "import numpy as np\n",
    "import copy\n",
    "import math"
   ]
  },
  {
   "cell_type": "markdown",
   "metadata": {},
   "source": [
    "# Parsing"
   ]
  },
  {
   "cell_type": "code",
   "execution_count": 2,
   "metadata": {},
   "outputs": [],
   "source": [
    "with open(\"data/input20.txt\") as f:\n",
    "    data = f.read().rstrip(\"\\n\")\n",
    "\n",
    "def parse(inlines):\n",
    "    ls = {l.split(\" -> \")[0][1:]: (l.split(\" -> \")[0][0], l.split(\" -> \")[1].split(\", \")) for l in inlines.split(\"\\n\")}\n",
    "    lsnew = {}\n",
    "    for k,v in ls.items():\n",
    "        if v[0]==\"%\":\n",
    "            lsnew[k] = (v[0], \"off\", v[1])\n",
    "        elif v[0]==\"&\":\n",
    "            lsnew[k] = (v[0], {}, v[1])\n",
    "        else:\n",
    "            lsnew[k] = (v[0], None, v[1])\n",
    "    for k,v in lsnew.items():\n",
    "        for dest in v[2]:\n",
    "            if dest in lsnew and lsnew[dest][0]==\"&\":\n",
    "                lsnew[dest][1][k] = \"low\"\n",
    "    return lsnew\n",
    "\n",
    "ls = parse(data)"
   ]
  },
  {
   "cell_type": "markdown",
   "metadata": {},
   "source": [
    "# Part 1"
   ]
  },
  {
   "cell_type": "code",
   "execution_count": 3,
   "metadata": {},
   "outputs": [
    {
     "name": "stdout",
     "output_type": "stream",
     "text": [
      "807069600\n"
     ]
    }
   ],
   "source": [
    "lows = 0\n",
    "highs = 0\n",
    "ls2 = copy.deepcopy(ls)\n",
    "\n",
    "for push in range(1000):\n",
    "    signals = [(\"roadcaster\", \"low\")]\n",
    "    while signals:\n",
    "        newsignals = []\n",
    "        for id, signal in signals:\n",
    "            if signal==\"low\":\n",
    "                lows += 1\n",
    "            else:\n",
    "                highs += 1\n",
    "            if not id in ls2:\n",
    "                continue\n",
    "            mtype = ls2[id][0]\n",
    "            if signal==\"high\":\n",
    "                pass\n",
    "            else:\n",
    "                if ls2[id][1]==\"off\":\n",
    "                    ls2[id] = (ls2[id][0], \"on\", ls2[id][2])\n",
    "                elif ls2[id][1]==\"on\":\n",
    "                    ls2[id] = (ls2[id][0], \"off\", ls2[id][2])\n",
    "            for newid in ls2[id][2]:\n",
    "                signalsent = False\n",
    "                if mtype==\"%\":\n",
    "                    if signal==\"high\":\n",
    "                        pass\n",
    "                    else:\n",
    "                        if ls2[id][1]==\"off\":\n",
    "                            newsignals.append((newid, \"low\"))\n",
    "                            signalsent = True\n",
    "                        else:\n",
    "                            newsignals.append((newid, \"high\"))\n",
    "                            signalsent = True\n",
    "                elif mtype==\"&\":\n",
    "                    if all([sig==\"high\" for _,sig in ls2[id][1].items()]):\n",
    "                        newsignals.append((newid, \"low\"))\n",
    "                        signalsent = True\n",
    "                    else:\n",
    "                        newsignals.append((newid, \"high\"))\n",
    "                        signalsent = True\n",
    "                elif mtype==\"b\":\n",
    "                    newsignals.append((newid, \"low\"))\n",
    "                    signalsent = True\n",
    "                if newid in ls2 and signalsent:\n",
    "                    newtype = ls2[newid][0]\n",
    "                    if newtype==\"&\":\n",
    "                        ls2[newid][1][id] = newsignals[-1][1]\n",
    "        signals = newsignals\n",
    "print(lows*highs)"
   ]
  },
  {
   "cell_type": "markdown",
   "metadata": {},
   "source": [
    "# Part 2"
   ]
  },
  {
   "cell_type": "code",
   "execution_count": 5,
   "metadata": {},
   "outputs": [
    {
     "data": {
      "text/plain": [
       "221453937522197"
      ]
     },
     "execution_count": 5,
     "metadata": {},
     "output_type": "execute_result"
    }
   ],
   "source": [
    "lows = 0\n",
    "highs = 0\n",
    "ls2 = copy.deepcopy(ls)\n",
    "found = False\n",
    "iter = 0\n",
    "rxs = {id: [] for id, _ in ls2[\"hf\"][1].items()}\n",
    "while not all([len(l)>=1 for _, l in rxs.items()]): # First time reaching hf as low is the same as the periodicity.\n",
    "    iter += 1\n",
    "    signals = [(\"roadcaster\", \"low\")]\n",
    "    while signals:\n",
    "        newsignals = []\n",
    "        for id, signal in signals:\n",
    "            if id==\"rx\" and signal==\"low\":\n",
    "                print(\"Found it!\")\n",
    "                found = True\n",
    "                newsignals=[]\n",
    "                break\n",
    "            if signal==\"low\":\n",
    "                lows += 1\n",
    "            else:\n",
    "                highs += 1\n",
    "            if not id in ls2:\n",
    "                continue\n",
    "            mtype = ls2[id][0]\n",
    "            if signal==\"high\":\n",
    "                pass\n",
    "            else:\n",
    "                if ls2[id][1]==\"off\":\n",
    "                    ls2[id] = (ls2[id][0], \"on\", ls2[id][2])\n",
    "                elif ls2[id][1]==\"on\":\n",
    "                    ls2[id] = (ls2[id][0], \"off\", ls2[id][2])\n",
    "            for newid in ls2[id][2]:\n",
    "                signalsent = False\n",
    "                if mtype==\"%\":\n",
    "                    if signal==\"high\":\n",
    "                        pass\n",
    "                    else:\n",
    "                        if ls2[id][1]==\"off\":\n",
    "                            newsignals.append((newid, \"low\"))\n",
    "                            signalsent = True\n",
    "                        else:\n",
    "                            newsignals.append((newid, \"high\"))\n",
    "                            signalsent = True\n",
    "                elif mtype==\"&\":\n",
    "                    if all([sig==\"high\" for _,sig in ls2[id][1].items()]):\n",
    "                        newsignals.append((newid, \"low\"))\n",
    "                        signalsent = True\n",
    "                    else:\n",
    "                        newsignals.append((newid, \"high\"))\n",
    "                        signalsent = True\n",
    "                elif mtype==\"b\":\n",
    "                    newsignals.append((newid, \"low\"))\n",
    "                    signalsent = True\n",
    "                if newid in ls2 and signalsent:\n",
    "                    newtype = ls2[newid][0]\n",
    "                    if newtype==\"&\":\n",
    "                        ls2[newid][1][id] = newsignals[-1][1]\n",
    "        signals = newsignals\n",
    "        for id, val in ls2[\"hf\"][1].items():\n",
    "            if val==\"high\":\n",
    "                rxs[id].append(iter)\n",
    "assert np.gcd.reduce((np.array([v[0] for k,v in rxs.items()])).astype(int))==1 # gcd is 1\n",
    "accum = 1\n",
    "for k,v in rxs.items():\n",
    "    accum*=v[0]\n",
    "accum"
   ]
  },
  {
   "cell_type": "code",
   "execution_count": null,
   "metadata": {},
   "outputs": [],
   "source": []
  }
 ],
 "metadata": {
  "kernelspec": {
   "display_name": "dl",
   "language": "python",
   "name": "python3"
  },
  "language_info": {
   "codemirror_mode": {
    "name": "ipython",
    "version": 3
   },
   "file_extension": ".py",
   "mimetype": "text/x-python",
   "name": "python",
   "nbconvert_exporter": "python",
   "pygments_lexer": "ipython3",
   "version": "3.8.18"
  }
 },
 "nbformat": 4,
 "nbformat_minor": 2
}
