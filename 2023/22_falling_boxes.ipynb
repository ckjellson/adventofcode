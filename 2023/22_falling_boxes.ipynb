{
 "cells": [
  {
   "cell_type": "code",
   "execution_count": 1,
   "metadata": {},
   "outputs": [],
   "source": [
    "from utils import *\n",
    "import copy"
   ]
  },
  {
   "cell_type": "markdown",
   "metadata": {},
   "source": [
    "# Parsing"
   ]
  },
  {
   "cell_type": "code",
   "execution_count": 2,
   "metadata": {},
   "outputs": [],
   "source": [
    "with open(\"data/input22.txt\") as f:\n",
    "    data = f.read().rstrip(\"\\n\")\n",
    "\n",
    "class Cube:\n",
    "    def __init__(self, minpos, maxpos, id) -> None:\n",
    "        self.xmin, self.ymin, self.zmin = minpos\n",
    "        self.xmax, self.ymax, self.zmax = maxpos\n",
    "        self.id = id\n",
    "\n",
    "def parse(inlines):\n",
    "    cubes = [(ints(l.split(\"~\")[0]), ints(l.split(\"~\")[1])) for l in inlines.split(\"\\n\")]\n",
    "    out = {}\n",
    "    for i,c in enumerate(cubes):\n",
    "        if c[1][2] in out:\n",
    "            out[c[1][2]].append(Cube((c[0][0]-1, c[0][1]-1, c[0][2]-1), (c[1][0], c[1][1], c[1][2]), i))\n",
    "        else:\n",
    "            out[c[1][2]] = [Cube((c[0][0]-1, c[0][1]-1, c[0][2]-1), (c[1][0], c[1][1], c[1][2]), i)]\n",
    "    return out, len(cubes)\n",
    "\n",
    "cubes, ncubes = parse(data)"
   ]
  },
  {
   "cell_type": "markdown",
   "metadata": {},
   "source": [
    "# Part 1"
   ]
  },
  {
   "cell_type": "code",
   "execution_count": 3,
   "metadata": {},
   "outputs": [],
   "source": [
    "def overlap_horizontal(c1,c2):\n",
    "    return not (c1.xmin>=c2.xmax or c2.xmin>=c1.xmax or c2.ymax<=c1.ymin or c1.ymax<=c2.ymin)\n",
    "\n",
    "def fall_down(cubes):\n",
    "    ground = 0\n",
    "\n",
    "    anymoved = True\n",
    "    curcubes = copy.deepcopy(cubes)\n",
    "    while anymoved:\n",
    "        anymoved = False\n",
    "        newcubes = {}\n",
    "        for _,cubs in curcubes.items():\n",
    "            for c in cubs:\n",
    "                hassupport = False\n",
    "                if c.zmin==ground:\n",
    "                    hassupport = True\n",
    "                elif c.zmin in curcubes:\n",
    "                    for c2 in curcubes[c.zmin]:\n",
    "                        if overlap_horizontal(c, c2):\n",
    "                            hassupport = True\n",
    "                cnew = copy.deepcopy(c)\n",
    "                if not hassupport:\n",
    "                    cnew.zmin -= 1\n",
    "                    cnew.zmax -= 1\n",
    "                    anymoved = True\n",
    "                if cnew.zmax in newcubes:\n",
    "                    newcubes[cnew.zmax].append(cnew)\n",
    "                else:\n",
    "                    newcubes[cnew.zmax] = [cnew]\n",
    "        curcubes = newcubes\n",
    "    cubes_by_ceil = curcubes\n",
    "    cubes_by_floor = {}\n",
    "    for _,cubs in curcubes.items():\n",
    "        for c in cubs:\n",
    "            if c.zmin in cubes_by_floor:\n",
    "                cubes_by_floor[c.zmin].append(copy.deepcopy(c))\n",
    "            else:\n",
    "                cubes_by_floor[c.zmin] = [copy.deepcopy(c)]\n",
    "    return cubes_by_ceil, cubes_by_floor\n",
    "\n",
    "def has_integrity(cubes_by_ceil, cubes_by_floor, blocked_id):\n",
    "    zmax_blocked = -1\n",
    "    for _,cubs in cubes_by_ceil.items():\n",
    "        for c1 in cubs:\n",
    "            if c1.id==blocked_id:\n",
    "                zmax_blocked = c1.zmax\n",
    "    if zmax_blocked in cubes_by_floor:\n",
    "        for c1 in cubes_by_floor[zmax_blocked]:\n",
    "            c1support = False\n",
    "            if c1.zmin==0:\n",
    "                c1support = True\n",
    "            else:\n",
    "                for c2 in cubes_by_ceil[c1.zmin]:\n",
    "                    if c2.id!=blocked_id and overlap_horizontal(c1,c2):\n",
    "                        c1support = True\n",
    "                        break\n",
    "            if not c1support:\n",
    "                return 0\n",
    "    return 1\n",
    "\n",
    "def count_disintegrated(cubes_by_ceil, cubes_by_floor, ncubes):\n",
    "    accum = 0\n",
    "    for i in range(ncubes):\n",
    "        accum += has_integrity(cubes_by_ceil, cubes_by_floor, i)\n",
    "    return accum\n",
    "\n",
    "cubes_by_ceil, cubes_by_floor = fall_down(cubes)"
   ]
  },
  {
   "cell_type": "code",
   "execution_count": 4,
   "metadata": {},
   "outputs": [
    {
     "name": "stdout",
     "output_type": "stream",
     "text": [
      "465\n"
     ]
    }
   ],
   "source": [
    "print(count_disintegrated(cubes_by_ceil, cubes_by_floor, ncubes))"
   ]
  },
  {
   "cell_type": "markdown",
   "metadata": {},
   "source": [
    "# Part 2"
   ]
  },
  {
   "cell_type": "code",
   "execution_count": 5,
   "metadata": {},
   "outputs": [
    {
     "name": "stdout",
     "output_type": "stream",
     "text": [
      "79042\n"
     ]
    }
   ],
   "source": [
    "def will_fall(cubes_by_ceil, cubes_by_floor, blocked_id):\n",
    "    zmax_blocked = -1\n",
    "    cblocked = None\n",
    "    for _,cubs in cubes_by_ceil.items():\n",
    "        for c1 in cubs:\n",
    "            if c1.id==blocked_id:\n",
    "                zmax_blocked = c1.zmax\n",
    "                cblocked = c1\n",
    "    causes_fall = False\n",
    "    if zmax_blocked in cubes_by_floor:\n",
    "        for c1 in cubes_by_floor[zmax_blocked]:\n",
    "            c1support = False\n",
    "            if c1.zmin==0:\n",
    "                c1support = True\n",
    "            else:\n",
    "                for c2 in cubes_by_ceil[c1.zmin]:\n",
    "                    if c2.id!=blocked_id and overlap_horizontal(c1,c2):\n",
    "                        c1support = True\n",
    "                        break\n",
    "            if not c1support:\n",
    "                causes_fall = True\n",
    "                break\n",
    "    if causes_fall:\n",
    "        fallen_ids = {cblocked.id}\n",
    "        cubes_cur = [cblocked]\n",
    "        while cubes_cur:\n",
    "            cubes_new = []\n",
    "            for curcube in cubes_cur:\n",
    "                if curcube.zmax in cubes_by_floor:\n",
    "                    for c3 in cubes_by_floor[curcube.zmax]:\n",
    "                        if overlap_horizontal(curcube, c3):\n",
    "                            if c3.id not in fallen_ids:\n",
    "                                will_fall = True\n",
    "                                for c4 in cubes_by_ceil[c3.zmin]:\n",
    "                                    if c4.id not in fallen_ids and overlap_horizontal(c4, c3):\n",
    "                                        will_fall = False\n",
    "                                if will_fall:\n",
    "                                    cubes_new.append(c3)\n",
    "                                    fallen_ids.add(c3.id)\n",
    "            cubes_cur = cubes_new\n",
    "        return len(fallen_ids)-1\n",
    "    return 0\n",
    "\n",
    "def count_fallen(cubes_by_ceil, cubes_by_floor, ncubes):\n",
    "    accum = 0\n",
    "    for i in range(ncubes):\n",
    "        accum += will_fall(cubes_by_ceil, cubes_by_floor, i)\n",
    "    return accum\n",
    "\n",
    "print(count_fallen(cubes_by_ceil, cubes_by_floor, ncubes))"
   ]
  },
  {
   "cell_type": "markdown",
   "metadata": {},
   "source": [
    "# Overkill"
   ]
  },
  {
   "cell_type": "code",
   "execution_count": 7,
   "metadata": {},
   "outputs": [],
   "source": [
    "# import matplotlib.pyplot as plt\n",
    "\n",
    "# fig,ax = plt.subplots(figsize=(5,20))\n",
    "# for _,cubs in cubes.items():\n",
    "#     for c in cubs:\n",
    "#         ax.plot([c.xmin,c.xmin,c.xmax,c.xmax,c.xmin], [c.zmin,c.zmax,c.zmax,c.zmin,c.zmin])\n",
    "# plt.show()\n",
    "# fig,ax = plt.subplots(figsize=(5,20))\n",
    "# for _,cubs in cubes.items():\n",
    "#     for c in cubs:\n",
    "#         ax.plot([c.ymin,c.ymin,c.ymax,c.ymax,c.ymin], [c.zmin,c.zmax,c.zmax,c.zmin,c.zmin])\n",
    "# plt.show()\n",
    "\n",
    "# fig,ax = plt.subplots(figsize=(5,20))\n",
    "# for _,cubs in cubes_by_ceil.items():\n",
    "#     for c in cubs:\n",
    "#         ax.plot([c.xmin,c.xmin,c.xmax,c.xmax,c.xmin], [c.zmin,c.zmax,c.zmax,c.zmin,c.zmin])\n",
    "# plt.show()\n",
    "# fig,ax = plt.subplots(figsize=(5,20))\n",
    "# for _,cubs in cubes_by_ceil.items():\n",
    "#     for c in cubs:\n",
    "#         ax.plot([c.ymin,c.ymin,c.ymax,c.ymax,c.ymin], [c.zmin,c.zmax,c.zmax,c.zmin,c.zmin])\n",
    "# plt.show()"
   ]
  },
  {
   "cell_type": "code",
   "execution_count": null,
   "metadata": {},
   "outputs": [],
   "source": []
  }
 ],
 "metadata": {
  "kernelspec": {
   "display_name": "dl",
   "language": "python",
   "name": "python3"
  },
  "language_info": {
   "codemirror_mode": {
    "name": "ipython",
    "version": 3
   },
   "file_extension": ".py",
   "mimetype": "text/x-python",
   "name": "python",
   "nbconvert_exporter": "python",
   "pygments_lexer": "ipython3",
   "version": "3.8.18"
  }
 },
 "nbformat": 4,
 "nbformat_minor": 2
}
