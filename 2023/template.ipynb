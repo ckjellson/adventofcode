{
 "cells": [
  {
   "cell_type": "code",
   "execution_count": null,
   "metadata": {},
   "outputs": [],
   "source": [
    "from aocd import get_data\n",
    "from utils import *\n",
    "import numpy as np\n",
    "from functools import cmp_to_key\n",
    "import matplotlib.pyplot as plt\n",
    "from tqdm import tqdm\n",
    "from shapely import Polygon as pol\n",
    "import heapq\n",
    "import copy\n",
    "import itertools\n",
    "\n",
    "token = \"\"\n",
    "day, year = 1, 2023\n",
    "data = get_data(session=token, day=day, year=year)"
   ]
  },
  {
   "cell_type": "code",
   "execution_count": null,
   "metadata": {},
   "outputs": [],
   "source": [
    "def get_grid(inlines, c2num):\n",
    "    mat = np.array([[c for c in l] for l in inlines.split(\"\\n\")])\n",
    "    matnum = np.zeros(mat.shape)\n",
    "    for c in np.unique(mat):\n",
    "        matnum[mat==c] = c2num[c]\n",
    "    return matnum, mat\n",
    "\n",
    "c2num = {\".\": 0}\n",
    "num2c = {v: k for k, v in c2num.items()}\n",
    "\n",
    "def parse(inlines):\n",
    "    return [l for l in inlines.split(\"\\n\")]\n",
    "\n",
    "ls = parse(data)\n",
    "ex = \"\"\"\"\"\"\n",
    "# ls = parse(ex)\n",
    "ls"
   ]
  }
 ],
 "metadata": {
  "kernelspec": {
   "display_name": "dl",
   "language": "python",
   "name": "python3"
  },
  "language_info": {
   "codemirror_mode": {
    "name": "ipython",
    "version": 3
   },
   "file_extension": ".py",
   "mimetype": "text/x-python",
   "name": "python",
   "nbconvert_exporter": "python",
   "pygments_lexer": "ipython3",
   "version": "3.8.18"
  }
 },
 "nbformat": 4,
 "nbformat_minor": 2
}
