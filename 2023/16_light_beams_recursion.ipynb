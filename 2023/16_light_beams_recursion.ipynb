{
 "cells": [
  {
   "cell_type": "code",
   "execution_count": 1,
   "metadata": {},
   "outputs": [],
   "source": [
    "import numpy as np"
   ]
  },
  {
   "cell_type": "markdown",
   "metadata": {},
   "source": [
    "# Parsing"
   ]
  },
  {
   "cell_type": "code",
   "execution_count": 2,
   "metadata": {},
   "outputs": [],
   "source": [
    "with open(\"data/input16.txt\") as f:\n",
    "    data = f.read().rstrip(\"\\n\")\n",
    "\n",
    "def get_grid(inlines, c2num):\n",
    "    mat = np.array([[c for c in l] for l in inlines.split(\"\\n\")])\n",
    "    matnum = np.zeros(mat.shape)\n",
    "    for c in np.unique(mat):\n",
    "        matnum[mat==c] = c2num[c]\n",
    "    return matnum, mat\n",
    "\n",
    "c2num = {\".\": 0, \"-\": 1, \"|\": 2, \"/\": 3, \"\\\\\": 4, \"#\": 5}\n",
    "num2c = {v: k for k, v in c2num.items()}\n",
    "\n",
    "mat, strs = get_grid(data, c2num)"
   ]
  },
  {
   "cell_type": "markdown",
   "metadata": {},
   "source": [
    "# Part 1"
   ]
  },
  {
   "cell_type": "code",
   "execution_count": 3,
   "metadata": {},
   "outputs": [
    {
     "name": "stdout",
     "output_type": "stream",
     "text": [
      "8116\n"
     ]
    }
   ],
   "source": [
    "def turn_right(curdir):\n",
    "    if curdir==(0,1):\n",
    "        return (1,0)\n",
    "    if curdir==(0,-1):\n",
    "        return (-1,0)\n",
    "    if curdir==(1,0):\n",
    "        return (0,-1)\n",
    "    if curdir==(-1,0):\n",
    "        return (0,1)\n",
    "\n",
    "def turn_left(curdir):\n",
    "    if curdir==(0,1):\n",
    "        return (-1,0)\n",
    "    if curdir==(0,-1):\n",
    "        return (1,0)\n",
    "    if curdir==(1,0):\n",
    "        return (0,1)\n",
    "    if curdir==(-1,0):\n",
    "        return (0,-1)\n",
    "    \n",
    "def inside_space(pos, space):\n",
    "    return 0<=pos[0]<space.shape[0] and 0<=pos[1]<space.shape[1]\n",
    "\n",
    "def propagate(space, energized, pos, dir, history):\n",
    "    if (pos,dir) in history:\n",
    "        return\n",
    "    history.add((pos,dir))\n",
    "    if inside_space(pos, space):\n",
    "        energized[pos[0], pos[1]] = 1\n",
    "    pos = (pos[0]+dir[0], pos[1]+dir[1])\n",
    "    if not inside_space(pos, space):\n",
    "        return\n",
    "    curc = num2c[space[pos[0], pos[1]]]\n",
    "    while curc in \".#\":\n",
    "        energized[pos[0], pos[1]] = 1\n",
    "        space[pos[0], pos[1]] = c2num[\"#\"]\n",
    "        pos = (pos[0]+dir[0], pos[1]+dir[1])\n",
    "        if not inside_space(pos, space):\n",
    "            return\n",
    "        curc = num2c[space[pos[0], pos[1]]]\n",
    "    if curc==\"|\":\n",
    "        if dir==(0,1) or dir==(0,-1):\n",
    "            propagate(space, energized, pos, turn_right(dir), history)\n",
    "            propagate(space, energized, pos, turn_left(dir), history)\n",
    "        else:\n",
    "            propagate(space, energized, pos, dir, history)\n",
    "    elif curc==\"-\":\n",
    "        if dir==(1,0) or dir==(-1,0):\n",
    "            propagate(space, energized, pos, turn_right(dir), history)\n",
    "            propagate(space, energized, pos, turn_left(dir), history)\n",
    "        else:\n",
    "            propagate(space, energized, pos, dir, history)\n",
    "    elif curc==\"/\":\n",
    "        if dir==(0,1) or dir==(0,-1):\n",
    "            propagate(space, energized, pos, turn_left(dir), history)\n",
    "        else:\n",
    "            propagate(space, energized, pos, turn_right(dir), history)\n",
    "    elif curc==\"\\\\\":\n",
    "        if dir==(0,1) or dir==(0,-1):\n",
    "            propagate(space, energized, pos, turn_right(dir), history)\n",
    "        else:\n",
    "            propagate(space, energized, pos, turn_left(dir), history)\n",
    "    return\n",
    "\n",
    "pos = (0,-1)\n",
    "dir = (0,1)\n",
    "temp = mat.copy()\n",
    "energized = np.zeros(temp.shape)\n",
    "propagate(temp, energized, pos, dir, {((-2,-2), (-2,-2))})\n",
    "print(int(np.sum(energized)))"
   ]
  },
  {
   "cell_type": "markdown",
   "metadata": {},
   "source": [
    "# Part 2"
   ]
  },
  {
   "cell_type": "code",
   "execution_count": 4,
   "metadata": {},
   "outputs": [
    {
     "name": "stdout",
     "output_type": "stream",
     "text": [
      "8383\n"
     ]
    }
   ],
   "source": [
    "energized_counts = []\n",
    "\n",
    "for i in range(mat.shape[0]):\n",
    "    for pos, dir in zip([(i,-1), (i,mat.shape[1])], [(0,1), (0,-1)]):\n",
    "        temp = mat.copy()\n",
    "        energized = np.zeros(temp.shape)\n",
    "        propagate(temp, energized, pos, dir, {((-2,-2), (-2,-2))})\n",
    "        energized_counts.append(int(np.sum(energized)))\n",
    "for i in range(mat.shape[1]):\n",
    "    for pos, dir in zip([(-1,i), (mat.shape[0],i)], [(1,0), (-1,0)]):\n",
    "        temp = mat.copy()\n",
    "        energized = np.zeros(temp.shape)\n",
    "        propagate(temp, energized, pos, dir, {((-2,-2), (-2,-2))})\n",
    "        energized_counts.append(int(np.sum(energized)))\n",
    "print(max(energized_counts))"
   ]
  },
  {
   "cell_type": "code",
   "execution_count": null,
   "metadata": {},
   "outputs": [],
   "source": []
  }
 ],
 "metadata": {
  "kernelspec": {
   "display_name": "dl",
   "language": "python",
   "name": "python3"
  },
  "language_info": {
   "codemirror_mode": {
    "name": "ipython",
    "version": 3
   },
   "file_extension": ".py",
   "mimetype": "text/x-python",
   "name": "python",
   "nbconvert_exporter": "python",
   "pygments_lexer": "ipython3",
   "version": "3.8.18"
  }
 },
 "nbformat": 4,
 "nbformat_minor": 2
}
