{
 "cells": [
  {
   "cell_type": "code",
   "execution_count": 1,
   "metadata": {},
   "outputs": [],
   "source": [
    "import numpy as np\n",
    "\n",
    "# To remember for faster solving next time:\n",
    "#\n",
    "# X,Y = [0,1,2], []\n",
    "# ...\n",
    "# poly = np.rint(np.polynomial.polynomial.polyfit(X,Y,2)).astype(int).tolist()\n",
    "# return p1, sum(poly[i]*target**i for i in range(3))"
   ]
  },
  {
   "cell_type": "markdown",
   "metadata": {},
   "source": [
    "# Parsing"
   ]
  },
  {
   "cell_type": "code",
   "execution_count": 2,
   "metadata": {},
   "outputs": [
    {
     "name": "stdout",
     "output_type": "stream",
     "text": [
      "3649\n"
     ]
    }
   ],
   "source": [
    "with open(\"data/input21.txt\") as f:\n",
    "    data = f.read().rstrip(\"\\n\")\n",
    "\n",
    "def get_grid(inlines, c2num):\n",
    "    mat = np.array([[c for c in l] for l in inlines.split(\"\\n\")])\n",
    "    matnum = np.zeros(mat.shape)\n",
    "    for c in np.unique(mat):\n",
    "        matnum[mat==c] = c2num[c]\n",
    "    return matnum, mat\n",
    "\n",
    "c2num = {\".\": 0, \"#\": -1, \"S\": -3, \"O\": 1}\n",
    "num2c = {v: k for k, v in c2num.items()}\n",
    "\n",
    "def parse(inlines):\n",
    "    return [l for l in inlines.split(\"\\n\")]\n",
    "\n",
    "matnum, mat = get_grid(data, c2num)\n",
    "\n",
    "spos = np.where(matnum==c2num[\"S\"])\n",
    "spos = (int(spos[0]), int(spos[1]))\n",
    "\n",
    "curmat = matnum.copy()\n",
    "curmat[curmat==c2num[\"S\"]] = c2num[\"O\"]\n",
    "for step in range(64):\n",
    "    newmat = matnum.copy()\n",
    "    newmat[newmat==c2num[\"S\"]] = c2num[\".\"]\n",
    "    x,y = np.where(curmat==c2num[\"O\"])\n",
    "    for pos in zip(x,y):\n",
    "        for dir in [(0,1), (1,0), (-1,0), (0,-1)]:\n",
    "            newpos = (pos[0]+dir[0], pos[1]+dir[1])\n",
    "            if 0<=newpos[0]<curmat.shape[0] and 0<=newpos[1]<curmat.shape[1]:\n",
    "                if curmat[newpos[0], newpos[1]]==c2num[\".\"]:\n",
    "                    newmat[newpos[0], newpos[1]] = c2num[\"O\"]\n",
    "    curmat = newmat\n",
    "print((curmat==c2num[\"O\"]).sum())"
   ]
  },
  {
   "cell_type": "markdown",
   "metadata": {},
   "source": [
    "# Part 2"
   ]
  },
  {
   "cell_type": "code",
   "execution_count": 3,
   "metadata": {},
   "outputs": [
    {
     "name": "stdout",
     "output_type": "stream",
     "text": [
      "7520 .\n",
      "7457 O\n"
     ]
    }
   ],
   "source": [
    "matnum, mat = get_grid(data, c2num)\n",
    "gw = matnum.shape[0]\n",
    "\n",
    "spos = np.where(matnum==c2num[\"S\"])\n",
    "spos = (int(spos[0]), int(spos[1]))\n",
    "\n",
    "curmat = matnum.copy()\n",
    "curmat[curmat==c2num[\"S\"]] = c2num[\"O\"]\n",
    "for step in range(gw):\n",
    "    newmat = matnum.copy()\n",
    "    newmat[newmat==c2num[\"S\"]] = c2num[\".\"]\n",
    "    x,y = np.where(curmat==c2num[\"O\"])\n",
    "    for pos in zip(x,y):\n",
    "        for dir in [(0,1), (1,0), (-1,0), (0,-1)]:\n",
    "            newpos = (pos[0]+dir[0], pos[1]+dir[1])\n",
    "            if 0<=newpos[0]<curmat.shape[0] and 0<=newpos[1]<curmat.shape[1]:\n",
    "                if curmat[newpos[0], newpos[1]]==c2num[\".\"]:\n",
    "                    newmat[newpos[0], newpos[1]] = c2num[\"O\"]\n",
    "    curmat = newmat\n",
    "print((curmat==c2num[\"O\"]).sum(), num2c[curmat[spos[0],spos[1]]])\n",
    "midmat = curmat.copy()\n",
    "nmid = (curmat==c2num[\"O\"]).sum()\n",
    "curmat = matnum.copy()\n",
    "curmat[curmat==c2num[\"S\"]] = c2num[\"O\"]\n",
    "for step in range(132):\n",
    "    newmat = matnum.copy()\n",
    "    newmat[newmat==c2num[\"S\"]] = c2num[\".\"]\n",
    "    x,y = np.where(curmat==c2num[\"O\"])\n",
    "    for pos in zip(x,y):\n",
    "        for dir in [(0,1), (1,0), (-1,0), (0,-1)]:\n",
    "            newpos = (pos[0]+dir[0], pos[1]+dir[1])\n",
    "            if 0<=newpos[0]<curmat.shape[0] and 0<=newpos[1]<curmat.shape[1]:\n",
    "                if curmat[newpos[0], newpos[1]]==c2num[\".\"]:\n",
    "                    newmat[newpos[0], newpos[1]] = c2num[\"O\"]\n",
    "    curmat = newmat\n",
    "print((curmat==c2num[\"O\"]).sum(), num2c[curmat[spos[0],spos[1]]])\n",
    "edgemat = curmat.copy()\n",
    "nedge = (curmat==c2num[\"O\"]).sum()"
   ]
  },
  {
   "cell_type": "code",
   "execution_count": 4,
   "metadata": {},
   "outputs": [
    {
     "name": "stdout",
     "output_type": "stream",
     "text": [
      "202300\n",
      "40924885401\n",
      "40925290000\n",
      "202300\n",
      "202299\n",
      "202300\n"
     ]
    }
   ],
   "source": [
    "nmidboxes = 1\n",
    "nedgeboxes = 0\n",
    "nsteps = 26501365\n",
    "nboxsteps = int((nsteps-spos[0])/matnum.shape[0])\n",
    "for i in range(nboxsteps):\n",
    "    if i%2==0:\n",
    "        nmidboxes += i*4\n",
    "    else:\n",
    "        nedgeboxes += i*4\n",
    "nouter = nboxsteps-1\n",
    "nouter2 = nboxsteps\n",
    "print(nboxsteps)\n",
    "print(nmidboxes)\n",
    "print(nedgeboxes)\n",
    "print(nboxsteps)\n",
    "print(nouter)\n",
    "print(nouter2)"
   ]
  },
  {
   "cell_type": "code",
   "execution_count": 5,
   "metadata": {},
   "outputs": [],
   "source": [
    "matnum, mat = get_grid(data, c2num)\n",
    "\n",
    "temp = matnum.copy()\n",
    "temp[temp==c2num[\"S\"]] = c2num[\".\"]\n",
    "temp = np.vstack([temp,temp,temp,temp,temp])\n",
    "temp = np.hstack([temp,temp,temp,temp,temp])\n",
    "temp[65+gw*2,65+gw*2] = c2num[\"S\"]\n",
    "matnum = temp\n",
    "\n",
    "spos = np.where(matnum==c2num[\"S\"])\n",
    "curmat = matnum.copy()\n",
    "curmat[curmat==c2num[\"S\"]] = c2num[\"O\"]\n",
    "for step in range(65+gw*2):\n",
    "    newmat = matnum.copy()\n",
    "    newmat[newmat==c2num[\"S\"]] = c2num[\".\"]\n",
    "    x,y = np.where(curmat==c2num[\"O\"])\n",
    "    for pos in zip(x,y):\n",
    "        for dir in [(0,1), (1,0), (-1,0), (0,-1)]:\n",
    "            newpos = (pos[0]+dir[0], pos[1]+dir[1])\n",
    "            if 0<=newpos[0]<curmat.shape[0] and 0<=newpos[1]<curmat.shape[1]:\n",
    "                if curmat[newpos[0], newpos[1]]==c2num[\".\"]:\n",
    "                    newmat[newpos[0], newpos[1]] = c2num[\"O\"]\n",
    "    curmat = newmat"
   ]
  },
  {
   "cell_type": "code",
   "execution_count": 6,
   "metadata": {},
   "outputs": [
    {
     "name": "stdout",
     "output_type": "stream",
     "text": [
      "6587 6611 6607 6587\n",
      "5678 5674 5678 5674\n",
      "948 943 965 950\n"
     ]
    }
   ],
   "source": [
    "nmid_sw = (curmat[gw:gw*2,gw*3:gw*4]==c2num[\"O\"]).sum()\n",
    "nmid_se = (curmat[gw:gw*2,gw:gw*2]==c2num[\"O\"]).sum()\n",
    "nmid_nw = (curmat[gw*3:gw*4,gw*3:gw*4]==c2num[\"O\"]).sum()\n",
    "nmid_ne = (curmat[gw*3:gw*4,gw:gw*2]==c2num[\"O\"]).sum()\n",
    "nmid_left = (curmat[gw*2:gw*3,:gw]==c2num[\"O\"]).sum()\n",
    "nmid_right = (curmat[gw*2:gw*3,gw*4:]==c2num[\"O\"]).sum()\n",
    "nmid_up = (curmat[:gw,gw*2:gw*3]==c2num[\"O\"]).sum()\n",
    "nmid_down = (curmat[gw*4:,gw*2:gw*3]==c2num[\"O\"]).sum()\n",
    "nedge_sw = (curmat[:gw,gw*3:gw*4]==c2num[\"O\"]).sum()\n",
    "nedge_se = (curmat[:gw,gw:gw*2]==c2num[\"O\"]).sum()\n",
    "nedge_nw = (curmat[gw*4:,gw*3:gw*4]==c2num[\"O\"]).sum()\n",
    "nedge_ne = (curmat[gw*4:,gw:gw*2]==c2num[\"O\"]).sum()\n",
    "print(nmid_sw, nmid_se, nmid_nw, nmid_ne)\n",
    "print(nmid_left, nmid_right, nmid_up, nmid_down)\n",
    "print(nedge_sw, nedge_se, nedge_nw, nedge_ne)"
   ]
  },
  {
   "cell_type": "code",
   "execution_count": 7,
   "metadata": {},
   "outputs": [
    {
     "name": "stdout",
     "output_type": "stream",
     "text": [
      "612941134797232\n"
     ]
    }
   ],
   "source": [
    "print(nmid*nmidboxes + nedge*nedgeboxes + nouter2*(nedge_sw+nedge_se+nedge_nw+nedge_ne) + nouter*(nmid_sw+nmid_se+nmid_nw+nmid_ne) + (nmid_left+nmid_right+nmid_up+nmid_down))"
   ]
  },
  {
   "cell_type": "code",
   "execution_count": null,
   "metadata": {},
   "outputs": [],
   "source": []
  }
 ],
 "metadata": {
  "kernelspec": {
   "display_name": "dl",
   "language": "python",
   "name": "python3"
  },
  "language_info": {
   "codemirror_mode": {
    "name": "ipython",
    "version": 3
   },
   "file_extension": ".py",
   "mimetype": "text/x-python",
   "name": "python",
   "nbconvert_exporter": "python",
   "pygments_lexer": "ipython3",
   "version": "3.8.18"
  }
 },
 "nbformat": 4,
 "nbformat_minor": 2
}
