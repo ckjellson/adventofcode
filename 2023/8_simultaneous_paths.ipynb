{
 "cells": [
  {
   "cell_type": "code",
   "execution_count": 1,
   "metadata": {},
   "outputs": [],
   "source": [
    "import numpy as np"
   ]
  },
  {
   "cell_type": "markdown",
   "metadata": {},
   "source": [
    "# Parsing"
   ]
  },
  {
   "cell_type": "code",
   "execution_count": 2,
   "metadata": {},
   "outputs": [],
   "source": [
    "with open(\"data/input8.txt\") as f:\n",
    "    ls = f.readlines()\n",
    "    ls = [l.rstrip(\"\\n\") for l in ls]\n",
    "\n",
    "turns = [lr for lr in ls[0]]\n",
    "turns = [int(lr==\"R\") for lr in turns]\n",
    "signs = {}\n",
    "for l in ls[2:]:\n",
    "    signs[l.split(\" = \")[0]] = (l.split(\" = (\")[1].split(\", \")[0], l.split(\" = (\")[1].split(\", \")[1][:-1])"
   ]
  },
  {
   "cell_type": "markdown",
   "metadata": {},
   "source": [
    "# Part 1"
   ]
  },
  {
   "cell_type": "code",
   "execution_count": 3,
   "metadata": {},
   "outputs": [
    {
     "data": {
      "text/plain": [
       "14429"
      ]
     },
     "execution_count": 3,
     "metadata": {},
     "output_type": "execute_result"
    }
   ],
   "source": [
    "found = False\n",
    "steps = 0\n",
    "curstate = \"AAA\"\n",
    "while not found:\n",
    "    for turn in turns:\n",
    "        curstate = signs[curstate][turn]\n",
    "        steps += 1\n",
    "        if curstate==\"ZZZ\":\n",
    "            found = True\n",
    "            break\n",
    "steps"
   ]
  },
  {
   "cell_type": "markdown",
   "metadata": {},
   "source": [
    "# Part 2"
   ]
  },
  {
   "cell_type": "code",
   "execution_count": 4,
   "metadata": {},
   "outputs": [
    {
     "name": "stdout",
     "output_type": "stream",
     "text": [
      "10921547990923\n"
     ]
    }
   ],
   "source": [
    "found = False\n",
    "steps = 0\n",
    "curstates = []\n",
    "goalstates = []\n",
    "for k,v in signs.items():\n",
    "    if k[-1]==\"A\":\n",
    "        curstates.append((k, k))\n",
    "    if k[-1]==\"Z\":\n",
    "        goalstates.append(k)\n",
    "startstates = [cs[0] for cs in curstates]\n",
    "\n",
    "hasz = {}\n",
    "for st in startstates:\n",
    "    hasz[st] = [(0,0)]\n",
    "while len(curstates)>0:\n",
    "    for turn in turns:\n",
    "        curstates = [(signs[curstate][turn], startstate) for curstate, startstate in curstates]\n",
    "        steps += 1\n",
    "        for curstate, startstate in curstates:\n",
    "            if curstate[-1]==\"Z\":\n",
    "                hasz[startstate].append((steps, steps-hasz[startstate][-1][0]))\n",
    "    if steps>100000:\n",
    "        break\n",
    "\n",
    "diffs = []\n",
    "for k,v in hasz.items():\n",
    "    diffs.append(v[1][1])\n",
    "diffs = np.array(diffs)\n",
    "gcds = []\n",
    "while True:\n",
    "    gcd = np.gcd.reduce((np.array(diffs)).astype(int))\n",
    "    if gcd==1:\n",
    "        break\n",
    "    diffs = diffs/gcd\n",
    "    gcds.append(gcd)\n",
    "accum = 1\n",
    "for d in diffs:\n",
    "    accum *= int(d)\n",
    "for gcd in gcds:\n",
    "    accum *= gcd\n",
    "print(accum)"
   ]
  },
  {
   "cell_type": "code",
   "execution_count": null,
   "metadata": {},
   "outputs": [],
   "source": []
  }
 ],
 "metadata": {
  "kernelspec": {
   "display_name": "dl",
   "language": "python",
   "name": "python3"
  },
  "language_info": {
   "codemirror_mode": {
    "name": "ipython",
    "version": 3
   },
   "file_extension": ".py",
   "mimetype": "text/x-python",
   "name": "python",
   "nbconvert_exporter": "python",
   "pygments_lexer": "ipython3",
   "version": "3.8.18"
  }
 },
 "nbformat": 4,
 "nbformat_minor": 2
}
