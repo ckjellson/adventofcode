{
 "cells": [
  {
   "cell_type": "code",
   "execution_count": 1,
   "metadata": {},
   "outputs": [],
   "source": [
    "import copy"
   ]
  },
  {
   "cell_type": "markdown",
   "metadata": {},
   "source": [
    "# Parsing"
   ]
  },
  {
   "cell_type": "code",
   "execution_count": 2,
   "metadata": {},
   "outputs": [],
   "source": [
    "with open(\"data/input19.txt\") as f:\n",
    "    data = f.read().rstrip(\"\\n\")\n",
    "\n",
    "def parse(inlines):\n",
    "    wfs = {l.split(\"{\")[0]: [w for w in l.split(\"{\")[1][:-1].split(\",\")] for l in inlines.split(\"\\n\\n\")[0].split(\"\\n\")}\n",
    "    ratings = [{row.split(\"=\")[0]:int(row.split(\"=\")[1]) for row in l[1:-1].split(\",\")} for l in inlines.split(\"\\n\\n\")[1].split(\"\\n\")]\n",
    "\n",
    "    for id,rules in wfs.items():\n",
    "        newrules = []\n",
    "        for rule in rules[:-1]:\n",
    "            if \"<\" in rule:\n",
    "                newrules.append((rule.split(\"<\")[0], \"<\", int(rule.split(\"<\")[1].split(\":\")[0]), rule.split(\":\")[1]))\n",
    "            if \">\" in rule:\n",
    "                newrules.append((rule.split(\">\")[0], \">\", int(rule.split(\">\")[1].split(\":\")[0]), rule.split(\":\")[1]))\n",
    "        newrules.append(rules[-1])\n",
    "        wfs[id] = newrules\n",
    "    return wfs, ratings\n",
    "\n",
    "wfs,ratings = parse(data)"
   ]
  },
  {
   "cell_type": "markdown",
   "metadata": {},
   "source": [
    "# Part 1"
   ]
  },
  {
   "cell_type": "code",
   "execution_count": 3,
   "metadata": {},
   "outputs": [
    {
     "data": {
      "text/plain": [
       "330820"
      ]
     },
     "execution_count": 3,
     "metadata": {},
     "output_type": "execute_result"
    }
   ],
   "source": [
    "accum = 0\n",
    "for rating in ratings:\n",
    "    curstate = \"in\"\n",
    "    while True:\n",
    "        found = False\n",
    "        for rule in wfs[curstate][:-1]:\n",
    "            if rule[1]==\"<\":\n",
    "                if rating[rule[0]]<rule[2]:\n",
    "                    curstate = rule[3]\n",
    "                    found = True\n",
    "                    break\n",
    "            else:\n",
    "                if rating[rule[0]]>rule[2]:\n",
    "                    curstate = rule[3]\n",
    "                    found = True\n",
    "                    break\n",
    "        if not found:\n",
    "            curstate = wfs[curstate][-1]\n",
    "        if curstate==\"A\":\n",
    "            for k,v in rating.items():\n",
    "                accum += v\n",
    "            break\n",
    "        if curstate==\"R\":\n",
    "            break\n",
    "accum"
   ]
  },
  {
   "cell_type": "markdown",
   "metadata": {},
   "source": [
    "# Part 2"
   ]
  },
  {
   "cell_type": "code",
   "execution_count": 4,
   "metadata": {},
   "outputs": [
    {
     "data": {
      "text/plain": [
       "123972546935551"
      ]
     },
     "execution_count": 4,
     "metadata": {},
     "output_type": "execute_result"
    }
   ],
   "source": [
    "newratings = {\"x\": (1,4000), \"m\": (1,4000), \"a\": (1,4000), \"s\": (1,4000)}\n",
    "curstate = \"in\"\n",
    "\n",
    "def recurse(state, rates):\n",
    "    if state==\"A\":\n",
    "        accum = 1\n",
    "        for k,(start,end) in rates.items():\n",
    "            accum *= (end-start+1)\n",
    "        return accum\n",
    "    if state==\"R\":\n",
    "        return 0\n",
    "    \n",
    "    ans = 0\n",
    "    complete = False\n",
    "    for rule in wfs[state][:-1]:\n",
    "        rateid, sign, value, newstate = rule[0], rule[1], rule[2], rule[3]\n",
    "        if sign==\"<\":\n",
    "            if rates[rateid][1]<value:\n",
    "                ans += recurse(rule[3], rates)\n",
    "                complete=True\n",
    "            elif rates[rateid][0]<value:\n",
    "                newrates = copy.copy(rates)\n",
    "                newrates[rateid] = (rates[rateid][0], value-1)\n",
    "                ans += recurse(newstate, newrates)\n",
    "                rates[rateid] = (value, rates[rateid][1])\n",
    "        elif sign==\">\":\n",
    "            if rates[rateid][0]>value:\n",
    "                ans += recurse(rule[3], rates)\n",
    "                complete=True\n",
    "            elif rates[rateid][1]>value:\n",
    "                newrates = copy.copy(rates)\n",
    "                newrates[rateid] = (value+1, rates[rateid][1])\n",
    "                ans += recurse(newstate, newrates)\n",
    "                rates[rateid] = (rates[rateid][0], value)\n",
    "    if not complete:\n",
    "        ans += recurse(wfs[state][-1], rates)\n",
    "\n",
    "    return ans\n",
    "\n",
    "recurse(curstate, newratings)"
   ]
  },
  {
   "cell_type": "code",
   "execution_count": null,
   "metadata": {},
   "outputs": [],
   "source": []
  }
 ],
 "metadata": {
  "kernelspec": {
   "display_name": "dl",
   "language": "python",
   "name": "python3"
  },
  "language_info": {
   "codemirror_mode": {
    "name": "ipython",
    "version": 3
   },
   "file_extension": ".py",
   "mimetype": "text/x-python",
   "name": "python",
   "nbconvert_exporter": "python",
   "pygments_lexer": "ipython3",
   "version": "3.8.18"
  }
 },
 "nbformat": 4,
 "nbformat_minor": 2
}
