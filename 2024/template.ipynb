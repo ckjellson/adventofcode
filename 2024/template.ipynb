{
 "cells": [
  {
   "cell_type": "code",
   "execution_count": null,
   "metadata": {},
   "outputs": [],
   "source": [
    "from aocd import get_data\n",
    "from utils import *\n",
    "import numpy as np\n",
    "from functools import cmp_to_key, cache\n",
    "import matplotlib.pyplot as plt\n",
    "from tqdm import tqdm\n",
    "from shapely import Polygon as pol\n",
    "import heapq\n",
    "from copy import copy, deepcopy\n",
    "import itertools\n",
    "from ast import literal_eval\n",
    "from skimage.measure import label\n",
    "import networkx as nx\n",
    "import re\n",
    "import graphviz as gv\n",
    "\n",
    "token = \"\"\n",
    "day, year = 1, 2024\n",
    "data = get_data(session=token, day=day, year=year)\n",
    "print(data)"
   ]
  },
  {
   "cell_type": "code",
   "execution_count": null,
   "metadata": {},
   "outputs": [],
   "source": [
    "def get_grids(inlines, c2num=None):\n",
    "    mat = np.array([[c for c in l] for l in inlines.split(\"\\n\")])\n",
    "    if c2num is None:\n",
    "        c2num = {}\n",
    "        for i,c in enumerate(np.unique(mat)):\n",
    "            c2num[str(c)] = i\n",
    "    num2c = {v: k for k, v in c2num.items()}\n",
    "    matnum = np.zeros(mat.shape)\n",
    "    for k,v in c2num.items():\n",
    "        matnum[mat==k] = v\n",
    "    return matnum, mat, c2num, num2c\n",
    "\n",
    "def get_grid(inlines):\n",
    "    mat = np.array([[c for c in l] for l in inlines.split(\"\\n\")])\n",
    "    return mat\n",
    "\n",
    "c2num = {\".\": 0}\n",
    "alldirs = [(0,1),(1,1),(1,0),(-1,0),(-1,-1),(0,-1),(-1,1),(1,-1)]\n",
    "dirs = [(0,1),(1,0),(-1,0),(0,-1)]\n",
    "\n",
    "def parse(inlines):\n",
    "    return [l for l in inlines.split(\"\\n\")]\n",
    "\n",
    "ls = parse(data)\n",
    "ex = \"\"\"\"\"\"\n",
    "ls = parse(ex)\n",
    "ls"
   ]
  }
 ],
 "metadata": {
  "kernelspec": {
   "display_name": "aoc",
   "language": "python",
   "name": "python3"
  },
  "language_info": {
   "codemirror_mode": {
    "name": "ipython",
    "version": 3
   },
   "file_extension": ".py",
   "mimetype": "text/x-python",
   "name": "python",
   "nbconvert_exporter": "python",
   "pygments_lexer": "ipython3",
   "version": "3.9.20"
  }
 },
 "nbformat": 4,
 "nbformat_minor": 2
}
