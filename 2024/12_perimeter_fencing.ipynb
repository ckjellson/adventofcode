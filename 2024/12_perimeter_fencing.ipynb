{
 "cells": [
  {
   "cell_type": "code",
   "execution_count": 1,
   "metadata": {},
   "outputs": [],
   "source": [
    "from utils import *\n",
    "import numpy as np\n",
    "from skimage.measure import label\n",
    "from tqdm import tqdm\n",
    "from copy import copy, deepcopy"
   ]
  },
  {
   "cell_type": "markdown",
   "metadata": {},
   "source": [
    "# Parsing"
   ]
  },
  {
   "cell_type": "code",
   "execution_count": 2,
   "metadata": {},
   "outputs": [],
   "source": [
    "def get_grids(inlines, c2num=None):\n",
    "    mat = np.array([[c for c in l] for l in inlines.split(\"\\n\")])\n",
    "    if c2num is None:\n",
    "        c2num = {}\n",
    "        for i,c in enumerate(np.unique(mat)):\n",
    "            c2num[str(c)] = i\n",
    "    num2c = {v: k for k, v in c2num.items()}\n",
    "    matnum = np.zeros(mat.shape)\n",
    "    for k,v in c2num.items():\n",
    "        matnum[mat==k] = v\n",
    "    return matnum, mat, c2num, num2c\n",
    "\n",
    "def parse(inlines):\n",
    "    return get_grids(inlines)\n",
    "\n",
    "matnum, mat, c2num, num2c = parse(open(\"data/input12.txt\").read())"
   ]
  },
  {
   "cell_type": "markdown",
   "metadata": {},
   "source": [
    "# Part 1 and 2"
   ]
  },
  {
   "cell_type": "code",
   "execution_count": 3,
   "metadata": {},
   "outputs": [
    {
     "name": "stdout",
     "output_type": "stream",
     "text": [
      "1352976\n",
      "808796\n"
     ]
    }
   ],
   "source": [
    "\n",
    "mat = np.array([[c for c in l] for l in open(\"data/input12.txt\").read().split(\"\\n\")])\n",
    "p1 = 0\n",
    "p2 = 0\n",
    "dirs = [(0,1),(1,0),(-1,0),(0,-1)]\n",
    "for val in np.unique(mat):\n",
    "    conn = label(mat==val, connectivity=1)\n",
    "    for v in range(1,np.max(conn)+1):\n",
    "        up, down, left, right = [], [], [], []\n",
    "        perim1 = 0\n",
    "        for row,col in zip(*np.where(conn==v)):\n",
    "            pos = (int(row),int(col))\n",
    "            for d in dirs:\n",
    "                newpos = (pos[0]+d[0],pos[1]+d[1])\n",
    "                if newpos[0]<0 or newpos[0]>=conn.shape[0] or newpos[1]<0 or newpos[1]>=conn.shape[1] or conn[newpos[0],newpos[1]]!=v:\n",
    "                    perim1 += 1\n",
    "                    if d[0]==-1:\n",
    "                        right.append((newpos[1], newpos[0]))\n",
    "                    elif d[0]==1:\n",
    "                        left.append((newpos[1], newpos[0]))\n",
    "                    elif d[1]==-1:\n",
    "                        up.append(newpos)\n",
    "                    elif d[1]==1:\n",
    "                        down.append(newpos)\n",
    "        perim2 = 0\n",
    "        for arr in [np.array(up), np.array(down), np.array(left), np.array(right)]:\n",
    "            for col in np.unique(arr[:,1]):\n",
    "                vals = sorted(list(arr[arr[:,1]==col,0]))\n",
    "                perim2 += 1\n",
    "                for i in range(len(vals)-1):\n",
    "                    if np.abs(vals[i]-vals[i+1])>1:\n",
    "                        perim2 += 1\n",
    "        area = np.sum(conn==v)\n",
    "        p1 += area*perim1\n",
    "        p2 += area*perim2\n",
    "print(p1)\n",
    "print(p2)"
   ]
  }
 ],
 "metadata": {
  "kernelspec": {
   "display_name": "aoc",
   "language": "python",
   "name": "python3"
  },
  "language_info": {
   "codemirror_mode": {
    "name": "ipython",
    "version": 3
   },
   "file_extension": ".py",
   "mimetype": "text/x-python",
   "name": "python",
   "nbconvert_exporter": "python",
   "pygments_lexer": "ipython3",
   "version": "3.9.20"
  }
 },
 "nbformat": 4,
 "nbformat_minor": 2
}
