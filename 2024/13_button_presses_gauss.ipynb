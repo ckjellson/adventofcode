{
 "cells": [
  {
   "cell_type": "code",
   "execution_count": 3,
   "metadata": {},
   "outputs": [],
   "source": [
    "from utils import *\n",
    "import numpy as np\n",
    "from tqdm import tqdm\n",
    "from copy import copy, deepcopy\n",
    "import re\n",
    "from math import isclose"
   ]
  },
  {
   "cell_type": "markdown",
   "metadata": {},
   "source": [
    "# Part 1 & 2"
   ]
  },
  {
   "cell_type": "code",
   "execution_count": 4,
   "metadata": {},
   "outputs": [
    {
     "name": "stdout",
     "output_type": "stream",
     "text": [
      "29438\n",
      "104958599303720\n"
     ]
    }
   ],
   "source": [
    "def compute(ax, ay, bx, by, xgoal, ygoal):\n",
    "    n2 = (ygoal - ay/ax*xgoal) / (by - bx*ay/ax)\n",
    "    n1 = (xgoal - n2*bx) / ax\n",
    "    if isclose(n1-int(round(n1)), 0, abs_tol=0.01) and isclose(n2-int(round(n2)), 0, abs_tol=0.01):\n",
    "        return int(round(n1*3 + n2*1))\n",
    "    return 0\n",
    "\n",
    "p1, p2 = 0, 0\n",
    "for (ax,ay), (bx, by), (xgoal, ygoal) in [[lmap(int, re.findall(r\"-?\\d+\", r)) for r in l.split(\"\\n\")] for l in open(\"data/input13.txt\").read().split(\"\\n\\n\")]:\n",
    "    p1 += compute(ax,ay,bx,by,xgoal,ygoal)\n",
    "    p2 += compute(ax,ay,bx,by,xgoal+10000000000000,ygoal+10000000000000)\n",
    "print(p1)\n",
    "print(p2)"
   ]
  },
  {
   "cell_type": "code",
   "execution_count": null,
   "metadata": {},
   "outputs": [],
   "source": []
  }
 ],
 "metadata": {
  "kernelspec": {
   "display_name": "aoc",
   "language": "python",
   "name": "python3"
  },
  "language_info": {
   "codemirror_mode": {
    "name": "ipython",
    "version": 3
   },
   "file_extension": ".py",
   "mimetype": "text/x-python",
   "name": "python",
   "nbconvert_exporter": "python",
   "pygments_lexer": "ipython3",
   "version": "3.9.20"
  }
 },
 "nbformat": 4,
 "nbformat_minor": 2
}
