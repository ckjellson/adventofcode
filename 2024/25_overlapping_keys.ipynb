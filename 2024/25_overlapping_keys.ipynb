{
 "cells": [
  {
   "cell_type": "code",
   "execution_count": 1,
   "metadata": {},
   "outputs": [],
   "source": [
    "from utils import *\n",
    "import numpy as np\n",
    "from tqdm import tqdm\n",
    "from copy import copy, deepcopy"
   ]
  },
  {
   "cell_type": "markdown",
   "metadata": {},
   "source": [
    "# Parsing"
   ]
  },
  {
   "cell_type": "code",
   "execution_count": 2,
   "metadata": {},
   "outputs": [],
   "source": [
    "def get_grid(inlines):\n",
    "    mat = np.array([[c for c in l] for l in inlines.split(\"\\n\")])\n",
    "    return mat\n",
    "\n",
    "def parse(inlines):\n",
    "    return [get_grid(l) for l in inlines.split(\"\\n\\n\")]\n",
    "\n",
    "ls = parse(open(\"data/input25.txt\").read())"
   ]
  },
  {
   "cell_type": "markdown",
   "metadata": {},
   "source": [
    "# Part 1 & 2"
   ]
  },
  {
   "cell_type": "code",
   "execution_count": 3,
   "metadata": {},
   "outputs": [
    {
     "data": {
      "text/plain": [
       "2854"
      ]
     },
     "execution_count": 3,
     "metadata": {},
     "output_type": "execute_result"
    }
   ],
   "source": [
    "locks = []\n",
    "keys = []\n",
    "for g in ls:\n",
    "    if np.all(g[0,:]==\"#\"):\n",
    "        locks.append(np.sum(g==\"#\",axis=0)-1)\n",
    "    if np.all(g[-1,:]==\"#\"):\n",
    "        keys.append(np.sum(g==\"#\",axis=0)-1)\n",
    "acc = 0\n",
    "for k in keys:\n",
    "    for l in locks:\n",
    "        # print(k+l)\n",
    "        if np.all((k+l)<=5):\n",
    "            acc += 1\n",
    "acc"
   ]
  },
  {
   "cell_type": "code",
   "execution_count": null,
   "metadata": {},
   "outputs": [],
   "source": []
  }
 ],
 "metadata": {
  "kernelspec": {
   "display_name": "aoc",
   "language": "python",
   "name": "python3"
  },
  "language_info": {
   "codemirror_mode": {
    "name": "ipython",
    "version": 3
   },
   "file_extension": ".py",
   "mimetype": "text/x-python",
   "name": "python",
   "nbconvert_exporter": "python",
   "pygments_lexer": "ipython3",
   "version": "3.9.20"
  }
 },
 "nbformat": 4,
 "nbformat_minor": 2
}
