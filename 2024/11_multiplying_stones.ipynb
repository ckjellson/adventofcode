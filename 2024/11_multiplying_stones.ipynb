{
 "cells": [
  {
   "cell_type": "code",
   "execution_count": 1,
   "metadata": {},
   "outputs": [],
   "source": [
    "from utils import *\n",
    "import numpy as np\n",
    "from tqdm import tqdm\n",
    "from copy import deepcopy"
   ]
  },
  {
   "cell_type": "markdown",
   "metadata": {},
   "source": [
    "# Parsing"
   ]
  },
  {
   "cell_type": "code",
   "execution_count": 2,
   "metadata": {},
   "outputs": [],
   "source": [
    "def parse(inlines):\n",
    "    return ints(inlines)\n",
    "\n",
    "ls = parse(open(\"data/input11.txt\").read())"
   ]
  },
  {
   "cell_type": "markdown",
   "metadata": {},
   "source": [
    "# Part 1"
   ]
  },
  {
   "cell_type": "code",
   "execution_count": 3,
   "metadata": {},
   "outputs": [
    {
     "name": "stderr",
     "output_type": "stream",
     "text": [
      "  0%|          | 0/25 [00:00<?, ?it/s]"
     ]
    },
    {
     "name": "stderr",
     "output_type": "stream",
     "text": [
      "100%|██████████| 25/25 [00:00<00:00, 86.50it/s] "
     ]
    },
    {
     "name": "stdout",
     "output_type": "stream",
     "text": [
      "193607\n"
     ]
    },
    {
     "name": "stderr",
     "output_type": "stream",
     "text": [
      "\n"
     ]
    }
   ],
   "source": [
    "def blink(stones):\n",
    "    newstones = []\n",
    "    for stone in stones:\n",
    "        if stone==0:\n",
    "            newstones.append(1)\n",
    "        elif len(str(stone))%2==0:\n",
    "            midind = int(round(len(str(stone)) / 2))\n",
    "            newstones.append(int(str(stone)[:midind]))\n",
    "            newstones.append(int(str(stone)[midind:]))\n",
    "        else:\n",
    "            newstones.append(stone*2024)\n",
    "    return newstones\n",
    "\n",
    "accum = 0\n",
    "stones = deepcopy(ls)\n",
    "for i in tqdm(range(25)):\n",
    "    stones = blink(stones)\n",
    "print(len(stones))"
   ]
  },
  {
   "cell_type": "markdown",
   "metadata": {},
   "source": [
    "# Part 2"
   ]
  },
  {
   "cell_type": "code",
   "execution_count": 4,
   "metadata": {},
   "outputs": [
    {
     "name": "stderr",
     "output_type": "stream",
     "text": [
      "100%|██████████| 75/75 [00:00<00:00, 540.26it/s]"
     ]
    },
    {
     "name": "stdout",
     "output_type": "stream",
     "text": [
      "229557103025807\n"
     ]
    },
    {
     "name": "stderr",
     "output_type": "stream",
     "text": [
      "\n"
     ]
    }
   ],
   "source": [
    "def add_stone(stones, stone, count):\n",
    "    if stone in stones:\n",
    "        stones[stone] += count\n",
    "    else:\n",
    "        stones[stone] = count\n",
    "\n",
    "def blink(stones):\n",
    "    newstones = {}\n",
    "    for stone, count in stones.items():\n",
    "        if stone==0:\n",
    "            add_stone(newstones, 1, count)\n",
    "        elif len(str(stone))%2==0:\n",
    "            midind = int(round(len(str(stone)) / 2))\n",
    "            add_stone(newstones, int(str(stone)[:midind]), count)\n",
    "            add_stone(newstones, int(str(stone)[midind:]), count)\n",
    "        else:\n",
    "            add_stone(newstones, stone*2024, count)\n",
    "    return newstones\n",
    "\n",
    "stones = {}\n",
    "for s in ls:\n",
    "    add_stone(stones, s, 1)\n",
    "for i in tqdm(range(75)):\n",
    "    stones = blink(stones)\n",
    "accum = 0\n",
    "for k,v in stones.items():\n",
    "    accum += v\n",
    "print(accum)"
   ]
  },
  {
   "cell_type": "code",
   "execution_count": null,
   "metadata": {},
   "outputs": [],
   "source": []
  }
 ],
 "metadata": {
  "kernelspec": {
   "display_name": "aoc",
   "language": "python",
   "name": "python3"
  },
  "language_info": {
   "codemirror_mode": {
    "name": "ipython",
    "version": 3
   },
   "file_extension": ".py",
   "mimetype": "text/x-python",
   "name": "python",
   "nbconvert_exporter": "python",
   "pygments_lexer": "ipython3",
   "version": "3.9.20"
  }
 },
 "nbformat": 4,
 "nbformat_minor": 2
}
