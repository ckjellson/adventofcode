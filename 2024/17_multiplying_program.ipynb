{
 "cells": [
  {
   "cell_type": "code",
   "execution_count": 1,
   "metadata": {},
   "outputs": [],
   "source": [
    "from utils import *\n",
    "import numpy as np\n",
    "from tqdm import tqdm\n",
    "from copy import copy, deepcopy"
   ]
  },
  {
   "cell_type": "markdown",
   "metadata": {},
   "source": [
    "# Parsing"
   ]
  },
  {
   "cell_type": "code",
   "execution_count": 2,
   "metadata": {},
   "outputs": [],
   "source": [
    "def parse(inlines):\n",
    "    prog = ints(inlines.split(\"\\n\\n\")[1])\n",
    "    regs = ints(inlines.split(\"\\n\\n\")[0])\n",
    "    return regs, prog\n",
    "\n",
    "regs, prog = parse(open(\"data/input17.txt\").read())"
   ]
  },
  {
   "cell_type": "markdown",
   "metadata": {},
   "source": [
    "# Part 1"
   ]
  },
  {
   "cell_type": "code",
   "execution_count": 3,
   "metadata": {},
   "outputs": [
    {
     "name": "stdout",
     "output_type": "stream",
     "text": [
      "2,7,4,7,2,1,7,5,1\n"
     ]
    }
   ],
   "source": [
    "def get_cope(ope, rgs_):\n",
    "    cope = -1\n",
    "    outp = None\n",
    "    if 0<=ope<=3:\n",
    "        cope = ope\n",
    "    elif ope==4:\n",
    "        cope = rgs_[0]\n",
    "    elif ope==5:\n",
    "        cope = rgs_[1]\n",
    "    elif ope==6:\n",
    "        cope = rgs_[2]\n",
    "    return cope\n",
    "\n",
    "def apply(opc, ope, rgs_, iptr):\n",
    "    outp = None\n",
    "    if opc==0:\n",
    "        rgs_[0] = int(np.floor(rgs_[0]/2**get_cope(ope, rgs_)))\n",
    "    if opc==1:\n",
    "        rgs_[1] = int(np.bitwise_xor(ope, rgs_[1]))\n",
    "    if opc==2:\n",
    "        rgs_[1] = get_cope(ope, rgs_)%8\n",
    "    if opc==3:\n",
    "        if rgs_[0]==0:\n",
    "            return iptr + 2, outp, rgs_\n",
    "        return ope, outp, rgs_\n",
    "    if opc==4:\n",
    "        rgs_[1] = int(np.bitwise_xor(rgs_[1], rgs_[2]))\n",
    "    if opc==5:\n",
    "        outp = get_cope(ope, rgs_)%8\n",
    "    if opc==6:\n",
    "        rgs_[1] = int(np.floor(rgs_[0]/2**get_cope(ope, rgs_)))\n",
    "    if opc==7:\n",
    "        rgs_[2] = int(np.floor(rgs_[0]/2**get_cope(ope, rgs_)))\n",
    "    return iptr + 2, outp, rgs_\n",
    "\n",
    "def run_program(prog, regs):\n",
    "    rgs = deepcopy(regs)\n",
    "    iptr = 0\n",
    "    outps = []\n",
    "    while iptr < len(prog):\n",
    "        opc = prog[iptr]\n",
    "        ope = prog[iptr+1]\n",
    "        iptr, outp, rgs = apply(opc, ope, rgs, iptr)\n",
    "        if outp is not None:\n",
    "            outps.append(str(outp))\n",
    "    return outps\n",
    "\n",
    "print(\",\".join(run_program(prog, regs)))"
   ]
  },
  {
   "cell_type": "markdown",
   "metadata": {},
   "source": [
    "# Part 2"
   ]
  },
  {
   "cell_type": "code",
   "execution_count": 4,
   "metadata": {},
   "outputs": [
    {
     "name": "stdout",
     "output_type": "stream",
     "text": [
      "37221274271220\n"
     ]
    }
   ],
   "source": [
    "# After each output, register A seems to contain around 8 times less\n",
    "repr_prog = []\n",
    "curlen = 0\n",
    "r0 = 0\n",
    "while len(repr_prog)<len(prog):\n",
    "    found = False\n",
    "    for i in range(-64, 64):\n",
    "        repr_prog = run_program(prog, [max(0, r0*8 + i), 0, 0])\n",
    "        if len(repr_prog)>curlen and tuple([int(r) for r in repr_prog])==tuple(prog[-len(repr_prog):]):\n",
    "            r0 = r0*8 + i\n",
    "            found = True\n",
    "            curlen = len(repr_prog)\n",
    "            break\n",
    "    if not found:\n",
    "        break\n",
    "print(r0)"
   ]
  },
  {
   "cell_type": "code",
   "execution_count": null,
   "metadata": {},
   "outputs": [],
   "source": []
  }
 ],
 "metadata": {
  "kernelspec": {
   "display_name": "aoc",
   "language": "python",
   "name": "python3"
  },
  "language_info": {
   "codemirror_mode": {
    "name": "ipython",
    "version": 3
   },
   "file_extension": ".py",
   "mimetype": "text/x-python",
   "name": "python",
   "nbconvert_exporter": "python",
   "pygments_lexer": "ipython3",
   "version": "3.9.20"
  }
 },
 "nbformat": 4,
 "nbformat_minor": 2
}
