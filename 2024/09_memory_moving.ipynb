{
 "cells": [
  {
   "cell_type": "code",
   "execution_count": 1,
   "metadata": {},
   "outputs": [],
   "source": [
    "import numpy as np\n",
    "from tqdm import tqdm"
   ]
  },
  {
   "cell_type": "markdown",
   "metadata": {},
   "source": [
    "# Parsing"
   ]
  },
  {
   "cell_type": "code",
   "execution_count": 2,
   "metadata": {},
   "outputs": [],
   "source": [
    "def parse(inlines):\n",
    "    return [int(l) for l in inlines]\n",
    "\n",
    "ls = parse(open(\"data/input9.txt\").read())"
   ]
  },
  {
   "cell_type": "markdown",
   "metadata": {},
   "source": [
    "# Part 1"
   ]
  },
  {
   "cell_type": "code",
   "execution_count": 3,
   "metadata": {},
   "outputs": [
    {
     "name": "stderr",
     "output_type": "stream",
     "text": [
      "  0%|          | 0/19999 [00:00<?, ?it/s]"
     ]
    },
    {
     "name": "stderr",
     "output_type": "stream",
     "text": [
      "100%|██████████| 19999/19999 [00:00<00:00, 721757.08it/s]\n",
      " 53%|█████▎    | 50079/94595 [00:00<00:00, 1447279.37it/s]"
     ]
    },
    {
     "name": "stdout",
     "output_type": "stream",
     "text": [
      "6398252054886\n"
     ]
    },
    {
     "name": "stderr",
     "output_type": "stream",
     "text": [
      "\n"
     ]
    }
   ],
   "source": [
    "arr = np.ones((np.sum(ls),))*-1\n",
    "pos = 0\n",
    "id = 0\n",
    "for i in tqdm(range(len(ls))):\n",
    "    if i%2==0:\n",
    "        for j in range(ls[i]):\n",
    "            if i%2==0:\n",
    "                arr[pos] = id\n",
    "            pos += 1\n",
    "        id += 1\n",
    "    else:\n",
    "        pos += ls[i]\n",
    "arrcop = np.copy(arr)\n",
    "divind = len(arrcop)-1\n",
    "while np.any(arrcop[:divind]==-1):\n",
    "    first = np.where(arrcop==-1)[0][0]\n",
    "    arrcop[first] = arrcop[divind]\n",
    "    arrcop[divind] = -1\n",
    "    divind -= 1\n",
    "accum = 0\n",
    "for i in tqdm(range(len(arrcop))):\n",
    "    if arrcop[i]==-1:\n",
    "        break\n",
    "    accum += arrcop[i]*i\n",
    "print(int(round(accum)))"
   ]
  },
  {
   "cell_type": "markdown",
   "metadata": {},
   "source": [
    "# Part 2"
   ]
  },
  {
   "cell_type": "code",
   "execution_count": 4,
   "metadata": {},
   "outputs": [
    {
     "name": "stderr",
     "output_type": "stream",
     "text": [
      "100%|██████████| 19999/19999 [00:00<00:00, 676472.28it/s]\n",
      "100%|██████████| 9999/9999 [00:26<00:00, 374.45it/s]\n",
      "100%|██████████| 94595/94595 [00:00<00:00, 1468649.94it/s]"
     ]
    },
    {
     "name": "stdout",
     "output_type": "stream",
     "text": [
      "6415666220005\n"
     ]
    },
    {
     "name": "stderr",
     "output_type": "stream",
     "text": [
      "\n"
     ]
    }
   ],
   "source": [
    "arr = np.ones((np.sum(ls),))*-1\n",
    "pos = 0\n",
    "id = 0\n",
    "for i in tqdm(range(len(ls))):\n",
    "    if i%2==0:\n",
    "        for j in range(ls[i]):\n",
    "            if i%2==0:\n",
    "                arr[pos] = id\n",
    "            pos += 1\n",
    "        id += 1\n",
    "    else:\n",
    "        pos += ls[i]\n",
    "arrcop = np.copy(arr)\n",
    "divind = len(arrcop)-1\n",
    "for id in tqdm(sorted(list(np.unique(arrcop)), reverse=True)[:-2]):\n",
    "    nids = np.sum(arrcop==id)\n",
    "    firstid = np.where(arrcop==id)[0][0]\n",
    "    empty = np.where(arrcop==-1)[0]\n",
    "    startind = empty[0]\n",
    "    endind = startind\n",
    "    for ind in list(empty):\n",
    "        if ind>=firstid:\n",
    "            break\n",
    "        if ind>endind+1:\n",
    "            startind = ind\n",
    "        endind = ind\n",
    "        if endind-startind+1>=nids:\n",
    "            arrcop[arrcop==id] = -1\n",
    "            arrcop[startind:startind+nids] = id\n",
    "            break\n",
    "accum = 0\n",
    "for i in tqdm(range(len(arrcop))):\n",
    "    if not arrcop[i]==-1:\n",
    "        accum += arrcop[i]*i\n",
    "print(int(round(accum)))"
   ]
  },
  {
   "cell_type": "code",
   "execution_count": null,
   "metadata": {},
   "outputs": [],
   "source": []
  }
 ],
 "metadata": {
  "kernelspec": {
   "display_name": "aoc",
   "language": "python",
   "name": "python3"
  },
  "language_info": {
   "codemirror_mode": {
    "name": "ipython",
    "version": 3
   },
   "file_extension": ".py",
   "mimetype": "text/x-python",
   "name": "python",
   "nbconvert_exporter": "python",
   "pygments_lexer": "ipython3",
   "version": "3.9.20"
  }
 },
 "nbformat": 4,
 "nbformat_minor": 2
}
