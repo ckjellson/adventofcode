{
 "cells": [
  {
   "cell_type": "code",
   "execution_count": 2,
   "metadata": {},
   "outputs": [],
   "source": [
    "from utils import *\n",
    "from copy import deepcopy\n",
    "from functools import cmp_to_key"
   ]
  },
  {
   "cell_type": "markdown",
   "metadata": {},
   "source": [
    "# Parsing"
   ]
  },
  {
   "cell_type": "code",
   "execution_count": 3,
   "metadata": {},
   "outputs": [],
   "source": [
    "def parse(inlines):\n",
    "    s1 = inlines.split(\"\\n\\n\")[0]\n",
    "    s2 = inlines.split(\"\\n\\n\")[1]\n",
    "    s1 = [ints(a) for a in s1.split(\"\\n\")]\n",
    "    s2 = [ints(a) for a in s2.split(\"\\n\")]\n",
    "    return s1,s2\n",
    "\n",
    "s1,s2 = parse(open(\"data/input5.txt\").read())"
   ]
  },
  {
   "cell_type": "markdown",
   "metadata": {},
   "source": [
    "# Part 1 & 2"
   ]
  },
  {
   "cell_type": "code",
   "execution_count": 4,
   "metadata": {},
   "outputs": [
    {
     "name": "stdout",
     "output_type": "stream",
     "text": [
      "6505\n",
      "6897\n"
     ]
    }
   ],
   "source": [
    "def compare(i1,i2):\n",
    "    for a,b in s1:\n",
    "        if i1==b and i2==a:\n",
    "            return 1\n",
    "    return -1\n",
    "\n",
    "accum1 = 0\n",
    "accum2 = 0\n",
    "for seq in s2:\n",
    "    ok = True\n",
    "    for j in range(len(seq)):\n",
    "        for a,b in s1:\n",
    "            if seq[j]==a and b in seq[:j]:\n",
    "                ok = False\n",
    "            if seq[j]==b and a in seq[j+1:]:\n",
    "                ok = False\n",
    "    if ok:\n",
    "        accum1 += seq[int(round((len(seq)-1)/2))]\n",
    "    else:\n",
    "        newseq = deepcopy(seq)\n",
    "        newseq.sort(key=cmp_to_key(compare))\n",
    "        accum2 += newseq[int(round((len(seq)-1)/2))]\n",
    "print(accum1)\n",
    "print(accum2)"
   ]
  },
  {
   "cell_type": "code",
   "execution_count": null,
   "metadata": {},
   "outputs": [],
   "source": []
  }
 ],
 "metadata": {
  "kernelspec": {
   "display_name": "aoc",
   "language": "python",
   "name": "python3"
  },
  "language_info": {
   "codemirror_mode": {
    "name": "ipython",
    "version": 3
   },
   "file_extension": ".py",
   "mimetype": "text/x-python",
   "name": "python",
   "nbconvert_exporter": "python",
   "pygments_lexer": "ipython3",
   "version": "3.9.20"
  }
 },
 "nbformat": 4,
 "nbformat_minor": 2
}
