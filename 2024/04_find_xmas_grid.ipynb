{
 "cells": [
  {
   "cell_type": "code",
   "execution_count": 1,
   "metadata": {},
   "outputs": [],
   "source": [
    "import numpy as np"
   ]
  },
  {
   "cell_type": "markdown",
   "metadata": {},
   "source": [
    "# Parsing"
   ]
  },
  {
   "cell_type": "code",
   "execution_count": 2,
   "metadata": {},
   "outputs": [],
   "source": [
    "def get_grid(inlines):\n",
    "    mat = np.array([[c for c in l] for l in inlines.split(\"\\n\")])\n",
    "    return mat\n",
    "\n",
    "def parse(inlines):\n",
    "    return get_grid(inlines)\n",
    "\n",
    "ls = parse(open(\"data/input4.txt\").read())"
   ]
  },
  {
   "cell_type": "markdown",
   "metadata": {},
   "source": [
    "# Part 1"
   ]
  },
  {
   "cell_type": "code",
   "execution_count": 3,
   "metadata": {},
   "outputs": [
    {
     "name": "stdout",
     "output_type": "stream",
     "text": [
      "2534\n"
     ]
    }
   ],
   "source": [
    "dirs = [(0,1),(1,1),(1,0),(-1,0),(-1,-1),(0,-1),(-1,1),(1,-1)]\n",
    "accum = 0\n",
    "for i in range(ls.shape[0]):\n",
    "    for j in range(ls.shape[1]):\n",
    "        for d in dirs:\n",
    "            row = i\n",
    "            col = j\n",
    "            found = True\n",
    "            for k, val in enumerate([\"X\", \"M\", \"A\", \"S\"]):\n",
    "                temprow = row + k*d[0]\n",
    "                tempcol = col + k*d[1]\n",
    "                if temprow<0 or temprow>=ls.shape[0] or tempcol<0 or tempcol>=ls.shape[1] or ls[temprow, tempcol]!=val:\n",
    "                    found = False\n",
    "            if found:\n",
    "                accum += 1\n",
    "print(accum)"
   ]
  },
  {
   "cell_type": "markdown",
   "metadata": {},
   "source": [
    "# Part 2"
   ]
  },
  {
   "cell_type": "code",
   "execution_count": 4,
   "metadata": {},
   "outputs": [
    {
     "name": "stdout",
     "output_type": "stream",
     "text": [
      "1866\n"
     ]
    }
   ],
   "source": [
    "accum = 0\n",
    "for i in range(ls.shape[0]-2):\n",
    "    for j in range(ls.shape[1]-2):\n",
    "        topleft = (i,j)\n",
    "        mid = (i+1,j+1)\n",
    "        bottomleft = (i+2,j)\n",
    "        topright = (i,j+2)\n",
    "        bottomright = (i+2,j+2)\n",
    "        found = True\n",
    "        if ls[mid]!=\"A\":\n",
    "            found = False\n",
    "        if (ls[topleft]!=\"M\" and ls[topleft]!=\"S\") or (ls[topleft]==\"M\" and ls[bottomright]!=\"S\") or (ls[topleft]!=\"M\" and ls[bottomright]==\"S\"):\n",
    "            found = False\n",
    "        if (ls[topright]!=\"M\" and ls[topright]!=\"S\") or (ls[topright]==\"M\" and ls[bottomleft]!=\"S\") or (ls[topright]!=\"M\" and ls[bottomleft]==\"S\"):\n",
    "            found = False\n",
    "        if (ls[bottomright]!=\"M\" and ls[bottomright]!=\"S\") or (ls[bottomright]==\"M\" and ls[topleft]!=\"S\") or (ls[bottomright]!=\"M\" and ls[topleft]==\"S\"):\n",
    "            found = False\n",
    "        if (ls[bottomleft]!=\"M\" and ls[bottomleft]!=\"S\") or (ls[bottomleft]==\"M\" and ls[topright]!=\"S\") or (ls[bottomleft]!=\"M\" and ls[topright]==\"S\"):\n",
    "            found = False\n",
    "        if found:\n",
    "            accum += 1\n",
    "print(accum)"
   ]
  },
  {
   "cell_type": "code",
   "execution_count": null,
   "metadata": {},
   "outputs": [],
   "source": []
  }
 ],
 "metadata": {
  "kernelspec": {
   "display_name": "aoc",
   "language": "python",
   "name": "python3"
  },
  "language_info": {
   "codemirror_mode": {
    "name": "ipython",
    "version": 3
   },
   "file_extension": ".py",
   "mimetype": "text/x-python",
   "name": "python",
   "nbconvert_exporter": "python",
   "pygments_lexer": "ipython3",
   "version": "3.9.20"
  }
 },
 "nbformat": 4,
 "nbformat_minor": 2
}
