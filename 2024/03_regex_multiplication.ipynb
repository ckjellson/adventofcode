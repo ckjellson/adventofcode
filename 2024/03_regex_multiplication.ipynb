{
 "cells": [
  {
   "cell_type": "code",
   "execution_count": 1,
   "metadata": {},
   "outputs": [],
   "source": [
    "import re"
   ]
  },
  {
   "cell_type": "markdown",
   "metadata": {},
   "source": [
    "# Parsing"
   ]
  },
  {
   "cell_type": "code",
   "execution_count": 2,
   "metadata": {},
   "outputs": [],
   "source": [
    "ls = open(\"data/input3.txt\").read()"
   ]
  },
  {
   "cell_type": "markdown",
   "metadata": {},
   "source": [
    "# Part 1"
   ]
  },
  {
   "cell_type": "code",
   "execution_count": 3,
   "metadata": {},
   "outputs": [
    {
     "name": "stdout",
     "output_type": "stream",
     "text": [
      "174561379\n"
     ]
    }
   ],
   "source": [
    "ints_ = re.findall(\"mul\\((-?\\d+),(-?\\d+)\\)\", ls)\n",
    "accum = 0\n",
    "for a,b in ints_:\n",
    "    accum += int(a)*int(b)\n",
    "print(accum)"
   ]
  },
  {
   "cell_type": "markdown",
   "metadata": {},
   "source": [
    "# Part 2"
   ]
  },
  {
   "cell_type": "code",
   "execution_count": 4,
   "metadata": {},
   "outputs": [
    {
     "name": "stdout",
     "output_type": "stream",
     "text": [
      "106921067\n"
     ]
    }
   ],
   "source": [
    "ints_ = re.findall(\"(mul\\((-?\\d+),(-?\\d+)\\)|do\\(\\)|don't\\(\\))\", ls)\n",
    "accum = 0\n",
    "active = True\n",
    "for op, a, b in ints_:\n",
    "    if op==\"don't()\":\n",
    "        active=False\n",
    "    elif op==\"do()\":\n",
    "        active=True\n",
    "    elif active:\n",
    "        accum += int(a)*int(b)\n",
    "print(accum)"
   ]
  },
  {
   "cell_type": "code",
   "execution_count": null,
   "metadata": {},
   "outputs": [],
   "source": []
  }
 ],
 "metadata": {
  "kernelspec": {
   "display_name": "aoc",
   "language": "python",
   "name": "python3"
  },
  "language_info": {
   "codemirror_mode": {
    "name": "ipython",
    "version": 3
   },
   "file_extension": ".py",
   "mimetype": "text/x-python",
   "name": "python",
   "nbconvert_exporter": "python",
   "pygments_lexer": "ipython3",
   "version": "3.9.20"
  }
 },
 "nbformat": 4,
 "nbformat_minor": 2
}
