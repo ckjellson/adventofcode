{
 "cells": [
  {
   "cell_type": "code",
   "execution_count": 1,
   "metadata": {},
   "outputs": [],
   "source": [
    "from utils import *\n",
    "import numpy as np"
   ]
  },
  {
   "cell_type": "markdown",
   "metadata": {},
   "source": [
    "# Parsing"
   ]
  },
  {
   "cell_type": "code",
   "execution_count": 5,
   "metadata": {},
   "outputs": [],
   "source": [
    "def parse(inlines):\n",
    "    return [ints(l) for l in inlines.split(\"\\n\")]\n",
    "\n",
    "ls = parse(open(\"data/input2.txt\").read())"
   ]
  },
  {
   "cell_type": "markdown",
   "metadata": {},
   "source": [
    "# Part 1"
   ]
  },
  {
   "cell_type": "code",
   "execution_count": 6,
   "metadata": {},
   "outputs": [
    {
     "name": "stdout",
     "output_type": "stream",
     "text": [
      "442\n"
     ]
    }
   ],
   "source": [
    "accum = 0\n",
    "for l in ls:\n",
    "    prev = l[0]\n",
    "    ok = True\n",
    "    all_dec = True\n",
    "    all_inc = True\n",
    "    for val in l[1:]:\n",
    "        if abs(prev-val)>3 or abs(prev-val)==0:\n",
    "            ok = False\n",
    "        if val>=prev:\n",
    "            all_dec = False\n",
    "        if val<=prev:\n",
    "            all_inc = False\n",
    "        prev = val\n",
    "    if ok and (all_inc or all_dec):\n",
    "        accum += 1\n",
    "print(accum)"
   ]
  },
  {
   "cell_type": "markdown",
   "metadata": {},
   "source": [
    "# Part 2"
   ]
  },
  {
   "cell_type": "code",
   "execution_count": 7,
   "metadata": {},
   "outputs": [
    {
     "name": "stdout",
     "output_type": "stream",
     "text": [
      "493\n"
     ]
    }
   ],
   "source": [
    "def check_safe(vals):\n",
    "    prev = vals[0]\n",
    "    ok = True\n",
    "    all_dec = True\n",
    "    all_inc = True\n",
    "    for val in vals[1:]:\n",
    "        if abs(prev-val)>3 or abs(prev-val)==0:\n",
    "            ok = False\n",
    "        if val>=prev:\n",
    "            all_dec = False\n",
    "        if val<=prev:\n",
    "            all_inc = False\n",
    "        prev = val\n",
    "    return ok and (all_inc or all_dec)\n",
    "\n",
    "accum = 0\n",
    "for l in ls:\n",
    "    results = []\n",
    "    results.append(check_safe(l))\n",
    "    for i in range(len(l)):\n",
    "        results.append(check_safe(l[:i]+l[i+1:]))\n",
    "    if np.any(results):\n",
    "        accum += 1\n",
    "print(accum)"
   ]
  },
  {
   "cell_type": "code",
   "execution_count": null,
   "metadata": {},
   "outputs": [],
   "source": []
  }
 ],
 "metadata": {
  "kernelspec": {
   "display_name": "aoc",
   "language": "python",
   "name": "python3"
  },
  "language_info": {
   "codemirror_mode": {
    "name": "ipython",
    "version": 3
   },
   "file_extension": ".py",
   "mimetype": "text/x-python",
   "name": "python",
   "nbconvert_exporter": "python",
   "pygments_lexer": "ipython3",
   "version": "3.9.20"
  }
 },
 "nbformat": 4,
 "nbformat_minor": 2
}
