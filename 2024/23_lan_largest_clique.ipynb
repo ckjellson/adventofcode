{
 "cells": [
  {
   "cell_type": "code",
   "execution_count": 1,
   "metadata": {},
   "outputs": [],
   "source": [
    "import networkx as nx\n",
    "import numpy as np"
   ]
  },
  {
   "cell_type": "markdown",
   "metadata": {},
   "source": [
    "# Parsing"
   ]
  },
  {
   "cell_type": "code",
   "execution_count": 2,
   "metadata": {},
   "outputs": [],
   "source": [
    "def parse(inlines):\n",
    "    return [tuple(l.split(\"-\")) for l in inlines.split(\"\\n\")]\n",
    "\n",
    "ls = parse(open(\"data/input23.txt\").read())"
   ]
  },
  {
   "cell_type": "markdown",
   "metadata": {},
   "source": [
    "# Part 1"
   ]
  },
  {
   "cell_type": "code",
   "execution_count": 3,
   "metadata": {},
   "outputs": [
    {
     "data": {
      "text/plain": [
       "1323"
      ]
     },
     "execution_count": 3,
     "metadata": {},
     "output_type": "execute_result"
    }
   ],
   "source": [
    "cs = {}\n",
    "for c1,c2 in ls:\n",
    "    if c1[0]==\"t\":\n",
    "        if c1 not in cs:\n",
    "            cs[c1] = [c2]\n",
    "        else:\n",
    "            if c2 not in cs[c1]:\n",
    "                cs[c1].append(c2)\n",
    "    if c2[0]==\"t\":\n",
    "        if c2 not in cs:\n",
    "            cs[c2] = [c1]\n",
    "        else:\n",
    "            if c1 not in cs[c2]:\n",
    "                cs[c2].append(c1)\n",
    "acc = 0\n",
    "used = set()\n",
    "for k,v in cs.items():\n",
    "    if not k in used:\n",
    "        for i in range(len(v)):\n",
    "            for j in range(i+1, len(v)):\n",
    "                a = v[i]\n",
    "                b = v[j]\n",
    "                if ((a,b) in ls or (b,a) in ls) and not a in used and not b in used:\n",
    "                    acc += 1\n",
    "                    used.add(k)\n",
    "acc"
   ]
  },
  {
   "cell_type": "markdown",
   "metadata": {},
   "source": [
    "# Part 2"
   ]
  },
  {
   "cell_type": "code",
   "execution_count": 4,
   "metadata": {},
   "outputs": [
    {
     "name": "stdout",
     "output_type": "stream",
     "text": [
      "er,fh,fi,ir,kk,lo,lp,qi,ti,vb,xf,ys,yu\n"
     ]
    }
   ],
   "source": [
    "import networkx as nx\n",
    "c2i = {}\n",
    "ind = 0\n",
    "for c1,c2 in ls:\n",
    "    if c1 not in c2i:\n",
    "        c2i[c1] = ind\n",
    "        ind += 1\n",
    "    if c2 not in c2i:\n",
    "        c2i[c2] = ind\n",
    "        ind += 1\n",
    "i2c = {v:k for k,v in c2i.items()}\n",
    "conn = np.zeros((ind,ind))\n",
    "for c1,c2 in ls:\n",
    "    conn[c2i[c1],c2i[c2]] = 1\n",
    "    conn[c2i[c2],c2i[c1]] = 1\n",
    "g = nx.Graph(conn)\n",
    "maxlen = 0\n",
    "maxcli = None\n",
    "for c in nx.find_cliques(g):\n",
    "    if len(c)>maxlen:\n",
    "        maxlen = len(c)\n",
    "        maxcli = c\n",
    "print(\",\".join(sorted([i2c[m] for m in maxcli])))"
   ]
  },
  {
   "cell_type": "code",
   "execution_count": null,
   "metadata": {},
   "outputs": [],
   "source": []
  }
 ],
 "metadata": {
  "kernelspec": {
   "display_name": "aoc",
   "language": "python",
   "name": "python3"
  },
  "language_info": {
   "codemirror_mode": {
    "name": "ipython",
    "version": 3
   },
   "file_extension": ".py",
   "mimetype": "text/x-python",
   "name": "python",
   "nbconvert_exporter": "python",
   "pygments_lexer": "ipython3",
   "version": "3.9.20"
  }
 },
 "nbformat": 4,
 "nbformat_minor": 2
}
