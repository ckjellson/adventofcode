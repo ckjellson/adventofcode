{
 "cells": [
  {
   "cell_type": "code",
   "execution_count": 1,
   "metadata": {},
   "outputs": [],
   "source": [
    "import numpy as np\n",
    "from tqdm import tqdm"
   ]
  },
  {
   "cell_type": "markdown",
   "metadata": {},
   "source": [
    "# Parsing"
   ]
  },
  {
   "cell_type": "code",
   "execution_count": 2,
   "metadata": {},
   "outputs": [],
   "source": [
    "def parse(inlines):\n",
    "    return [int(l) for l in inlines.split(\"\\n\")]\n",
    "\n",
    "with open(\"data/input22.txt\") as f:\n",
    "    nums = parse(f.read())"
   ]
  },
  {
   "cell_type": "markdown",
   "metadata": {},
   "source": [
    "# Part 1 and 2"
   ]
  },
  {
   "cell_type": "code",
   "execution_count": 3,
   "metadata": {},
   "outputs": [
    {
     "name": "stderr",
     "output_type": "stream",
     "text": [
      "  0%|          | 0/2448 [00:00<?, ?it/s]"
     ]
    },
    {
     "name": "stderr",
     "output_type": "stream",
     "text": [
      "100%|██████████| 2448/2448 [00:39<00:00, 62.64it/s]\n"
     ]
    },
    {
     "name": "stdout",
     "output_type": "stream",
     "text": [
      "Part 1:  20068964552\n"
     ]
    },
    {
     "name": "stderr",
     "output_type": "stream",
     "text": [
      "100%|██████████| 2448/2448 [00:04<00:00, 517.13it/s]\n",
      "100%|██████████| 2448/2448 [00:01<00:00, 1230.14it/s]\n",
      "100%|██████████| 40951/40951 [00:27<00:00, 1510.06it/s]"
     ]
    },
    {
     "name": "stdout",
     "output_type": "stream",
     "text": [
      "Part 2:  2246 , Sequence:  (1, 0, -1, 3)\n"
     ]
    },
    {
     "name": "stderr",
     "output_type": "stream",
     "text": [
      "\n"
     ]
    }
   ],
   "source": [
    "def mix(sn, tomix):\n",
    "    return int(round(np.bitwise_xor(sn, tomix)))\n",
    "\n",
    "def prune(sn):\n",
    "    return sn%16777216\n",
    "\n",
    "def get_seqs(ac, ap, ind):\n",
    "    seqs = {}\n",
    "    for i in range(3, len(ac[ind])):\n",
    "        newtup = tuple([r for r in ac[ind][i-3:i+1]])\n",
    "        if newtup not in seqs:\n",
    "            seqs[newtup] = ap[ind][i]\n",
    "    return seqs\n",
    "\n",
    "def check_seq(all_seqs, seq):\n",
    "    acc = 0\n",
    "    for i in range(len(all_seqs)):\n",
    "        if seq in all_seqs[i]:\n",
    "            acc += all_seqs[i][seq]\n",
    "    return acc\n",
    "\n",
    "acc = 0\n",
    "niter = 2000\n",
    "all_changes = []\n",
    "all_prices = []\n",
    "for num in tqdm(nums):\n",
    "    cursn = num\n",
    "    prevprice = num%10\n",
    "    changes = [prevprice]\n",
    "    prices = [prevprice]\n",
    "    for _ in range(niter):\n",
    "        cursn = prune(mix(cursn, cursn*64))\n",
    "        cursn = prune(mix(cursn, int(round(np.floor(cursn/32)))))\n",
    "        cursn = prune(mix(cursn, cursn*2048))\n",
    "        curprice = cursn%10\n",
    "        diff = curprice - prevprice\n",
    "        prevprice = curprice\n",
    "        changes.append(diff)\n",
    "        prices.append(prevprice)\n",
    "    prices.append(curprice)\n",
    "    all_changes.append(changes)\n",
    "    all_prices.append(prices)\n",
    "    acc += cursn\n",
    "print(\"Part 1: \", acc)\n",
    "all_seqs = []\n",
    "for i in tqdm(range(len(nums))):\n",
    "    seqs = get_seqs(all_changes, all_prices, i)\n",
    "    all_seqs.append(seqs)\n",
    "alls = set()\n",
    "for i in tqdm(range(len(nums))):\n",
    "    for k,v in all_seqs[i].items():\n",
    "        alls.add(k)\n",
    "maxval = 0\n",
    "best_seq = None\n",
    "for seq in tqdm(alls):\n",
    "    newval = check_seq(all_seqs,seq)\n",
    "    if newval>maxval:\n",
    "        maxval = newval\n",
    "        best_seq = seq\n",
    "print(\"Part 2: \", maxval, \", Sequence: \", best_seq)"
   ]
  },
  {
   "cell_type": "code",
   "execution_count": null,
   "metadata": {},
   "outputs": [],
   "source": []
  }
 ],
 "metadata": {
  "kernelspec": {
   "display_name": "aoc",
   "language": "python",
   "name": "python3"
  },
  "language_info": {
   "codemirror_mode": {
    "name": "ipython",
    "version": 3
   },
   "file_extension": ".py",
   "mimetype": "text/x-python",
   "name": "python",
   "nbconvert_exporter": "python",
   "pygments_lexer": "ipython3",
   "version": "3.9.20"
  }
 },
 "nbformat": 4,
 "nbformat_minor": 2
}
