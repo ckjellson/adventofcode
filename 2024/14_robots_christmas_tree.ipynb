{
 "cells": [
  {
   "cell_type": "code",
   "execution_count": 1,
   "metadata": {},
   "outputs": [],
   "source": [
    "from utils import *\n",
    "import numpy as np\n",
    "from tqdm import tqdm\n",
    "from copy import copy, deepcopy\n",
    "from skimage.measure import label"
   ]
  },
  {
   "cell_type": "markdown",
   "metadata": {},
   "source": [
    "# Parsing"
   ]
  },
  {
   "cell_type": "code",
   "execution_count": 2,
   "metadata": {},
   "outputs": [],
   "source": [
    "def parse(inlines):\n",
    "    return [ints(l) for l in inlines.split(\"\\n\")]\n",
    "\n",
    "ls = parse(open(\"data/input14.txt\").read())\n",
    "w, h = 101, 103"
   ]
  },
  {
   "cell_type": "markdown",
   "metadata": {},
   "source": [
    "# Part 1"
   ]
  },
  {
   "cell_type": "code",
   "execution_count": 3,
   "metadata": {},
   "outputs": [
    {
     "name": "stdout",
     "output_type": "stream",
     "text": [
      "216772608\n"
     ]
    }
   ],
   "source": [
    "nsec = 100\n",
    "ls2 = deepcopy(ls)\n",
    "for sec in range(nsec):\n",
    "    newls = []\n",
    "    for ex in ls2:\n",
    "        px = ex[0]\n",
    "        py = ex[1]\n",
    "        vx = ex[2]\n",
    "        vy = ex[3]\n",
    "        newex = [(px+vx)%w,(py+vy)%h,vx,vy]\n",
    "        newls.append(newex)\n",
    "    ls2 = newls\n",
    "\n",
    "def get_quad(w, h, y, x):\n",
    "    midrow = (h-1)/2\n",
    "    midcol = (w-1)/2\n",
    "    if y<midrow and x<midcol:\n",
    "        return 1\n",
    "    if y>midrow and x<midcol:\n",
    "        return 2\n",
    "    if y<midrow and x>midcol:\n",
    "        return 3\n",
    "    if y>midrow and x>midcol:\n",
    "        return 4\n",
    "    return 0\n",
    "\n",
    "quads = {1:0,2:0,3:0,4:0}\n",
    "for ex in ls2:\n",
    "    px = ex[0]\n",
    "    py = ex[1]\n",
    "    quad = get_quad(w,h,py,px)\n",
    "    if quad>0:\n",
    "        quads[quad] += 1\n",
    "accum = 1\n",
    "for k,v in quads.items():\n",
    "    accum *= v\n",
    "print(accum)"
   ]
  },
  {
   "cell_type": "markdown",
   "metadata": {},
   "source": [
    "# Part 2"
   ]
  },
  {
   "cell_type": "code",
   "execution_count": null,
   "metadata": {},
   "outputs": [
    {
     "name": "stderr",
     "output_type": "stream",
     "text": [
      "100%|██████████| 6888/6888 [00:03<00:00, 1903.82it/s]\n"
     ]
    }
   ],
   "source": [
    "nsec = 6888\n",
    "ls2 = deepcopy(ls)\n",
    "quads = None\n",
    "states = []\n",
    "for sec in tqdm(range(nsec)):\n",
    "    newls = []\n",
    "    for ex in ls2:\n",
    "        px = ex[0]\n",
    "        py = ex[1]\n",
    "        vx = ex[2]\n",
    "        vy = ex[3]\n",
    "        newex = [(px+vx)%w,(py+vy)%h,vx,vy]\n",
    "        newls.append(newex)\n",
    "    ls2 = newls\n",
    "    arr = np.zeros((h,w))\n",
    "    for ex in ls2:\n",
    "        px = ex[0]\n",
    "        py = ex[1]\n",
    "        arr[py, px] += 1\n",
    "    states.append(arr)\n",
    "    conn = label(arr>0, connectivity=1)\n",
    "    counts = []\n",
    "    for v in range(1,np.max(conn)+1):\n",
    "        counts.append(np.sum(conn==v))\n",
    "    maxcount = np.max(counts)\n",
    "    if maxcount > 100:\n",
    "        print(sec+1)\n",
    "        break"
   ]
  },
  {
   "cell_type": "code",
   "execution_count": 17,
   "metadata": {},
   "outputs": [
    {
     "name": "stdout",
     "output_type": "stream",
     "text": [
      "100\n",
      "200\n",
      "300\n",
      "400\n",
      "500\n",
      "600\n",
      "700\n",
      "800\n",
      "900\n",
      "1000\n",
      "1100\n",
      "1200\n",
      "1300\n",
      "1400\n",
      "1500\n",
      "1600\n",
      "1700\n",
      "1800\n",
      "1900\n",
      "2000\n",
      "2100\n",
      "2200\n",
      "2300\n",
      "2400\n",
      "2500\n",
      "2600\n",
      "2700\n",
      "2800\n",
      "2900\n",
      "3000\n",
      "3100\n",
      "3200\n",
      "3300\n",
      "3400\n",
      "3500\n",
      "3600\n",
      "3700\n",
      "3800\n",
      "3900\n",
      "4000\n",
      "4100\n",
      "4200\n",
      "4300\n",
      "4400\n",
      "4500\n",
      "4600\n",
      "4700\n",
      "4800\n",
      "4900\n",
      "5000\n",
      "5100\n",
      "5200\n",
      "5300\n",
      "5400\n",
      "5500\n",
      "5600\n",
      "5700\n",
      "5800\n",
      "5900\n",
      "6000\n",
      "6100\n",
      "6200\n",
      "6300\n",
      "6400\n",
      "6500\n",
      "6600\n",
      "6700\n",
      "6800\n",
      "6900\n",
      "7000\n",
      "7100\n",
      "7200\n",
      "7300\n"
     ]
    },
    {
     "name": "stderr",
     "output_type": "stream",
     "text": [
      "/home/ckjellson/anaconda3/envs/aoc/lib/python3.9/site-packages/matplotlib/animation.py:1719: UserWarning: Can not start iterating the frames for the initial draw. This can be caused by passing in a 0 length sequence for *frames*.\n",
      "\n",
      "If you passed *frames* as a generator it may be exhausted due to a previous display or save.\n",
      "  warnings.warn(\n"
     ]
    },
    {
     "data": {
      "image/png": "[encoded data removed]",
      "text/plain": [
       "<Figure size 640x480 with 1 Axes>"
      ]
     },
     "metadata": {},
     "output_type": "display_data"
    }
   ],
   "source": [
    "import matplotlib.pyplot as plt\n",
    "import matplotlib.cm as cm\n",
    "import matplotlib.animation as animation\n",
    "\n",
    "pos = 0\n",
    "\n",
    "def generate_data():\n",
    "    global pos, states\n",
    "    to_return = states[-1]\n",
    "    if pos<len(states):\n",
    "        to_return = states[pos]\n",
    "    pos += 4\n",
    "    if pos%100==0:\n",
    "        print(pos)\n",
    "    return to_return\n",
    "\n",
    "def update(data):\n",
    "    mat.set_data(data)\n",
    "    return mat \n",
    "\n",
    "def data_gen():\n",
    "    global pos, states\n",
    "    while pos<len(states)+500:\n",
    "        yield generate_data()\n",
    "\n",
    "fig, ax = plt.subplots()\n",
    "mat = ax.matshow(generate_data())\n",
    "ani = animation.FuncAnimation(fig, update, data_gen, interval=10, save_count=int(round((len(states)+500)/4)))\n",
    "ani.save(\"images/14.mp4\")"
   ]
  },
  {
   "cell_type": "code",
   "execution_count": 18,
   "metadata": {},
   "outputs": [
    {
     "data": {
      "image/png": "[encoded data removed]",
      "text/plain": [
       "<Figure size 640x480 with 1 Axes>"
      ]
     },
     "metadata": {},
     "output_type": "display_data"
    }
   ],
   "source": [
    "import matplotlib.pyplot as plt\n",
    "plt.imshow(states[-1])\n",
    "plt.xticks([])\n",
    "plt.yticks([])\n",
    "plt.savefig(\"images/14.png\")"
   ]
  }
 ],
 "metadata": {
  "kernelspec": {
   "display_name": "aoc",
   "language": "python",
   "name": "python3"
  },
  "language_info": {
   "codemirror_mode": {
    "name": "ipython",
    "version": 3
   },
   "file_extension": ".py",
   "mimetype": "text/x-python",
   "name": "python",
   "nbconvert_exporter": "python",
   "pygments_lexer": "ipython3",
   "version": "3.9.20"
  }
 },
 "nbformat": 4,
 "nbformat_minor": 2
}
