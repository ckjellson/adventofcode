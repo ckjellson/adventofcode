{
 "cells": [
  {
   "cell_type": "code",
   "execution_count": 1,
   "metadata": {},
   "outputs": [],
   "source": [
    "from utils import *\n",
    "import numpy as np\n",
    "from tqdm import tqdm\n",
    "from copy import copy, deepcopy\n",
    "from skimage.measure import label"
   ]
  },
  {
   "cell_type": "markdown",
   "metadata": {},
   "source": [
    "# Parsing"
   ]
  },
  {
   "cell_type": "code",
   "execution_count": 2,
   "metadata": {},
   "outputs": [],
   "source": [
    "def parse(inlines):\n",
    "    return [ints(l) for l in inlines.split(\"\\n\")]\n",
    "\n",
    "ls = parse(open(\"data/input14.txt\").read())\n",
    "w, h = 101, 103"
   ]
  },
  {
   "cell_type": "markdown",
   "metadata": {},
   "source": [
    "# Part 1"
   ]
  },
  {
   "cell_type": "code",
   "execution_count": 3,
   "metadata": {},
   "outputs": [
    {
     "name": "stdout",
     "output_type": "stream",
     "text": [
      "216772608\n"
     ]
    }
   ],
   "source": [
    "nsec = 100\n",
    "ls2 = deepcopy(ls)\n",
    "for sec in range(nsec):\n",
    "    newls = []\n",
    "    for ex in ls2:\n",
    "        px = ex[0]\n",
    "        py = ex[1]\n",
    "        vx = ex[2]\n",
    "        vy = ex[3]\n",
    "        newex = [(px+vx)%w,(py+vy)%h,vx,vy]\n",
    "        newls.append(newex)\n",
    "    ls2 = newls\n",
    "\n",
    "def get_quad(w, h, y, x):\n",
    "    midrow = (h-1)/2\n",
    "    midcol = (w-1)/2\n",
    "    if y<midrow and x<midcol:\n",
    "        return 1\n",
    "    if y>midrow and x<midcol:\n",
    "        return 2\n",
    "    if y<midrow and x>midcol:\n",
    "        return 3\n",
    "    if y>midrow and x>midcol:\n",
    "        return 4\n",
    "    return 0\n",
    "\n",
    "quads = {1:0,2:0,3:0,4:0}\n",
    "for ex in ls2:\n",
    "    px = ex[0]\n",
    "    py = ex[1]\n",
    "    quad = get_quad(w,h,py,px)\n",
    "    if quad>0:\n",
    "        quads[quad] += 1\n",
    "accum = 1\n",
    "for k,v in quads.items():\n",
    "    accum *= v\n",
    "print(accum)"
   ]
  },
  {
   "cell_type": "markdown",
   "metadata": {},
   "source": [
    "# Part 2"
   ]
  },
  {
   "cell_type": "code",
   "execution_count": 4,
   "metadata": {},
   "outputs": [
    {
     "name": "stderr",
     "output_type": "stream",
     "text": [
      "  0%|          | 0/10000 [00:00<?, ?it/s]"
     ]
    },
    {
     "name": "stderr",
     "output_type": "stream",
     "text": [
      " 69%|██████▉   | 6887/10000 [00:46<00:20, 148.49it/s]"
     ]
    },
    {
     "name": "stdout",
     "output_type": "stream",
     "text": [
      "6888\n"
     ]
    },
    {
     "name": "stderr",
     "output_type": "stream",
     "text": [
      "\n"
     ]
    }
   ],
   "source": [
    "nsec = 10000\n",
    "ls2 = deepcopy(ls)\n",
    "quads = None\n",
    "for sec in tqdm(range(nsec)):\n",
    "    newls = []\n",
    "    for ex in ls2:\n",
    "        px = ex[0]\n",
    "        py = ex[1]\n",
    "        vx = ex[2]\n",
    "        vy = ex[3]\n",
    "        newex = [(px+vx)%w,(py+vy)%h,vx,vy]\n",
    "        newls.append(newex)\n",
    "    ls2 = newls\n",
    "    arr = np.zeros((h,w))\n",
    "    for ex in ls2:\n",
    "        px = ex[0]\n",
    "        py = ex[1]\n",
    "        arr[py, px] += 1\n",
    "    conn = label(arr>0, connectivity=1)\n",
    "    counts = []\n",
    "    for v in range(1,np.max(conn)+1):\n",
    "        counts.append(np.sum(conn==v))\n",
    "    maxcount = np.max(counts)\n",
    "    if maxcount > 100:\n",
    "        print(sec+1)\n",
    "        break"
   ]
  },
  {
   "cell_type": "code",
   "execution_count": 10,
   "metadata": {},
   "outputs": [
    {
     "data": {
      "image/png": "[encoded data removed]",
      "text/plain": [
       "<Figure size 640x480 with 1 Axes>"
      ]
     },
     "metadata": {},
     "output_type": "display_data"
    }
   ],
   "source": [
    "import matplotlib.pyplot as plt\n",
    "plt.imshow(arr)\n",
    "plt.xticks([])\n",
    "plt.yticks([])\n",
    "plt.savefig(\"images/14.png\")"
   ]
  }
 ],
 "metadata": {
  "kernelspec": {
   "display_name": "aoc",
   "language": "python",
   "name": "python3"
  },
  "language_info": {
   "codemirror_mode": {
    "name": "ipython",
    "version": 3
   },
   "file_extension": ".py",
   "mimetype": "text/x-python",
   "name": "python",
   "nbconvert_exporter": "python",
   "pygments_lexer": "ipython3",
   "version": "3.9.20"
  }
 },
 "nbformat": 4,
 "nbformat_minor": 2
}
