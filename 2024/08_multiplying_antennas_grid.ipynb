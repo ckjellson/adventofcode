{
 "cells": [
  {
   "cell_type": "code",
   "execution_count": 1,
   "metadata": {},
   "outputs": [],
   "source": [
    "from utils import *\n",
    "import numpy as np"
   ]
  },
  {
   "cell_type": "markdown",
   "metadata": {},
   "source": [
    "# Parsing"
   ]
  },
  {
   "cell_type": "code",
   "execution_count": 2,
   "metadata": {},
   "outputs": [],
   "source": [
    "def get_grids(inlines):\n",
    "    mat = np.array([[c for c in l] for l in inlines.split(\"\\n\")])\n",
    "    c2num = {}\n",
    "    for i, val in enumerate(np.unique(mat)):\n",
    "        c2num[val] = i\n",
    "    num2c = {v: k for k, v in c2num.items()}\n",
    "    matnum = np.zeros(mat.shape)\n",
    "    for c in np.unique(mat):\n",
    "        matnum[mat==c] = c2num[c]\n",
    "    return matnum, mat, c2num, num2c\n",
    "\n",
    "def parse(inlines):\n",
    "    return get_grids(inlines)\n",
    "\n",
    "matnum, mat, c2num, num2c = parse(open(\"data/input8.txt\").read())\n",
    "c2num[\"#\"] = -1"
   ]
  },
  {
   "cell_type": "markdown",
   "metadata": {},
   "source": [
    "# Part 1"
   ]
  },
  {
   "cell_type": "code",
   "execution_count": 3,
   "metadata": {},
   "outputs": [
    {
     "name": "stdout",
     "output_type": "stream",
     "text": [
      "256\n"
     ]
    }
   ],
   "source": [
    "newmat = np.copy(matnum)\n",
    "for k,v in c2num.items():\n",
    "    if v>0:\n",
    "        pos = np.where(matnum==v)\n",
    "        for r1,c1 in zip(pos[0],pos[1]):\n",
    "            for r2,c2 in zip(pos[0],pos[1]):\n",
    "                if r1!=r2 and c1!=c2:\n",
    "                    dy = r1 - r2\n",
    "                    dx = c1 - c2\n",
    "                    newy = r2 + dy*2\n",
    "                    newx = c2 + dx*2\n",
    "                    if 0<=newx and newx<newmat.shape[1] and 0<=newy and newy<newmat.shape[0]:\n",
    "                        newmat[newy, newx] = -1\n",
    "print(np.sum(newmat==-1))"
   ]
  },
  {
   "cell_type": "markdown",
   "metadata": {},
   "source": [
    "# Part 2"
   ]
  },
  {
   "cell_type": "code",
   "execution_count": 4,
   "metadata": {},
   "outputs": [
    {
     "name": "stdout",
     "output_type": "stream",
     "text": [
      "1005\n"
     ]
    }
   ],
   "source": [
    "newmat = np.copy(matnum)\n",
    "for k,v in c2num.items():\n",
    "    if v>0:\n",
    "        pos = np.where(matnum==v)\n",
    "        for r1,c1 in zip(pos[0],pos[1]):\n",
    "            for r2,c2 in zip(pos[0],pos[1]):\n",
    "                if r1!=r2 and c1!=c2:\n",
    "                    dy = r1 - r2\n",
    "                    dx = c1 - c2\n",
    "                    newy = r2 + dy\n",
    "                    newx = c2 + dx\n",
    "                    while 0<=newx and newx<newmat.shape[1] and 0<=newy and newy<newmat.shape[0]:\n",
    "                        if newmat[newy,newx]==0:\n",
    "                            newmat[newy,newx] = 10\n",
    "                        newx += dx\n",
    "                        newy += dy\n",
    "print(np.sum(newmat!=0))"
   ]
  },
  {
   "cell_type": "code",
   "execution_count": null,
   "metadata": {},
   "outputs": [],
   "source": []
  }
 ],
 "metadata": {
  "kernelspec": {
   "display_name": "aoc",
   "language": "python",
   "name": "python3"
  },
  "language_info": {
   "codemirror_mode": {
    "name": "ipython",
    "version": 3
   },
   "file_extension": ".py",
   "mimetype": "text/x-python",
   "name": "python",
   "nbconvert_exporter": "python",
   "pygments_lexer": "ipython3",
   "version": "3.9.20"
  }
 },
 "nbformat": 4,
 "nbformat_minor": 2
}
