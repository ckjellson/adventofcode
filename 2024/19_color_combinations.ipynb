{
 "cells": [
  {
   "cell_type": "code",
   "execution_count": 1,
   "metadata": {},
   "outputs": [],
   "source": [
    "from utils import *\n",
    "import numpy as np\n",
    "from tqdm import tqdm\n",
    "from copy import copy, deepcopy"
   ]
  },
  {
   "cell_type": "markdown",
   "metadata": {},
   "source": [
    "# Parsing"
   ]
  },
  {
   "cell_type": "code",
   "execution_count": 2,
   "metadata": {},
   "outputs": [],
   "source": [
    "def parse(inlines):\n",
    "    return inlines.split(\"\\n\\n\")[0].split(\", \"), inlines.split(\"\\n\\n\")[1].split(\"\\n\")\n",
    "\n",
    "pats, des = parse(open(\"data/input19.txt\").read())"
   ]
  },
  {
   "cell_type": "markdown",
   "metadata": {},
   "source": [
    "# Part 1 & 2"
   ]
  },
  {
   "cell_type": "code",
   "execution_count": 3,
   "metadata": {},
   "outputs": [
    {
     "name": "stderr",
     "output_type": "stream",
     "text": [
      "  0%|          | 0/400 [00:00<?, ?it/s]"
     ]
    },
    {
     "name": "stderr",
     "output_type": "stream",
     "text": [
      "100%|██████████| 400/400 [00:01<00:00, 249.37it/s]"
     ]
    },
    {
     "name": "stdout",
     "output_type": "stream",
     "text": [
      "280\n",
      "606411968721181\n"
     ]
    },
    {
     "name": "stderr",
     "output_type": "stream",
     "text": [
      "\n"
     ]
    }
   ],
   "source": [
    "def get_word(cur, pats, goal, scores):\n",
    "    curstr = \"\".join(cur)\n",
    "    if len(curstr)>=len(goal):\n",
    "        score = 0\n",
    "        if len(curstr)==len(goal) and curstr==goal:\n",
    "            score = 1\n",
    "        scores[curstr] = score\n",
    "        return score\n",
    "    if goal[len(curstr):] in scores:\n",
    "        return scores[goal[len(curstr):]]\n",
    "    acc = 0\n",
    "    for p in pats:\n",
    "        cand = cur + [p]\n",
    "        candstr = \"\".join(cand)\n",
    "        if candstr==goal[:len(candstr)]:\n",
    "            acc += get_word(cand, pats, goal, scores)\n",
    "    return acc\n",
    "\n",
    "accum1 = 0\n",
    "accum2 = 0\n",
    "for d in tqdm(des):\n",
    "    results = []\n",
    "    scores = {}\n",
    "    score = 0\n",
    "    for i in range(len(d)):\n",
    "        score = get_word([], pats, d[-i-1:], scores)\n",
    "        scores[d[-i-1:]] = score\n",
    "    accum2 += score\n",
    "    if score>0:\n",
    "        accum1 += 1\n",
    "print(accum1)\n",
    "print(accum2)"
   ]
  },
  {
   "cell_type": "code",
   "execution_count": null,
   "metadata": {},
   "outputs": [],
   "source": []
  }
 ],
 "metadata": {
  "kernelspec": {
   "display_name": "aoc",
   "language": "python",
   "name": "python3"
  },
  "language_info": {
   "codemirror_mode": {
    "name": "ipython",
    "version": 3
   },
   "file_extension": ".py",
   "mimetype": "text/x-python",
   "name": "python",
   "nbconvert_exporter": "python",
   "pygments_lexer": "ipython3",
   "version": "3.9.20"
  }
 },
 "nbformat": 4,
 "nbformat_minor": 2
}
