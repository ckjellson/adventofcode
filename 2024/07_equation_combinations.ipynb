{
 "cells": [
  {
   "cell_type": "code",
   "execution_count": 1,
   "metadata": {},
   "outputs": [],
   "source": [
    "from utils import *\n",
    "import numpy as np\n",
    "from tqdm import tqdm"
   ]
  },
  {
   "cell_type": "markdown",
   "metadata": {},
   "source": [
    "# Parsing"
   ]
  },
  {
   "cell_type": "code",
   "execution_count": 2,
   "metadata": {},
   "outputs": [],
   "source": [
    "def parse(inlines):\n",
    "    return [(int(l.split(\":\")[0]),ints(l.split(\":\")[1])) for l in inlines.split(\"\\n\")]\n",
    "\n",
    "ls = parse(open(\"data/input7.txt\").read())"
   ]
  },
  {
   "cell_type": "markdown",
   "metadata": {},
   "source": [
    "# Part 1 & 2"
   ]
  },
  {
   "cell_type": "code",
   "execution_count": 3,
   "metadata": {},
   "outputs": [
    {
     "name": "stderr",
     "output_type": "stream",
     "text": [
      "100%|██████████| 850/850 [00:00<00:00, 6944.70it/s]\n"
     ]
    },
    {
     "name": "stdout",
     "output_type": "stream",
     "text": [
      "663613490587\n"
     ]
    },
    {
     "name": "stderr",
     "output_type": "stream",
     "text": [
      "100%|██████████| 850/850 [00:12<00:00, 66.06it/s] "
     ]
    },
    {
     "name": "stdout",
     "output_type": "stream",
     "text": [
      "110365987435001\n"
     ]
    },
    {
     "name": "stderr",
     "output_type": "stream",
     "text": [
      "\n"
     ]
    }
   ],
   "source": [
    "for part in [1,2]:\n",
    "    accum = 0\n",
    "    for v1, vals in tqdm(ls):\n",
    "        results = [vals[0]]\n",
    "        found = False\n",
    "        for i in range(len(vals)-1):\n",
    "            newresults = []\n",
    "            for v in results:\n",
    "                newvals = [v * vals[i+1], v + vals[i+1]]\n",
    "                if part==2:\n",
    "                    newvals.append(eval(str(v)+str(vals[i+1])))\n",
    "                for v_ in newvals:\n",
    "                    if v_==v1:\n",
    "                        accum += v_\n",
    "                        found = True\n",
    "                        break\n",
    "                    if v_<v1:\n",
    "                        newresults.append(v_)\n",
    "                if found:\n",
    "                    break\n",
    "            if found:\n",
    "                break\n",
    "            results = newresults\n",
    "    print(accum)"
   ]
  },
  {
   "cell_type": "code",
   "execution_count": null,
   "metadata": {},
   "outputs": [],
   "source": []
  }
 ],
 "metadata": {
  "kernelspec": {
   "display_name": "aoc",
   "language": "python",
   "name": "python3"
  },
  "language_info": {
   "codemirror_mode": {
    "name": "ipython",
    "version": 3
   },
   "file_extension": ".py",
   "mimetype": "text/x-python",
   "name": "python",
   "nbconvert_exporter": "python",
   "pygments_lexer": "ipython3",
   "version": "3.9.20"
  }
 },
 "nbformat": 4,
 "nbformat_minor": 2
}
