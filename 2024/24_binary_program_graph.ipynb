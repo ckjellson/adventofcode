{
 "cells": [
  {
   "cell_type": "code",
   "execution_count": 1,
   "metadata": {},
   "outputs": [],
   "source": [
    "from utils import *\n",
    "import numpy as np\n",
    "from tqdm import tqdm\n",
    "from copy import copy, deepcopy\n",
    "import graphviz as gv"
   ]
  },
  {
   "cell_type": "markdown",
   "metadata": {},
   "source": [
    "# Parsing"
   ]
  },
  {
   "cell_type": "code",
   "execution_count": 2,
   "metadata": {},
   "outputs": [],
   "source": [
    "def parse(inlines):\n",
    "    a = [(l.split(\": \")[0], int(l.split(\": \")[1])) for l in inlines.split(\"\\n\\n\")[0].split(\"\\n\")]\n",
    "    b = [(l.split(\" \")[0], l.split(\" \")[1], l.split(\" \")[2], l.split(\" \")[4]) for l in inlines.split(\"\\n\\n\")[1].split(\"\\n\")]\n",
    "    return a,b\n",
    "\n",
    "starts, gates = parse(open(\"data/input24.txt\").read())"
   ]
  },
  {
   "cell_type": "markdown",
   "metadata": {},
   "source": [
    "# Part 1"
   ]
  },
  {
   "cell_type": "code",
   "execution_count": 3,
   "metadata": {},
   "outputs": [
    {
     "name": "stdout",
     "output_type": "stream",
     "text": [
      "49430469426918\n"
     ]
    }
   ],
   "source": [
    "strt = {}\n",
    "for code, val in starts:\n",
    "    strt[code] = val\n",
    "changed = True\n",
    "ind = \"\"\n",
    "while changed:\n",
    "    changed = False\n",
    "    for a, op, b, result in gates:\n",
    "        if a in strt and b in strt and result not in strt:\n",
    "            if \"z\" in result:\n",
    "                ind += \"  \"\n",
    "            if op==\"AND\":\n",
    "                strt[result] = int(np.bitwise_and(strt[a], strt[b]))\n",
    "            if op==\"XOR\":\n",
    "                strt[result] = int(np.bitwise_xor(strt[a], strt[b]))\n",
    "            if op==\"OR\":\n",
    "                strt[result] = int(np.bitwise_or(strt[a], strt[b]))\n",
    "            changed = True\n",
    "            break\n",
    "binary = \"\"\n",
    "zs = []\n",
    "for k,v in strt.items():\n",
    "    if \"z\" in k:\n",
    "        zs.append((k, v))\n",
    "zs = sorted(zs, key=lambda x: x[0], reverse=True)\n",
    "decimal = 0\n",
    "for k,v in zs:\n",
    "    decimal = decimal*2 + int(v)\n",
    "print(decimal)"
   ]
  },
  {
   "cell_type": "markdown",
   "metadata": {},
   "source": [
    "# Part 2"
   ]
  },
  {
   "cell_type": "code",
   "execution_count": 4,
   "metadata": {},
   "outputs": [],
   "source": [
    "dot = gv.Digraph()\n",
    "for g in gates:\n",
    "    dot.edge(g[0], g[3], label=g[1])\n",
    "    dot.edge(g[2], g[3], label=g[1])\n",
    "# dot.render(\"newgraph\", format=\"png\", cleanup=True)"
   ]
  },
  {
   "cell_type": "code",
   "execution_count": 5,
   "metadata": {},
   "outputs": [
    {
     "name": "stdout",
     "output_type": "stream",
     "text": [
      "fbq,pbv,qff,qnw,qqp,z16,z23,z36\n"
     ]
    }
   ],
   "source": [
    "# By visual inspection of the graph:\n",
    "swaps = [\"qff\",\n",
    "\"qnw\",\n",
    "\"pbv\",\n",
    "\"z16\",\n",
    "\"qqp\",\n",
    "\"z23\",\n",
    "\"fbq\",\n",
    "\"z36\"]\n",
    "print(\",\".join(sorted(swaps)))"
   ]
  },
  {
   "cell_type": "code",
   "execution_count": null,
   "metadata": {},
   "outputs": [],
   "source": []
  }
 ],
 "metadata": {
  "kernelspec": {
   "display_name": "aoc",
   "language": "python",
   "name": "python3"
  },
  "language_info": {
   "codemirror_mode": {
    "name": "ipython",
    "version": 3
   },
   "file_extension": ".py",
   "mimetype": "text/x-python",
   "name": "python",
   "nbconvert_exporter": "python",
   "pygments_lexer": "ipython3",
   "version": "3.9.20"
  }
 },
 "nbformat": 4,
 "nbformat_minor": 2
}
