{
 "cells": [
  {
   "cell_type": "code",
   "execution_count": 1,
   "metadata": {},
   "outputs": [],
   "source": [
    "from utils import *\n",
    "import numpy as np\n",
    "from tqdm import tqdm\n",
    "from copy import copy, deepcopy\n",
    "import heapq"
   ]
  },
  {
   "cell_type": "markdown",
   "metadata": {},
   "source": [
    "# Parsing"
   ]
  },
  {
   "cell_type": "code",
   "execution_count": 2,
   "metadata": {},
   "outputs": [],
   "source": [
    "def parse(inlines):\n",
    "    return [ints(l) for l in inlines.split(\"\\n\")]\n",
    "\n",
    "ls = parse(open(\"data/input18.txt\").read())\n",
    "dim = 71\n",
    "nbytes = 1024"
   ]
  },
  {
   "cell_type": "markdown",
   "metadata": {},
   "source": [
    "# Part 1"
   ]
  },
  {
   "cell_type": "code",
   "execution_count": 3,
   "metadata": {},
   "outputs": [
    {
     "name": "stdout",
     "output_type": "stream",
     "text": [
      "232\n"
     ]
    }
   ],
   "source": [
    "class Node:\n",
    "    def __init__(self, cost, hist, dir):\n",
    "        self.cost = cost\n",
    "        self.hist = hist\n",
    "        self.dir = dir\n",
    "    def __lt__(self, other):\n",
    "        return self.cost < other.cost\n",
    "\n",
    "def step(dims, grid, curpos, curdir):\n",
    "    newpos = []\n",
    "    for d, c in zip([curdir, turn_left(curdir), turn_right(curdir)], [1, 1, 1]):\n",
    "        if 0<=curpos[0]+d[0]<dims[0] and 0<=curpos[1]+d[1]<dims[1] and grid[curpos[0]+d[0],curpos[1]+d[1]]!=1:\n",
    "            newpos.append(((curpos[0]+d[0], curpos[1]+d[1]), c, d))\n",
    "    return newpos\n",
    "\n",
    "def dijkstra(grid, startpos, goalpos):\n",
    "    q = []\n",
    "    curdir = (0,1)\n",
    "    curstate = startpos\n",
    "    heapq.heappush(q, Node(0, [curstate], curdir))\n",
    "    goal_hists = []\n",
    "    cost_dict = {curstate: 0}\n",
    "    goal_cost = -1\n",
    "\n",
    "    while True:\n",
    "        if not q:\n",
    "            break\n",
    "        curnode = heapq.heappop(q)\n",
    "        curcost = curnode.cost\n",
    "        curhist = curnode.hist\n",
    "        curstate = curhist[-1]\n",
    "        curdir = curnode.dir\n",
    "        if curstate[-1]==goalpos:\n",
    "            break\n",
    "\n",
    "        for newpos, cost, d in step(grid.shape, grid, curstate, curdir):\n",
    "            newstate = newpos\n",
    "            newcost = curcost + cost\n",
    "            if newstate not in cost_dict:\n",
    "                cost_dict[newstate] = newcost\n",
    "                heapq.heappush(q, Node(newcost, curhist + [newstate], d))\n",
    "                if newpos==goalpos:\n",
    "                    if goal_cost<0:\n",
    "                        goal_cost = newcost\n",
    "                    goal_hists.append(curhist + [newstate])\n",
    "\n",
    "    matcop = np.copy(grid)\n",
    "    for hist in goal_hists:\n",
    "        for p,d in hist:\n",
    "            matcop[p] = -1\n",
    "\n",
    "    return goal_cost, int(np.sum(matcop==-1)), matcop\n",
    "\n",
    "accum = 0\n",
    "spos = (0,0)\n",
    "epos = (dim-1, dim-1)\n",
    "grid = np.zeros((dim,dim))\n",
    "\n",
    "for col,row in ls[:nbytes]:\n",
    "    grid[row,col] = 1\n",
    "\n",
    "gc, n, matcop = dijkstra(grid, spos, epos)\n",
    "print(gc)    "
   ]
  },
  {
   "cell_type": "markdown",
   "metadata": {},
   "source": [
    "# Part 2"
   ]
  },
  {
   "cell_type": "code",
   "execution_count": 6,
   "metadata": {},
   "outputs": [
    {
     "name": "stdout",
     "output_type": "stream",
     "text": [
      "44,64\n"
     ]
    }
   ],
   "source": [
    "class Node:\n",
    "    def __init__(self, cost, hist, dir):\n",
    "        self.cost = cost\n",
    "        self.hist = hist\n",
    "        self.dir = dir\n",
    "    def __lt__(self, other):\n",
    "        return self.cost < other.cost\n",
    "\n",
    "def step(dims, grid, curpos, curdir):\n",
    "    newpos = []\n",
    "    for d, c in zip([curdir, turn_left(curdir), turn_right(curdir)], [1, 1, 1]):\n",
    "        if 0<=curpos[0]+d[0]<dims[0] and 0<=curpos[1]+d[1]<dims[1] and grid[curpos[0]+d[0],curpos[1]+d[1]]!=1:\n",
    "            newpos.append(((curpos[0]+d[0], curpos[1]+d[1]), c, d))\n",
    "    return newpos\n",
    "\n",
    "def dijkstra(grid, startpos, goalpos):\n",
    "    q = []\n",
    "    curdir = (0,1)\n",
    "    curstate = startpos\n",
    "    heapq.heappush(q, Node(0, [curstate], curdir))\n",
    "    goal_hists = []\n",
    "    cost_dict = {curstate: 0}\n",
    "    goal_cost = -1\n",
    "    success = False\n",
    "\n",
    "    while True:\n",
    "        if not q:\n",
    "            break\n",
    "        curnode = heapq.heappop(q)\n",
    "        curcost = curnode.cost\n",
    "        curhist = curnode.hist\n",
    "        curstate = curhist[-1]\n",
    "        curdir = curnode.dir\n",
    "        if curstate[-1]==goalpos:\n",
    "            break\n",
    "\n",
    "        for newpos, cost, d in step(grid.shape, grid, curstate, curdir):\n",
    "            newstate = newpos\n",
    "            newcost = curcost + cost\n",
    "            if newstate not in cost_dict:\n",
    "                cost_dict[newstate] = newcost\n",
    "                heapq.heappush(q, Node(newcost, curhist + [newstate], d))\n",
    "                if newpos==goalpos:\n",
    "                    if goal_cost<0:\n",
    "                        goal_cost = newcost\n",
    "                    goal_hists.append(curhist + [newstate])\n",
    "\n",
    "    matcop = np.copy(grid)\n",
    "    for hist in goal_hists:\n",
    "        for p,d in hist:\n",
    "            matcop[p] = -1\n",
    "\n",
    "    return goal_cost, int(np.sum(matcop==-1)), matcop, len(goal_hists)>0\n",
    "\n",
    "accum = 0\n",
    "spos = (0,0)\n",
    "epos = (dim-1, dim-1)\n",
    "nb = nbytes\n",
    "s = True\n",
    "while nb<len(ls) and s:\n",
    "    grid = np.zeros((dim,dim))\n",
    "    for col,row in ls[:nb]:\n",
    "        grid[row,col] = 1\n",
    "    gc, n, matcop, s = dijkstra(grid, spos, epos)\n",
    "    nb += 1\n",
    "print(\",\".join([str(col), str(row)]))"
   ]
  },
  {
   "cell_type": "code",
   "execution_count": null,
   "metadata": {},
   "outputs": [],
   "source": []
  }
 ],
 "metadata": {
  "kernelspec": {
   "display_name": "aoc",
   "language": "python",
   "name": "python3"
  },
  "language_info": {
   "codemirror_mode": {
    "name": "ipython",
    "version": 3
   },
   "file_extension": ".py",
   "mimetype": "text/x-python",
   "name": "python",
   "nbconvert_exporter": "python",
   "pygments_lexer": "ipython3",
   "version": "3.9.20"
  }
 },
 "nbformat": 4,
 "nbformat_minor": 2
}
