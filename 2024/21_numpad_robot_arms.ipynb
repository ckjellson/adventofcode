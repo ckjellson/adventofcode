{
 "cells": [
  {
   "cell_type": "code",
   "execution_count": 1,
   "metadata": {},
   "outputs": [],
   "source": [
    "from utils import *\n",
    "import numpy as np\n",
    "from tqdm import tqdm\n",
    "from copy import copy, deepcopy"
   ]
  },
  {
   "cell_type": "markdown",
   "metadata": {},
   "source": [
    "# Parsing"
   ]
  },
  {
   "cell_type": "code",
   "execution_count": 2,
   "metadata": {},
   "outputs": [],
   "source": [
    "def parse(inlines):\n",
    "    return [[c for c in l] for l in inlines.split(\"\\n\")]\n",
    "\n",
    "ls = parse(open(\"data/input21.txt\").read())"
   ]
  },
  {
   "cell_type": "markdown",
   "metadata": {},
   "source": [
    "# Part 1 & 2"
   ]
  },
  {
   "cell_type": "code",
   "execution_count": 3,
   "metadata": {},
   "outputs": [
    {
     "name": "stdout",
     "output_type": "stream",
     "text": [
      "213536\n",
      "258369757013802\n"
     ]
    }
   ],
   "source": [
    "k1 = np.array([[\"7\",\"8\",\"9\"],\n",
    "                [\"4\",\"5\",\"6\"],\n",
    "                [\"1\",\"2\",\"3\"],\n",
    "                [\" \",\"0\",\"A\"]])\n",
    "k2 = np.array([[\" \", \"^\", \"A\"],\n",
    "                [\"<\",\"v\",\">\"]])\n",
    "\n",
    "def shortestPath(pad, seq, spos):\n",
    "    newseq = []\n",
    "    for i in range(len(seq)):\n",
    "        startpos = spos\n",
    "        if i!=0:\n",
    "            startpos = np.where(pad==seq[i-1])\n",
    "            startpos = (int(startpos[0][0]), int(startpos[1][0]))\n",
    "        endpos = np.where(pad==seq[i])\n",
    "        endpos = (int(endpos[0][0]), int(endpos[1][0]))\n",
    "        gmh = []\n",
    "        drow = endpos[0] - startpos[0]\n",
    "        dcol = endpos[1] - startpos[1]\n",
    "        for i in range(int(np.abs(drow))):\n",
    "            if drow<0:\n",
    "                gmh.append(\"^\")\n",
    "            else:\n",
    "                gmh.append(\"v\")\n",
    "        for i in range(int(np.abs(dcol))):\n",
    "            if dcol>0:\n",
    "                gmh.append(\">\")\n",
    "            else:\n",
    "                gmh.append(\"<\")\n",
    "        if spos[0]==3:\n",
    "            prios = {\"v\": 0, \">\": 0, \"^\": 0, \"<\": 0}\n",
    "            if drow>0 and dcol>0:\n",
    "                prios = {\"v\": 0, \">\": 1}\n",
    "            if drow<0 and dcol>0:\n",
    "                prios = {\"^\": 0, \">\": 1}\n",
    "            if drow<0 and dcol<0:\n",
    "                prios = {\"^\": 1, \"<\": 0}\n",
    "            if drow>0 and dcol<0:\n",
    "                prios = {\"v\": 1, \"<\": 0}\n",
    "            if \"<\" in prios and startpos[0]==3 and endpos[1]==0:\n",
    "                prios[\"<\"]=2\n",
    "            if \"v\" in prios and startpos[1]==0 and endpos[0]==3:\n",
    "                prios[\"v\"]=2\n",
    "            gmh = sorted(gmh, key=lambda x: prios[x])\n",
    "        else:\n",
    "            prios = {\"v\": 0, \">\": 0, \"^\": 0, \"<\": 0}\n",
    "            if drow>0 and dcol>0:\n",
    "                prios = {\"v\": 0, \">\": 1}\n",
    "            if drow<0 and dcol>0:\n",
    "                prios = {\"^\": 0, \">\": 1}\n",
    "            if drow<0 and dcol<0:\n",
    "                prios = {\"^\": 1, \"<\": 0}\n",
    "            if drow>0 and dcol<0:\n",
    "                prios = {\"v\": 1, \"<\": 0}\n",
    "            if \"<\" in prios and startpos[0]==0 and endpos[1]==0:\n",
    "                prios[\"<\"]=2\n",
    "            if \"^\" in prios and startpos[1]==0 and endpos[0]==0:\n",
    "                prios[\"^\"]=2\n",
    "            gmh = sorted(gmh, key=lambda x: prios[x])\n",
    "        newseq = newseq + gmh + [\"A\"]\n",
    "    return newseq\n",
    "\n",
    "results = {\"\".join(l): [] for l in ls}\n",
    "for nrobs in [2,25]:\n",
    "    accum = 0\n",
    "    for l in ls:\n",
    "        curpath = deepcopy(l)\n",
    "        curpath = shortestPath(k1, curpath, (3,2))\n",
    "        moves = {}\n",
    "        for l_ in \"\".join(curpath).split(\"A\")[:-1]:\n",
    "            move = l_ + \"A\"\n",
    "            if move not in moves:\n",
    "                moves[move] = 1\n",
    "            else:\n",
    "                moves[move] += 1\n",
    "        for _ in range(nrobs):\n",
    "            newmoves = {}\n",
    "            for m, v in moves.items():\n",
    "                mvs = \"\".join(shortestPath(k2, m, (0,2))).split(\"A\")[:-1]\n",
    "                for l_ in mvs:\n",
    "                    move = l_ + \"A\"\n",
    "                    if move not in newmoves:\n",
    "                        newmoves[move] = v\n",
    "                    else:\n",
    "                        newmoves[move] += v\n",
    "            moves = newmoves\n",
    "        pathlen = 0\n",
    "        for m, v in moves.items():\n",
    "            pathlen += len(m)*v\n",
    "        accum += pathlen * ints(\"\".join(l))[0]\n",
    "    print(accum)"
   ]
  },
  {
   "cell_type": "code",
   "execution_count": null,
   "metadata": {},
   "outputs": [],
   "source": []
  }
 ],
 "metadata": {
  "kernelspec": {
   "display_name": "aoc",
   "language": "python",
   "name": "python3"
  },
  "language_info": {
   "codemirror_mode": {
    "name": "ipython",
    "version": 3
   },
   "file_extension": ".py",
   "mimetype": "text/x-python",
   "name": "python",
   "nbconvert_exporter": "python",
   "pygments_lexer": "ipython3",
   "version": "3.9.20"
  }
 },
 "nbformat": 4,
 "nbformat_minor": 2
}
