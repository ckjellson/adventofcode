{
 "cells": [
  {
   "cell_type": "code",
   "execution_count": 1,
   "metadata": {},
   "outputs": [],
   "source": [
    "from utils import *\n",
    "import numpy as np\n",
    "from tqdm import tqdm\n",
    "import heapq\n",
    "from copy import copy, deepcopy"
   ]
  },
  {
   "cell_type": "markdown",
   "metadata": {},
   "source": [
    "# Parsing"
   ]
  },
  {
   "cell_type": "code",
   "execution_count": null,
   "metadata": {},
   "outputs": [],
   "source": [
    "def get_grids(inlines, c2num=None):\n",
    "    mat = np.array([[c for c in l] for l in inlines.split(\"\\n\")])\n",
    "    if c2num is None:\n",
    "        c2num = {}\n",
    "        for i,c in enumerate(np.unique(mat)):\n",
    "            c2num[str(c)] = i\n",
    "    num2c = {v: k for k, v in c2num.items()}\n",
    "    matnum = np.zeros(mat.shape)\n",
    "    for k,v in c2num.items():\n",
    "        matnum[mat==k] = v\n",
    "    return matnum, mat, c2num, num2c\n",
    "\n",
    "dirs = [(0,1),(1,0),(-1,0),(0,-1)]\n",
    "\n",
    "def parse(inlines):\n",
    "    return get_grids(inlines)\n",
    "\n",
    "matnum, mat, c2num, num2c = parse(open(\"data/input20.txt\").read())"
   ]
  },
  {
   "cell_type": "markdown",
   "metadata": {},
   "source": [
    "# Part 1 & 2"
   ]
  },
  {
   "cell_type": "code",
   "execution_count": 50,
   "metadata": {},
   "outputs": [
    {
     "name": "stderr",
     "output_type": "stream",
     "text": [
      "100%|██████████| 9429/9429 [00:48<00:00, 193.09it/s]\n"
     ]
    },
    {
     "name": "stdout",
     "output_type": "stream",
     "text": [
      "1511\n"
     ]
    },
    {
     "name": "stderr",
     "output_type": "stream",
     "text": [
      "100%|██████████| 9429/9429 [00:55<00:00, 168.95it/s]"
     ]
    },
    {
     "name": "stdout",
     "output_type": "stream",
     "text": [
      "1020507\n"
     ]
    },
    {
     "name": "stderr",
     "output_type": "stream",
     "text": [
      "\n"
     ]
    }
   ],
   "source": [
    "spos = np.where(mat==\"S\")\n",
    "epos = np.where(mat==\"E\")\n",
    "spos = (int(spos[0][0]), int(spos[1][0]))\n",
    "epos = (int(epos[0][0]), int(epos[1][0]))\n",
    "matcop = np.copy(mat)\n",
    "matcop[spos] = \".\"\n",
    "matcop[epos] = \".\"\n",
    "\n",
    "# Get positions and costs\n",
    "curpos = deepcopy(spos)\n",
    "cost = 0\n",
    "pos2cost = {curpos: cost}\n",
    "while curpos!=epos:\n",
    "    for d in dirs:\n",
    "        newpos = (curpos[0]+d[0], curpos[1]+d[1])\n",
    "        if matcop[newpos]==\".\" and newpos not in pos2cost:\n",
    "            cost += 1\n",
    "            pos2cost[newpos] = cost\n",
    "            curpos = newpos\n",
    "            break\n",
    "for cheatlen in [2,20]:\n",
    "    path = np.where(matcop==\".\")\n",
    "    accum = 0\n",
    "    for p1 in tqdm(pos2cost.keys()):\n",
    "        for row,col in zip(path[0], path[1]):\n",
    "            curcheatlen = (abs(row-p1[0])+abs(col-p1[1]))\n",
    "            if curcheatlen<=cheatlen:\n",
    "                if pos2cost[(row,col)]-pos2cost[p1]-curcheatlen>=100:\n",
    "                    accum += 1\n",
    "    print(accum)"
   ]
  }
 ],
 "metadata": {
  "kernelspec": {
   "display_name": "aoc",
   "language": "python",
   "name": "python3"
  },
  "language_info": {
   "codemirror_mode": {
    "name": "ipython",
    "version": 3
   },
   "file_extension": ".py",
   "mimetype": "text/x-python",
   "name": "python",
   "nbconvert_exporter": "python",
   "pygments_lexer": "ipython3",
   "version": "3.9.20"
  }
 },
 "nbformat": 4,
 "nbformat_minor": 2
}
