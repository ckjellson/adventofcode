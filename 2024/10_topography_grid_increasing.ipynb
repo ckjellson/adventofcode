{
 "cells": [
  {
   "cell_type": "code",
   "execution_count": 1,
   "metadata": {},
   "outputs": [],
   "source": [
    "from utils import *\n",
    "import numpy as np\n",
    "from tqdm import tqdm\n",
    "from copy import deepcopy\n",
    "import heapq"
   ]
  },
  {
   "cell_type": "markdown",
   "metadata": {},
   "source": [
    "# Parsing"
   ]
  },
  {
   "cell_type": "code",
   "execution_count": 2,
   "metadata": {},
   "outputs": [],
   "source": [
    "def get_grid(inlines):\n",
    "    mat = np.array([[float(c) for c in l] for l in inlines.split(\"\\n\")])\n",
    "    return mat\n",
    "alldirs = [(0,1),(1,1),(1,0),(-1,0),(-1,-1),(0,-1),(-1,1),(1,-1)]\n",
    "dirs = [(0,1),(1,0),(-1,0),(0,-1)]\n",
    "\n",
    "def parse(inlines):\n",
    "    return get_grid(inlines)\n",
    "\n",
    "ls = parse(open(\"data/input10.txt\").read())"
   ]
  },
  {
   "cell_type": "markdown",
   "metadata": {},
   "source": [
    "# Part 1"
   ]
  },
  {
   "cell_type": "code",
   "execution_count": 3,
   "metadata": {},
   "outputs": [
    {
     "name": "stderr",
     "output_type": "stream",
     "text": [
      "259it [00:42,  6.05it/s]\n"
     ]
    },
    {
     "data": {
      "text/plain": [
       "629"
      ]
     },
     "execution_count": 3,
     "metadata": {},
     "output_type": "execute_result"
    }
   ],
   "source": [
    "class Node:\n",
    "    def __init__(self, cost, ind):\n",
    "        self.ind = ind\n",
    "        self.cost = cost\n",
    "    def __lt__(self, other):\n",
    "        return self.cost < other.cost\n",
    "\n",
    "def step(dims, grid, curpos):\n",
    "    newpos = []\n",
    "    for d in dirs:\n",
    "        if 0<=curpos[0]+d[0]<dims[0] and 0<=curpos[1]+d[1]<dims[1] and grid[curpos[0]+d[0],curpos[1]+d[1]]==grid[curpos[0],curpos[1]]+1:\n",
    "            newpos.append((curpos[0]+d[0], curpos[1]+d[1]))\n",
    "    return newpos\n",
    "\n",
    "def dijkstra(grid, startpos, goalpos):\n",
    "    state2ind = {}\n",
    "    state2ind[startpos] = 0\n",
    "    nnodes = 1\n",
    "    for i in range(grid.shape[0]):\n",
    "        for j in range(grid.shape[1]):\n",
    "            if (i,j)!=startpos:\n",
    "                state2ind[(i,j)] = nnodes\n",
    "                nnodes += 1\n",
    "    ind2state = {v:k for k,v in state2ind.items()}\n",
    "\n",
    "    q = []\n",
    "    curstate = startpos\n",
    "    heapq.heappush(q, Node(0, state2ind[curstate]))\n",
    "    amap = {state2ind[curstate]: 0}\n",
    "    visited = [False]*nnodes\n",
    "    visited[state2ind[curstate]] = True\n",
    "\n",
    "    for i in range(nnodes):\n",
    "        if not q:\n",
    "            break\n",
    "        curnode = heapq.heappop(q)\n",
    "        while visited[curnode.ind]:\n",
    "            if not q:\n",
    "                break\n",
    "            curnode = heapq.heappop(q)\n",
    "        curind = curnode.ind\n",
    "        curcost = curnode.cost\n",
    "        curstate = ind2state[curind]\n",
    "        visited[state2ind[curstate]] = True\n",
    "        for newstate in step(grid.shape, grid, curstate):\n",
    "            newind = state2ind[newstate]\n",
    "            if visited[newind]==False:\n",
    "                newcost = curcost + 1\n",
    "                if newind not in amap:\n",
    "                    amap[newind] = newcost\n",
    "                else:\n",
    "                    if newcost<amap[newind]:\n",
    "                        amap[newind] = newcost\n",
    "                heapq.heappush(q, Node(newcost, newind))\n",
    "    \n",
    "    mincost = float('inf')\n",
    "    for nodeind, nodecost in amap.items():\n",
    "        if ind2state[nodeind]==goalpos:\n",
    "            if nodecost<mincost:\n",
    "                mincost = nodecost\n",
    "    return mincost\n",
    "\n",
    "stpos = np.where(ls==0)\n",
    "epos = np.where(ls==9)\n",
    "accum = 0\n",
    "for x1,y1 in tqdm(zip(stpos[0],stpos[1])):\n",
    "    acc = 0\n",
    "    for x2,y2 in zip(epos[0],epos[1]):\n",
    "        mincost = dijkstra(ls, (x1,y1), (x2,y2))\n",
    "        if mincost<float('inf'):\n",
    "            acc += 1\n",
    "    accum += acc\n",
    "accum"
   ]
  },
  {
   "cell_type": "markdown",
   "metadata": {},
   "source": [
    "# Part 2"
   ]
  },
  {
   "cell_type": "code",
   "execution_count": 4,
   "metadata": {},
   "outputs": [
    {
     "name": "stderr",
     "output_type": "stream",
     "text": [
      "259it [00:00, 5081.18it/s]\n"
     ]
    },
    {
     "data": {
      "text/plain": [
       "1242"
      ]
     },
     "execution_count": 4,
     "metadata": {},
     "output_type": "execute_result"
    }
   ],
   "source": [
    "class Node:\n",
    "    def __init__(self, cost, ind):\n",
    "        self.ind = ind\n",
    "        self.cost = cost\n",
    "    def __lt__(self, other):\n",
    "        return self.cost < other.cost\n",
    "\n",
    "def step(dims, grid, curpos, occ):\n",
    "    newpos = []\n",
    "    for d in dirs:\n",
    "        if 0<=curpos[0]+d[0]<dims[0] and 0<=curpos[1]+d[1]<dims[1] and grid[curpos[0]+d[0],curpos[1]+d[1]]==grid[curpos[0],curpos[1]]+1:# and occ[curpos[0]+d[0],curpos[1]+d[1]]!=1:\n",
    "            newpos.append((curpos[0]+d[0], curpos[1]+d[1]))\n",
    "    return newpos\n",
    "\n",
    "\n",
    "def findnpaths(grid, cpos, accum, occ):\n",
    "    occcop = np.copy(occ)\n",
    "    occcop[cpos] = 1\n",
    "    newpos = step(grid.shape, grid, cpos, occcop)\n",
    "    for p in newpos:\n",
    "        if grid[p]==9:\n",
    "            accum += [1]\n",
    "        else:\n",
    "            findnpaths(grid, p, accum, occcop)\n",
    "\n",
    "stpos = np.where(ls==0)\n",
    "accum = 0\n",
    "for x1,y1 in tqdm(zip(stpos[0],stpos[1])):\n",
    "    npaths = []\n",
    "    occ = np.zeros(ls.shape)\n",
    "    occ[y1,x1] = 1\n",
    "    findnpaths(ls, (x1,y1), npaths, occ)\n",
    "    accum += np.sum(npaths)\n",
    "int(round(accum))"
   ]
  },
  {
   "cell_type": "code",
   "execution_count": null,
   "metadata": {},
   "outputs": [],
   "source": []
  }
 ],
 "metadata": {
  "kernelspec": {
   "display_name": "aoc",
   "language": "python",
   "name": "python3"
  },
  "language_info": {
   "codemirror_mode": {
    "name": "ipython",
    "version": 3
   },
   "file_extension": ".py",
   "mimetype": "text/x-python",
   "name": "python",
   "nbconvert_exporter": "python",
   "pygments_lexer": "ipython3",
   "version": "3.9.20"
  }
 },
 "nbformat": 4,
 "nbformat_minor": 2
}
