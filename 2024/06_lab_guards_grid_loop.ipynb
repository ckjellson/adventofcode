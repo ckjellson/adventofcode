{
 "cells": [
  {
   "cell_type": "code",
   "execution_count": 1,
   "metadata": {},
   "outputs": [],
   "source": [
    "from utils import *\n",
    "import numpy as np\n",
    "from copy import deepcopy\n",
    "from tqdm import tqdm"
   ]
  },
  {
   "cell_type": "markdown",
   "metadata": {},
   "source": [
    "# Parsing"
   ]
  },
  {
   "cell_type": "code",
   "execution_count": 2,
   "metadata": {},
   "outputs": [],
   "source": [
    "def get_grids(inlines, c2num):\n",
    "    mat = np.array([[c for c in l] for l in inlines.split(\"\\n\")])\n",
    "    matnum = np.zeros(mat.shape)\n",
    "    for c in np.unique(mat):\n",
    "        matnum[mat==c] = c2num[c]\n",
    "    return matnum, mat\n",
    "\n",
    "c2num = {\".\": 0, \"#\": 1, \"^\": 2}\n",
    "num2c = {v: k for k, v in c2num.items()}\n",
    "alldirs = [(0,1),(1,1),(1,0),(-1,0),(-1,-1),(0,-1),(-1,1),(1,-1)]\n",
    "dirs = [(0,1),(1,0),(-1,0),(0,-1)]\n",
    "\n",
    "def parse(inlines):\n",
    "    return get_grids(inlines, c2num)\n",
    "\n",
    "matnum, mat = parse(open(\"data/input6.txt\").read())"
   ]
  },
  {
   "cell_type": "markdown",
   "metadata": {},
   "source": [
    "# Part 1 & 2"
   ]
  },
  {
   "cell_type": "code",
   "execution_count": 3,
   "metadata": {},
   "outputs": [
    {
     "name": "stdout",
     "output_type": "stream",
     "text": [
      "4454\n"
     ]
    },
    {
     "name": "stderr",
     "output_type": "stream",
     "text": [
      "0it [00:00, ?it/s]"
     ]
    },
    {
     "name": "stderr",
     "output_type": "stream",
     "text": [
      "4454it [00:37, 118.09it/s]"
     ]
    },
    {
     "name": "stdout",
     "output_type": "stream",
     "text": [
      "1503\n"
     ]
    },
    {
     "name": "stderr",
     "output_type": "stream",
     "text": [
      "\n"
     ]
    }
   ],
   "source": [
    "def turn_right(dir):\n",
    "    if dir==(-1,0):\n",
    "        return (0,1)\n",
    "    if dir==(1,0):\n",
    "        return (0,-1)\n",
    "    if dir==(0,1):\n",
    "        return (1,0)\n",
    "    if dir==(0,-1):\n",
    "        return (-1,0)\n",
    "\n",
    "startpos = np.where(matnum==2)\n",
    "matnum[matnum==2] = 0\n",
    "startpos = (int(startpos[0][0]), int(startpos[1][0]))\n",
    "matcop = np.copy(matnum)\n",
    "curpos = deepcopy(startpos)\n",
    "matcop[curpos] = 3\n",
    "curdir = (-1,0)\n",
    "turns = 0\n",
    "while True:\n",
    "    newpos = (curpos[0]+curdir[0], curpos[1]+curdir[1])\n",
    "    if not (newpos[0]>=0 and newpos[0]<matnum.shape[0] and newpos[1]>=0 and newpos[1]<matnum.shape[1]):\n",
    "        break\n",
    "    if matnum[newpos]==1:\n",
    "        curdir = turn_right(curdir)\n",
    "    newpos = (curpos[0]+curdir[0], curpos[1]+curdir[1])\n",
    "    if not (newpos[0]>=0 and newpos[0]<matnum.shape[0] and newpos[1]>=0 and newpos[1]<matnum.shape[1]):\n",
    "        break\n",
    "    curpos = newpos\n",
    "    matcop[curpos] = 3\n",
    "print(np.sum(matcop==3))\n",
    "\n",
    "cands = np.where(matcop==3)\n",
    "accum = 0\n",
    "nplots = 0\n",
    "for i,j in tqdm(zip(cands[0], cands[1])):\n",
    "    if (i,j)==startpos:\n",
    "        continue\n",
    "    matcop = np.copy(matnum)\n",
    "    matn = np.copy(matnum)\n",
    "    matn[i,j] = 1\n",
    "    curpos = deepcopy(startpos)\n",
    "    matcop[curpos] = 3\n",
    "    curdir = (-1,0)\n",
    "    allcombs = set()\n",
    "    iters = 0\n",
    "    while True:\n",
    "        allcombs.add((curdir,curpos))\n",
    "        ended = False\n",
    "        while True:\n",
    "            newpos = (curpos[0]+curdir[0], curpos[1]+curdir[1])\n",
    "            if not (newpos[0]>=0 and newpos[0]<matn.shape[0] and newpos[1]>=0 and newpos[1]<matn.shape[1]):\n",
    "                ended = True\n",
    "                break\n",
    "            if matn[newpos]==1:\n",
    "                curdir = turn_right(curdir)\n",
    "            else:\n",
    "                break\n",
    "        if ended:\n",
    "            break\n",
    "        newpos = (curpos[0]+curdir[0], curpos[1]+curdir[1])\n",
    "        if not (newpos[0]>=0 and newpos[0]<matn.shape[0] and newpos[1]>=0 and newpos[1]<matn.shape[1]):\n",
    "            break\n",
    "        curpos = newpos\n",
    "        matcop[curpos] = 3\n",
    "        iters += 1\n",
    "        if (curdir,curpos) in allcombs:\n",
    "            accum += 1\n",
    "            matcop[i,j] = 4\n",
    "            nplots += 1\n",
    "            break\n",
    "print(accum)"
   ]
  },
  {
   "cell_type": "code",
   "execution_count": null,
   "metadata": {},
   "outputs": [],
   "source": []
  }
 ],
 "metadata": {
  "kernelspec": {
   "display_name": "aoc",
   "language": "python",
   "name": "python3"
  },
  "language_info": {
   "codemirror_mode": {
    "name": "ipython",
    "version": 3
   },
   "file_extension": ".py",
   "mimetype": "text/x-python",
   "name": "python",
   "nbconvert_exporter": "python",
   "pygments_lexer": "ipython3",
   "version": "3.9.20"
  }
 },
 "nbformat": 4,
 "nbformat_minor": 2
}
